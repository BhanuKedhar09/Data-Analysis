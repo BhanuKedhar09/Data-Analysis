{
 "cells": [
  {
   "cell_type": "code",
   "execution_count": 1,
   "metadata": {},
   "outputs": [
    {
     "name": "stdout",
     "output_type": "stream",
     "text": [
      "\u001b[33mWARNING: Ignoring invalid distribution ~andas (/opt/homebrew/lib/python3.11/site-packages)\u001b[0m\u001b[33m\n",
      "\u001b[0m\u001b[33mWARNING: Ignoring invalid distribution ~andas (/opt/homebrew/lib/python3.11/site-packages)\u001b[0m\u001b[33m\n",
      "\u001b[0mCollecting pandas\n",
      "  Using cached pandas-2.0.1-cp311-cp311-macosx_11_0_arm64.whl (10.7 MB)\n",
      "Requirement already satisfied: python-dateutil>=2.8.2 in /Users/bhanukedhar/Library/Python/3.11/lib/python/site-packages (from pandas) (2.8.2)\n",
      "Requirement already satisfied: pytz>=2020.1 in /opt/homebrew/lib/python3.11/site-packages (from pandas) (2023.3)\n",
      "Requirement already satisfied: tzdata>=2022.1 in /opt/homebrew/lib/python3.11/site-packages (from pandas) (2023.3)\n",
      "Requirement already satisfied: numpy>=1.21.0 in /opt/homebrew/lib/python3.11/site-packages (from pandas) (1.24.2)\n",
      "Requirement already satisfied: six>=1.5 in /Users/bhanukedhar/Library/Python/3.11/lib/python/site-packages (from python-dateutil>=2.8.2->pandas) (1.16.0)\n",
      "\u001b[33mWARNING: Ignoring invalid distribution ~andas (/opt/homebrew/lib/python3.11/site-packages)\u001b[0m\u001b[33m\n",
      "\u001b[0mInstalling collected packages: pandas\n",
      "\u001b[33mWARNING: Ignoring invalid distribution ~andas (/opt/homebrew/lib/python3.11/site-packages)\u001b[0m\u001b[33m\n",
      "\u001b[0m\u001b[31mERROR: pip's dependency resolver does not currently take into account all the packages that are installed. This behaviour is the source of the following dependency conflicts.\n",
      "modin 0.20.1 requires pandas==1.5.3, but you have pandas 2.0.1 which is incompatible.\u001b[0m\u001b[31m\n",
      "\u001b[0mSuccessfully installed pandas\n",
      "\u001b[33mWARNING: Ignoring invalid distribution ~andas (/opt/homebrew/lib/python3.11/site-packages)\u001b[0m\u001b[33m\n",
      "\u001b[0m\u001b[33mWARNING: Ignoring invalid distribution ~andas (/opt/homebrew/lib/python3.11/site-packages)\u001b[0m\u001b[33m\n",
      "\u001b[0m\u001b[33mWARNING: Ignoring invalid distribution ~andas (/opt/homebrew/lib/python3.11/site-packages)\u001b[0m\u001b[33m\n",
      "\u001b[0m"
     ]
    }
   ],
   "source": [
    "!pip3 install --upgrade pandas"
   ]
  },
  {
   "cell_type": "code",
   "execution_count": 2,
   "metadata": {},
   "outputs": [],
   "source": [
    "import geopandas as gpd\n",
    "import pandas as pd\n",
    "import json\n",
    "import matplotlib\n",
    "import matplotlib.pyplot as plt"
   ]
  },
  {
   "cell_type": "markdown",
   "metadata": {},
   "source": [
    "## 1. Data Ingest and Cleaning"
   ]
  },
  {
   "cell_type": "code",
   "execution_count": 3,
   "metadata": {},
   "outputs": [],
   "source": [
    "\n",
    "cas = gpd.read_file('Boundaries - Community Areas (current).geojson')\n",
    "with open(\"station_information.json\", \"r\") as f:\n",
    "    stations_data = json.load(f)\n",
    "stations = pd.DataFrame(stations_data[\"data\"][\"stations\"])\n",
    "trips = pd.read_csv(\"202207-divvy-tripdata.csv\")"
   ]
  },
  {
   "cell_type": "code",
   "execution_count": 4,
   "metadata": {},
   "outputs": [],
   "source": [
    "cas = cas.rename(columns={\"area_numbe\" : \"area_number\"})\n",
    "cas[\"area_number\"] = cas[\"area_number\"].astype(\"int\")"
   ]
  },
  {
   "cell_type": "code",
   "execution_count": 5,
   "metadata": {},
   "outputs": [],
   "source": [
    "geo = gpd.points_from_xy(stations[\"lon\"], stations[\"lat\"], crs = \"EPSG:4326\")\n",
    "stations = gpd.GeoDataFrame(stations, geometry=geo)\n"
   ]
  },
  {
   "cell_type": "code",
   "execution_count": 6,
   "metadata": {},
   "outputs": [],
   "source": [
    "trips[\"started_at\"] = pd.to_datetime(trips[\"started_at\"])\n",
    "trips[\"ended_at\"] = pd.to_datetime(trips[\"ended_at\"])\n",
    "\n",
    "start_point = gpd.points_from_xy(trips[\"start_lng\"], trips[\"start_lat\"], crs = \"EPSG:4326\")\n",
    "end_point = gpd.points_from_xy(trips[\"end_lng\"], trips[\"end_lat\"], crs = \"EPSG:4326\")\n",
    "\n",
    "trips = gpd.GeoDataFrame(trips, geometry=start_point)\n"
   ]
  },
  {
   "cell_type": "code",
   "execution_count": 7,
   "metadata": {},
   "outputs": [],
   "source": [
    "# trips- geopandas, stations- geopandas, cas - geopandas\n",
    "# cas.plot(), stations.plot(), trips.plot()\n"
   ]
  },
  {
   "cell_type": "markdown",
   "metadata": {},
   "source": [
    "## 2. Spatial Aggregation"
   ]
  },
  {
   "cell_type": "markdown",
   "metadata": {},
   "source": [
    "### a. Spatial Join  \n",
    "### b. Add CAs to Trips"
   ]
  },
  {
   "cell_type": "code",
   "execution_count": 8,
   "metadata": {},
   "outputs": [],
   "source": [
    "trips_start_point = gpd.GeoDataFrame(trips, geometry=start_point)\n",
    "trips_end_point = gpd.GeoDataFrame(trips, geometry= end_point)"
   ]
  },
  {
   "cell_type": "code",
   "execution_count": 9,
   "metadata": {},
   "outputs": [],
   "source": [
    "start_point_community_area = gpd.sjoin(trips_start_point, cas[[\"geometry\", \"area_number\", \"community\"]], predicate=\"within\")\n",
    "end_point_community_area = gpd.sjoin(trips_end_point, cas[[\"geometry\", \"area_number\", \"community\"]], predicate= \"within\")"
   ]
  },
  {
   "cell_type": "code",
   "execution_count": 10,
   "metadata": {},
   "outputs": [],
   "source": [
    "start_point_community_area = start_point_community_area.rename(columns={\"area_number\" : \"start_ca_num\"})\n",
    "end_point_community_area = end_point_community_area.rename(columns = {\"area_number\" : \"end_ca_num\"})"
   ]
  },
  {
   "cell_type": "code",
   "execution_count": 11,
   "metadata": {},
   "outputs": [],
   "source": [
    "start_point_community_area = start_point_community_area.drop(columns='index_right')\n",
    "end_point_community_area = end_point_community_area.drop(columns='index_right')"
   ]
  },
  {
   "cell_type": "code",
   "execution_count": 12,
   "metadata": {},
   "outputs": [
    {
     "data": {
      "text/html": [
       "<div>\n",
       "<style scoped>\n",
       "    .dataframe tbody tr th:only-of-type {\n",
       "        vertical-align: middle;\n",
       "    }\n",
       "\n",
       "    .dataframe tbody tr th {\n",
       "        vertical-align: top;\n",
       "    }\n",
       "\n",
       "    .dataframe thead th {\n",
       "        text-align: right;\n",
       "    }\n",
       "</style>\n",
       "<table border=\"1\" class=\"dataframe\">\n",
       "  <thead>\n",
       "    <tr style=\"text-align: right;\">\n",
       "      <th></th>\n",
       "      <th>ride_id</th>\n",
       "      <th>rideable_type</th>\n",
       "      <th>started_at</th>\n",
       "      <th>ended_at</th>\n",
       "      <th>start_station_name</th>\n",
       "      <th>start_station_id</th>\n",
       "      <th>end_station_name</th>\n",
       "      <th>end_station_id</th>\n",
       "      <th>start_lat</th>\n",
       "      <th>start_lng</th>\n",
       "      <th>end_lat</th>\n",
       "      <th>end_lng</th>\n",
       "      <th>member_casual</th>\n",
       "      <th>geometry</th>\n",
       "      <th>start_ca_num</th>\n",
       "      <th>community_left</th>\n",
       "      <th>end_ca_num</th>\n",
       "      <th>community_right</th>\n",
       "    </tr>\n",
       "  </thead>\n",
       "  <tbody>\n",
       "    <tr>\n",
       "      <th>200</th>\n",
       "      <td>82D5A9B008FEFCE6</td>\n",
       "      <td>docked_bike</td>\n",
       "      <td>2022-07-15 15:23:43</td>\n",
       "      <td>2022-07-15 15:56:17</td>\n",
       "      <td>Stetson Ave &amp; South Water St</td>\n",
       "      <td>TA1308000029</td>\n",
       "      <td>Shedd Aquarium</td>\n",
       "      <td>15544</td>\n",
       "      <td>41.886835</td>\n",
       "      <td>-87.622320</td>\n",
       "      <td>41.867226</td>\n",
       "      <td>-87.615355</td>\n",
       "      <td>casual</td>\n",
       "      <td>POINT (-87.61535 41.86723)</td>\n",
       "      <td>32.0</td>\n",
       "      <td>LOOP</td>\n",
       "      <td>33.0</td>\n",
       "      <td>NEAR SOUTH SIDE</td>\n",
       "    </tr>\n",
       "    <tr>\n",
       "      <th>201</th>\n",
       "      <td>D4859616FF0A9CA7</td>\n",
       "      <td>classic_bike</td>\n",
       "      <td>2022-07-10 11:20:04</td>\n",
       "      <td>2022-07-10 11:44:51</td>\n",
       "      <td>Adler Planetarium</td>\n",
       "      <td>13431</td>\n",
       "      <td>Shedd Aquarium</td>\n",
       "      <td>15544</td>\n",
       "      <td>41.866095</td>\n",
       "      <td>-87.607267</td>\n",
       "      <td>41.867226</td>\n",
       "      <td>-87.615355</td>\n",
       "      <td>member</td>\n",
       "      <td>POINT (-87.61536 41.86723)</td>\n",
       "      <td>33.0</td>\n",
       "      <td>NEAR SOUTH SIDE</td>\n",
       "      <td>33.0</td>\n",
       "      <td>NEAR SOUTH SIDE</td>\n",
       "    </tr>\n",
       "    <tr>\n",
       "      <th>202</th>\n",
       "      <td>6647639132ADAF83</td>\n",
       "      <td>electric_bike</td>\n",
       "      <td>2022-07-22 17:29:30</td>\n",
       "      <td>2022-07-22 17:42:01</td>\n",
       "      <td>Narragansett &amp; Irving Park</td>\n",
       "      <td>323</td>\n",
       "      <td>Mulligan Ave &amp; Wellington Ave</td>\n",
       "      <td>351</td>\n",
       "      <td>41.950000</td>\n",
       "      <td>-87.790000</td>\n",
       "      <td>41.930000</td>\n",
       "      <td>-87.780000</td>\n",
       "      <td>member</td>\n",
       "      <td>POINT (-87.78000 41.93000)</td>\n",
       "      <td>17.0</td>\n",
       "      <td>DUNNING</td>\n",
       "      <td>19.0</td>\n",
       "      <td>BELMONT CRAGIN</td>\n",
       "    </tr>\n",
       "    <tr>\n",
       "      <th>203</th>\n",
       "      <td>8F704DC5197EEF6A</td>\n",
       "      <td>classic_bike</td>\n",
       "      <td>2022-07-16 10:01:52</td>\n",
       "      <td>2022-07-16 10:10:18</td>\n",
       "      <td>Halsted St &amp; Dickens Ave</td>\n",
       "      <td>13192</td>\n",
       "      <td>Sedgwick St &amp; North Ave</td>\n",
       "      <td>TA1307000038</td>\n",
       "      <td>41.919936</td>\n",
       "      <td>-87.648830</td>\n",
       "      <td>41.911386</td>\n",
       "      <td>-87.638677</td>\n",
       "      <td>member</td>\n",
       "      <td>POINT (-87.63868 41.91139)</td>\n",
       "      <td>7.0</td>\n",
       "      <td>LINCOLN PARK</td>\n",
       "      <td>7.0</td>\n",
       "      <td>LINCOLN PARK</td>\n",
       "    </tr>\n",
       "    <tr>\n",
       "      <th>204</th>\n",
       "      <td>4CD697748EE21B92</td>\n",
       "      <td>classic_bike</td>\n",
       "      <td>2022-07-05 14:06:59</td>\n",
       "      <td>2022-07-05 14:10:27</td>\n",
       "      <td>Halsted St &amp; Dickens Ave</td>\n",
       "      <td>13192</td>\n",
       "      <td>Clifton Ave &amp; Armitage Ave</td>\n",
       "      <td>TA1307000163</td>\n",
       "      <td>41.919936</td>\n",
       "      <td>-87.648830</td>\n",
       "      <td>41.918216</td>\n",
       "      <td>-87.656936</td>\n",
       "      <td>member</td>\n",
       "      <td>POINT (-87.65694 41.91822)</td>\n",
       "      <td>7.0</td>\n",
       "      <td>LINCOLN PARK</td>\n",
       "      <td>7.0</td>\n",
       "      <td>LINCOLN PARK</td>\n",
       "    </tr>\n",
       "  </tbody>\n",
       "</table>\n",
       "</div>"
      ],
      "text/plain": [
       "              ride_id  rideable_type          started_at            ended_at   \n",
       "200  82D5A9B008FEFCE6    docked_bike 2022-07-15 15:23:43 2022-07-15 15:56:17  \\\n",
       "201  D4859616FF0A9CA7   classic_bike 2022-07-10 11:20:04 2022-07-10 11:44:51   \n",
       "202  6647639132ADAF83  electric_bike 2022-07-22 17:29:30 2022-07-22 17:42:01   \n",
       "203  8F704DC5197EEF6A   classic_bike 2022-07-16 10:01:52 2022-07-16 10:10:18   \n",
       "204  4CD697748EE21B92   classic_bike 2022-07-05 14:06:59 2022-07-05 14:10:27   \n",
       "\n",
       "               start_station_name start_station_id   \n",
       "200  Stetson Ave & South Water St     TA1308000029  \\\n",
       "201             Adler Planetarium            13431   \n",
       "202    Narragansett & Irving Park              323   \n",
       "203      Halsted St & Dickens Ave            13192   \n",
       "204      Halsted St & Dickens Ave            13192   \n",
       "\n",
       "                  end_station_name end_station_id  start_lat  start_lng   \n",
       "200                 Shedd Aquarium          15544  41.886835 -87.622320  \\\n",
       "201                 Shedd Aquarium          15544  41.866095 -87.607267   \n",
       "202  Mulligan Ave & Wellington Ave            351  41.950000 -87.790000   \n",
       "203        Sedgwick St & North Ave   TA1307000038  41.919936 -87.648830   \n",
       "204     Clifton Ave & Armitage Ave   TA1307000163  41.919936 -87.648830   \n",
       "\n",
       "       end_lat    end_lng member_casual                    geometry   \n",
       "200  41.867226 -87.615355        casual  POINT (-87.61535 41.86723)  \\\n",
       "201  41.867226 -87.615355        member  POINT (-87.61536 41.86723)   \n",
       "202  41.930000 -87.780000        member  POINT (-87.78000 41.93000)   \n",
       "203  41.911386 -87.638677        member  POINT (-87.63868 41.91139)   \n",
       "204  41.918216 -87.656936        member  POINT (-87.65694 41.91822)   \n",
       "\n",
       "     start_ca_num   community_left  end_ca_num  community_right  \n",
       "200          32.0             LOOP        33.0  NEAR SOUTH SIDE  \n",
       "201          33.0  NEAR SOUTH SIDE        33.0  NEAR SOUTH SIDE  \n",
       "202          17.0          DUNNING        19.0   BELMONT CRAGIN  \n",
       "203           7.0     LINCOLN PARK         7.0     LINCOLN PARK  \n",
       "204           7.0     LINCOLN PARK         7.0     LINCOLN PARK  "
      ]
     },
     "execution_count": 12,
     "metadata": {},
     "output_type": "execute_result"
    }
   ],
   "source": [
    "trips_b = gpd.sjoin(trips, start_point_community_area[[\"geometry\", \"start_ca_num\", \"community\"]].drop_duplicates(),how = \"left\", predicate=\"intersects\")\n",
    "trips_b = trips_b.drop(columns= \"index_right\")\n",
    "trips_b = gpd.GeoDataFrame(trips_b, geometry=end_point)\n",
    "trips_b = gpd.sjoin(trips_b, end_point_community_area[[\"geometry\", \"end_ca_num\", \"community\"]].drop_duplicates(), how = \"left\")\n",
    "trips_b = trips_b.drop(columns = \"index_right\")\n",
    "trips_b[200: 205]"
   ]
  },
  {
   "cell_type": "code",
   "execution_count": 13,
   "metadata": {},
   "outputs": [],
   "source": [
    "# trips_b = pd.concat([trips, start_point_community_area[[\"ride_id\", \"start_ca_num\"]], end_point_community_area[[\"ride_id\", \"end_ca_num\"]]], axis = 1)"
   ]
  },
  {
   "cell_type": "markdown",
   "metadata": {},
   "source": [
    "### c. Visualize Stations"
   ]
  },
  {
   "cell_type": "code",
   "execution_count": null,
   "metadata": {},
   "outputs": [],
   "source": []
  },
  {
   "cell_type": "code",
   "execution_count": 14,
   "metadata": {},
   "outputs": [
    {
     "data": {
      "text/plain": [
       "<Axes: >"
      ]
     },
     "execution_count": 14,
     "metadata": {},
     "output_type": "execute_result"
    },
    {
     "data": {
      "image/png": "[encoded data removed]",
      "text/plain": [
       "<Figure size 640x480 with 2 Axes>"
      ]
     },
     "metadata": {},
     "output_type": "display_data"
    }
   ],
   "source": [
    "joined = gpd.sjoin(stations, cas, predicate='within')\n",
    "station_counts = joined.groupby('area_number').size().reset_index(name='station_count')\n",
    "cas_station_counts = cas.merge(station_counts, on='area_number', how='left')\n",
    "cas_station_counts.plot(column='station_count', cmap='YlOrRd', legend=True)\n"
   ]
  },
  {
   "cell_type": "code",
   "execution_count": 15,
   "metadata": {},
   "outputs": [
    {
     "data": {
      "text/plain": [
       "16"
      ]
     },
     "execution_count": 15,
     "metadata": {},
     "output_type": "execute_result"
    }
   ],
   "source": [
    "len(start_point_community_area.columns)"
   ]
  },
  {
   "cell_type": "markdown",
   "metadata": {},
   "source": [
    "### d. Visualize Trips "
   ]
  },
  {
   "cell_type": "code",
   "execution_count": 16,
   "metadata": {},
   "outputs": [],
   "source": [
    "# ebike = trip1_ca[trip1_ca['rideable_type']=='electric_bike']\n",
    "# pedal_start = trip1_ca[trip1_ca['rideable_type']!= 'electric_bike'].groupby('start_ca_num').size().reset_index(name='pedal_start_count')\n",
    "# pedal_end = trip1_ca[trip1_ca['rideable_type']!= 'electric_bike'].groupby('end_ca_num').size().reset_index(name='pedal_end_count')\n",
    "# ebike_start = ebike.groupby('start_ca_num').size().reset_index(name='ebike_start_count')\n",
    "# ebike_end = ebike.groupby('end_ca_num').size().reset_index(name='ebike_end_count')"
   ]
  },
  {
   "cell_type": "code",
   "execution_count": 17,
   "metadata": {},
   "outputs": [],
   "source": [
    "start_pedal_counts = trips_b[trips_b[\"rideable_type\"] != \"electric_bike\"].groupby(\"start_ca_num\").size()\n",
    "end_pedal_counts = trips_b[trips_b[\"rideable_type\"] != \"electric_bike\"].groupby(\"end_ca_num\").size()\n",
    "start_electric_counts = trips_b[trips_b[\"rideable_type\"] == \"electric_bike\"].groupby(\"start_ca_num\").size()\n",
    "end_electric_counts = trips_b[trips_b[\"rideable_type\"] == \"electric_bike\"].groupby(\"end_ca_num\").size()"
   ]
  },
  {
   "cell_type": "code",
   "execution_count": 18,
   "metadata": {},
   "outputs": [],
   "source": [
    "# start_pedal_counts = trips_b[trips_b[\"rideable_type\"] != \"electric_bike\"].groupby(\"start_ca_num\")[\"start_ca_num\"].count()\n",
    "# end_pedal_counts = trips_b[trips_b[\"rideable_type\"] != \"electric_bike\"].groupby(\"end_ca_num\")[\"end_ca_num\"].count()\n",
    "# start_electric_counts = trips_b[trips_b[\"rideable_type\"] == \"electric_bike\"].groupby(\"start_ca_num\")[\"start_ca_num\"].count()\n",
    "# end_electric_counts = trips_b[trips_b[\"rideable_type\"] == \"electric_bike\"].groupby(\"end_ca_num\")[\"end_ca_num\"].count()"
   ]
  },
  {
   "cell_type": "code",
   "execution_count": 19,
   "metadata": {},
   "outputs": [],
   "source": [
    "start_trip_counts = start_pedal_counts.add(start_electric_counts , fill_value = 0)\n",
    "end_trips_counts = end_pedal_counts.add(end_electric_counts, fill_value = 0)"
   ]
  },
  {
   "cell_type": "code",
   "execution_count": 20,
   "metadata": {},
   "outputs": [],
   "source": [
    "percent_diff = ((start_pedal_counts + end_pedal_counts) - (start_electric_counts + end_electric_counts))/(start_electric_counts + end_electric_counts)"
   ]
  },
  {
   "cell_type": "code",
   "execution_count": 21,
   "metadata": {},
   "outputs": [],
   "source": [
    "percent_diff = pd.DataFrame(percent_diff)\n",
    "percent_diff = percent_diff.rename(columns= {0 : \"diff\"})\n",
    "percent_diff = percent_diff.reset_index()"
   ]
  },
  {
   "cell_type": "code",
   "execution_count": 22,
   "metadata": {},
   "outputs": [],
   "source": [
    "diff_join = cas.merge(percent_diff, left_on = \"area_number\",right_on = \"index\",  how = \"outer\")"
   ]
  },
  {
   "cell_type": "code",
   "execution_count": 23,
   "metadata": {},
   "outputs": [],
   "source": [
    "#filling the nan values with -1 because the difference range is -1 to +1 missing values are considered as -1\n",
    "diff_join[\"diff\"].fillna(-1, inplace= True)"
   ]
  },
  {
   "cell_type": "code",
   "execution_count": 24,
   "metadata": {},
   "outputs": [
    {
     "data": {
      "text/plain": [
       "<Axes: >"
      ]
     },
     "execution_count": 24,
     "metadata": {},
     "output_type": "execute_result"
    },
    {
     "data": {
      "image/png": "[encoded data removed]",
      "text/plain": [
       "<Figure size 640x480 with 1 Axes>"
      ]
     },
     "metadata": {},
     "output_type": "display_data"
    }
   ],
   "source": [
    "diff_join.plot(column = \"diff\",cmap='RdYlGn')"
   ]
  },
  {
   "cell_type": "markdown",
   "metadata": {},
   "source": [
    "## 3. Trip Community Paths"
   ]
  },
  {
   "cell_type": "markdown",
   "metadata": {},
   "source": [
    "### a. Bordering Areas"
   ]
  },
  {
   "cell_type": "code",
   "execution_count": 25,
   "metadata": {},
   "outputs": [
    {
     "data": {
      "text/html": [
       "<div>\n",
       "<style scoped>\n",
       "    .dataframe tbody tr th:only-of-type {\n",
       "        vertical-align: middle;\n",
       "    }\n",
       "\n",
       "    .dataframe tbody tr th {\n",
       "        vertical-align: top;\n",
       "    }\n",
       "\n",
       "    .dataframe thead th {\n",
       "        text-align: right;\n",
       "    }\n",
       "</style>\n",
       "<table border=\"1\" class=\"dataframe\">\n",
       "  <thead>\n",
       "    <tr style=\"text-align: right;\">\n",
       "      <th></th>\n",
       "      <th>index</th>\n",
       "      <th>community_left</th>\n",
       "      <th>area_left</th>\n",
       "      <th>shape_area_left</th>\n",
       "      <th>perimeter_left</th>\n",
       "      <th>area_num_1_left</th>\n",
       "      <th>area_number_left</th>\n",
       "      <th>comarea_id_left</th>\n",
       "      <th>comarea_left</th>\n",
       "      <th>shape_len_left</th>\n",
       "      <th>...</th>\n",
       "      <th>index_right</th>\n",
       "      <th>community_right</th>\n",
       "      <th>area_right</th>\n",
       "      <th>shape_area_right</th>\n",
       "      <th>perimeter_right</th>\n",
       "      <th>area_num_1_right</th>\n",
       "      <th>area_number_right</th>\n",
       "      <th>comarea_id_right</th>\n",
       "      <th>comarea_right</th>\n",
       "      <th>shape_len_right</th>\n",
       "    </tr>\n",
       "  </thead>\n",
       "  <tbody>\n",
       "    <tr>\n",
       "      <th>0</th>\n",
       "      <td>0</td>\n",
       "      <td>DOUGLAS</td>\n",
       "      <td>0</td>\n",
       "      <td>46004621.1581</td>\n",
       "      <td>0</td>\n",
       "      <td>35</td>\n",
       "      <td>35</td>\n",
       "      <td>0</td>\n",
       "      <td>0</td>\n",
       "      <td>31027.0545098</td>\n",
       "      <td>...</td>\n",
       "      <td>1</td>\n",
       "      <td>OAKLAND</td>\n",
       "      <td>0</td>\n",
       "      <td>16913961.0408</td>\n",
       "      <td>0</td>\n",
       "      <td>36</td>\n",
       "      <td>36</td>\n",
       "      <td>0</td>\n",
       "      <td>0</td>\n",
       "      <td>19565.5061533</td>\n",
       "    </tr>\n",
       "    <tr>\n",
       "      <th>3</th>\n",
       "      <td>3</td>\n",
       "      <td>GRAND BOULEVARD</td>\n",
       "      <td>0</td>\n",
       "      <td>48492503.1554</td>\n",
       "      <td>0</td>\n",
       "      <td>38</td>\n",
       "      <td>38</td>\n",
       "      <td>0</td>\n",
       "      <td>0</td>\n",
       "      <td>28196.8371573</td>\n",
       "      <td>...</td>\n",
       "      <td>1</td>\n",
       "      <td>OAKLAND</td>\n",
       "      <td>0</td>\n",
       "      <td>16913961.0408</td>\n",
       "      <td>0</td>\n",
       "      <td>36</td>\n",
       "      <td>36</td>\n",
       "      <td>0</td>\n",
       "      <td>0</td>\n",
       "      <td>19565.5061533</td>\n",
       "    </tr>\n",
       "    <tr>\n",
       "      <th>4</th>\n",
       "      <td>4</td>\n",
       "      <td>KENWOOD</td>\n",
       "      <td>0</td>\n",
       "      <td>29071741.9283</td>\n",
       "      <td>0</td>\n",
       "      <td>39</td>\n",
       "      <td>39</td>\n",
       "      <td>0</td>\n",
       "      <td>0</td>\n",
       "      <td>23325.1679062</td>\n",
       "      <td>...</td>\n",
       "      <td>1</td>\n",
       "      <td>OAKLAND</td>\n",
       "      <td>0</td>\n",
       "      <td>16913961.0408</td>\n",
       "      <td>0</td>\n",
       "      <td>36</td>\n",
       "      <td>36</td>\n",
       "      <td>0</td>\n",
       "      <td>0</td>\n",
       "      <td>19565.5061533</td>\n",
       "    </tr>\n",
       "    <tr>\n",
       "      <th>3</th>\n",
       "      <td>3</td>\n",
       "      <td>GRAND BOULEVARD</td>\n",
       "      <td>0</td>\n",
       "      <td>48492503.1554</td>\n",
       "      <td>0</td>\n",
       "      <td>38</td>\n",
       "      <td>38</td>\n",
       "      <td>0</td>\n",
       "      <td>0</td>\n",
       "      <td>28196.8371573</td>\n",
       "      <td>...</td>\n",
       "      <td>0</td>\n",
       "      <td>DOUGLAS</td>\n",
       "      <td>0</td>\n",
       "      <td>46004621.1581</td>\n",
       "      <td>0</td>\n",
       "      <td>35</td>\n",
       "      <td>35</td>\n",
       "      <td>0</td>\n",
       "      <td>0</td>\n",
       "      <td>31027.0545098</td>\n",
       "    </tr>\n",
       "    <tr>\n",
       "      <th>33</th>\n",
       "      <td>33</td>\n",
       "      <td>NEAR SOUTH SIDE</td>\n",
       "      <td>0</td>\n",
       "      <td>49769639.4541</td>\n",
       "      <td>0</td>\n",
       "      <td>33</td>\n",
       "      <td>33</td>\n",
       "      <td>0</td>\n",
       "      <td>0</td>\n",
       "      <td>45053.1651038</td>\n",
       "      <td>...</td>\n",
       "      <td>0</td>\n",
       "      <td>DOUGLAS</td>\n",
       "      <td>0</td>\n",
       "      <td>46004621.1581</td>\n",
       "      <td>0</td>\n",
       "      <td>35</td>\n",
       "      <td>35</td>\n",
       "      <td>0</td>\n",
       "      <td>0</td>\n",
       "      <td>31027.0545098</td>\n",
       "    </tr>\n",
       "    <tr>\n",
       "      <th>...</th>\n",
       "      <td>...</td>\n",
       "      <td>...</td>\n",
       "      <td>...</td>\n",
       "      <td>...</td>\n",
       "      <td>...</td>\n",
       "      <td>...</td>\n",
       "      <td>...</td>\n",
       "      <td>...</td>\n",
       "      <td>...</td>\n",
       "      <td>...</td>\n",
       "      <td>...</td>\n",
       "      <td>...</td>\n",
       "      <td>...</td>\n",
       "      <td>...</td>\n",
       "      <td>...</td>\n",
       "      <td>...</td>\n",
       "      <td>...</td>\n",
       "      <td>...</td>\n",
       "      <td>...</td>\n",
       "      <td>...</td>\n",
       "      <td>...</td>\n",
       "    </tr>\n",
       "    <tr>\n",
       "      <th>63</th>\n",
       "      <td>63</td>\n",
       "      <td>CHICAGO LAWN</td>\n",
       "      <td>0</td>\n",
       "      <td>98279465.1151</td>\n",
       "      <td>0</td>\n",
       "      <td>66</td>\n",
       "      <td>66</td>\n",
       "      <td>0</td>\n",
       "      <td>0</td>\n",
       "      <td>40073.0998382</td>\n",
       "      <td>...</td>\n",
       "      <td>68</td>\n",
       "      <td>ASHBURN</td>\n",
       "      <td>0</td>\n",
       "      <td>135460337.208</td>\n",
       "      <td>0</td>\n",
       "      <td>70</td>\n",
       "      <td>70</td>\n",
       "      <td>0</td>\n",
       "      <td>0</td>\n",
       "      <td>54818.1546317</td>\n",
       "    </tr>\n",
       "    <tr>\n",
       "      <th>70</th>\n",
       "      <td>70</td>\n",
       "      <td>BEVERLY</td>\n",
       "      <td>0</td>\n",
       "      <td>88779363.9384</td>\n",
       "      <td>0</td>\n",
       "      <td>72</td>\n",
       "      <td>72</td>\n",
       "      <td>0</td>\n",
       "      <td>0</td>\n",
       "      <td>44591.4851009</td>\n",
       "      <td>...</td>\n",
       "      <td>68</td>\n",
       "      <td>ASHBURN</td>\n",
       "      <td>0</td>\n",
       "      <td>135460337.208</td>\n",
       "      <td>0</td>\n",
       "      <td>70</td>\n",
       "      <td>70</td>\n",
       "      <td>0</td>\n",
       "      <td>0</td>\n",
       "      <td>54818.1546317</td>\n",
       "    </tr>\n",
       "    <tr>\n",
       "      <th>73</th>\n",
       "      <td>73</td>\n",
       "      <td>MORGAN PARK</td>\n",
       "      <td>0</td>\n",
       "      <td>91877340.6988</td>\n",
       "      <td>0</td>\n",
       "      <td>75</td>\n",
       "      <td>75</td>\n",
       "      <td>0</td>\n",
       "      <td>0</td>\n",
       "      <td>46396.419362</td>\n",
       "      <td>...</td>\n",
       "      <td>70</td>\n",
       "      <td>BEVERLY</td>\n",
       "      <td>0</td>\n",
       "      <td>88779363.9384</td>\n",
       "      <td>0</td>\n",
       "      <td>72</td>\n",
       "      <td>72</td>\n",
       "      <td>0</td>\n",
       "      <td>0</td>\n",
       "      <td>44591.4851009</td>\n",
       "    </tr>\n",
       "    <tr>\n",
       "      <th>70</th>\n",
       "      <td>70</td>\n",
       "      <td>BEVERLY</td>\n",
       "      <td>0</td>\n",
       "      <td>88779363.9384</td>\n",
       "      <td>0</td>\n",
       "      <td>72</td>\n",
       "      <td>72</td>\n",
       "      <td>0</td>\n",
       "      <td>0</td>\n",
       "      <td>44591.4851009</td>\n",
       "      <td>...</td>\n",
       "      <td>72</td>\n",
       "      <td>MOUNT GREENWOOD</td>\n",
       "      <td>0</td>\n",
       "      <td>75584290.0209</td>\n",
       "      <td>0</td>\n",
       "      <td>74</td>\n",
       "      <td>74</td>\n",
       "      <td>0</td>\n",
       "      <td>0</td>\n",
       "      <td>48665.1305392</td>\n",
       "    </tr>\n",
       "    <tr>\n",
       "      <th>73</th>\n",
       "      <td>73</td>\n",
       "      <td>MORGAN PARK</td>\n",
       "      <td>0</td>\n",
       "      <td>91877340.6988</td>\n",
       "      <td>0</td>\n",
       "      <td>75</td>\n",
       "      <td>75</td>\n",
       "      <td>0</td>\n",
       "      <td>0</td>\n",
       "      <td>46396.419362</td>\n",
       "      <td>...</td>\n",
       "      <td>72</td>\n",
       "      <td>MOUNT GREENWOOD</td>\n",
       "      <td>0</td>\n",
       "      <td>75584290.0209</td>\n",
       "      <td>0</td>\n",
       "      <td>74</td>\n",
       "      <td>74</td>\n",
       "      <td>0</td>\n",
       "      <td>0</td>\n",
       "      <td>48665.1305392</td>\n",
       "    </tr>\n",
       "  </tbody>\n",
       "</table>\n",
       "<p>197 rows × 21 columns</p>\n",
       "</div>"
      ],
      "text/plain": [
       "    index   community_left area_left shape_area_left perimeter_left   \n",
       "0       0          DOUGLAS         0   46004621.1581              0  \\\n",
       "3       3  GRAND BOULEVARD         0   48492503.1554              0   \n",
       "4       4          KENWOOD         0   29071741.9283              0   \n",
       "3       3  GRAND BOULEVARD         0   48492503.1554              0   \n",
       "33     33  NEAR SOUTH SIDE         0   49769639.4541              0   \n",
       "..    ...              ...       ...             ...            ...   \n",
       "63     63     CHICAGO LAWN         0   98279465.1151              0   \n",
       "70     70          BEVERLY         0   88779363.9384              0   \n",
       "73     73      MORGAN PARK         0   91877340.6988              0   \n",
       "70     70          BEVERLY         0   88779363.9384              0   \n",
       "73     73      MORGAN PARK         0   91877340.6988              0   \n",
       "\n",
       "   area_num_1_left  area_number_left comarea_id_left comarea_left   \n",
       "0               35                35               0            0  \\\n",
       "3               38                38               0            0   \n",
       "4               39                39               0            0   \n",
       "3               38                38               0            0   \n",
       "33              33                33               0            0   \n",
       "..             ...               ...             ...          ...   \n",
       "63              66                66               0            0   \n",
       "70              72                72               0            0   \n",
       "73              75                75               0            0   \n",
       "70              72                72               0            0   \n",
       "73              75                75               0            0   \n",
       "\n",
       "   shape_len_left  ... index_right  community_right area_right   \n",
       "0   31027.0545098  ...           1          OAKLAND          0  \\\n",
       "3   28196.8371573  ...           1          OAKLAND          0   \n",
       "4   23325.1679062  ...           1          OAKLAND          0   \n",
       "3   28196.8371573  ...           0          DOUGLAS          0   \n",
       "33  45053.1651038  ...           0          DOUGLAS          0   \n",
       "..            ...  ...         ...              ...        ...   \n",
       "63  40073.0998382  ...          68          ASHBURN          0   \n",
       "70  44591.4851009  ...          68          ASHBURN          0   \n",
       "73   46396.419362  ...          70          BEVERLY          0   \n",
       "70  44591.4851009  ...          72  MOUNT GREENWOOD          0   \n",
       "73   46396.419362  ...          72  MOUNT GREENWOOD          0   \n",
       "\n",
       "   shape_area_right perimeter_right area_num_1_right area_number_right   \n",
       "0     16913961.0408               0               36                36  \\\n",
       "3     16913961.0408               0               36                36   \n",
       "4     16913961.0408               0               36                36   \n",
       "3     46004621.1581               0               35                35   \n",
       "33    46004621.1581               0               35                35   \n",
       "..              ...             ...              ...               ...   \n",
       "63    135460337.208               0               70                70   \n",
       "70    135460337.208               0               70                70   \n",
       "73    88779363.9384               0               72                72   \n",
       "70    75584290.0209               0               74                74   \n",
       "73    75584290.0209               0               74                74   \n",
       "\n",
       "    comarea_id_right comarea_right shape_len_right  \n",
       "0                  0             0   19565.5061533  \n",
       "3                  0             0   19565.5061533  \n",
       "4                  0             0   19565.5061533  \n",
       "3                  0             0   31027.0545098  \n",
       "33                 0             0   31027.0545098  \n",
       "..               ...           ...             ...  \n",
       "63                 0             0   54818.1546317  \n",
       "70                 0             0   54818.1546317  \n",
       "73                 0             0   44591.4851009  \n",
       "70                 0             0   48665.1305392  \n",
       "73                 0             0   48665.1305392  \n",
       "\n",
       "[197 rows x 21 columns]"
      ]
     },
     "execution_count": 25,
     "metadata": {},
     "output_type": "execute_result"
    }
   ],
   "source": [
    "neighbor_communities = gpd.sjoin(cas.reset_index(), cas, how= \"inner\", predicate=\"intersects\")\n",
    "neighbor_communities = neighbor_communities[neighbor_communities[\"community_left\"] != neighbor_communities[\"community_right\"]]\n",
    "# neighbor_communities[(neighbor_communities[\"community_left\"] == \"DOUGLAS\") | (neighbor_communities[\"community_left\"] == \"GRAND BOULEVARD\")]\n",
    "neighbor_communities = neighbor_communities[neighbor_communities[\"shape_area_left\"] > neighbor_communities[\"shape_area_right\"]]\n",
    "neighbor_communities"
   ]
  },
  {
   "cell_type": "markdown",
   "metadata": {},
   "source": [
    "### b. Graph Database Creation"
   ]
  },
  {
   "cell_type": "code",
   "execution_count": 26,
   "metadata": {},
   "outputs": [],
   "source": [
    "from neo4j import GraphDatabase\n",
    "driver = GraphDatabase.driver(\"bolt://localhost:7687\", auth=(\"neo4j\", \"Graph@123\"))\n",
    "# We also wish to define some helper functions to help us run queries with neo4j (based on functions by CJ Sullivan):\n",
    "\n",
    "def run_query(query, parameters=None):\n",
    "    session = None\n",
    "    response = None\n",
    "    try: \n",
    "        session = driver.session() \n",
    "        response = list(session.run(query, parameters))\n",
    "    finally: \n",
    "        if session is not None:\n",
    "            session.close()\n",
    "    return response\n",
    "\n",
    "def batch_query(query, df, batch_size=10000):\n",
    "    # query can return whatever\n",
    "    batch = 0\n",
    "    results = []    \n",
    "    while batch * batch_size < len(df):\n",
    "        res = run_query(query, parameters={'rows': df.iloc[batch*batch_size:(batch+1)*batch_size].to_dict('records')})\n",
    "        batch += 1\n",
    "        results.extend(res)\n",
    "        info = {\"total\": len(results), \n",
    "                \"batches\": batch}\n",
    "        # print(info)\n",
    "    return results"
   ]
  },
  {
   "cell_type": "code",
   "execution_count": 27,
   "metadata": {},
   "outputs": [
    {
     "data": {
      "text/plain": [
       "[<Record total=77>]"
      ]
     },
     "execution_count": 27,
     "metadata": {},
     "output_type": "execute_result"
    }
   ],
   "source": [
    "def add_communities(communities):\n",
    "\n",
    "    query = '''UNWIND $rows AS row\n",
    "    MERGE (c:Community {community: row.community})\n",
    "    RETURN count(*) as total\n",
    "    '''\n",
    "    \n",
    "    return batch_query(query, communities)\n",
    "\n",
    "add_communities(cas[[\"community\", \"area_number\"]])\n"
   ]
  },
  {
   "cell_type": "code",
   "execution_count": 28,
   "metadata": {},
   "outputs": [
    {
     "data": {
      "text/plain": [
       "[<Record total=197>]"
      ]
     },
     "execution_count": 28,
     "metadata": {},
     "output_type": "execute_result"
    }
   ],
   "source": [
    "def add_borders(neighbor_communities):\n",
    "    # add borders to the community nodes\n",
    "    query = '''UNWIND $rows as row\n",
    "    MATCH(b:Community {community: row.community_left}), (c:Community {community: row.community_right})\n",
    "    MERGE (b)-[:BORDERS]->(c)\n",
    "    RETURN count(*) as total'''\n",
    "    return batch_query(query, neighbor_communities)\n",
    "add_borders(neighbor_communities[[\"community_left\", \"community_right\"]])"
   ]
  },
  {
   "cell_type": "markdown",
   "metadata": {},
   "source": [
    "### c. Compute Paths"
   ]
  },
  {
   "cell_type": "code",
   "execution_count": 29,
   "metadata": {},
   "outputs": [],
   "source": [
    "trips_pedal = trips_b[(trips_b[\"rideable_type\"] != \"electric_bike\") & (trips_b[\"start_ca_num\"] != trips_b[\"end_ca_num\"])]\n",
    "trips_ebikes = trips_b[(trips_b[\"rideable_type\"] == \"electric_bike\") & (trips_b[\"start_ca_num\"] != trips_b[\"end_ca_num\"])]"
   ]
  },
  {
   "cell_type": "code",
   "execution_count": 30,
   "metadata": {},
   "outputs": [],
   "source": [
    "# trips_pedals = trips_pedal[:500]"
   ]
  },
  {
   "cell_type": "code",
   "execution_count": 31,
   "metadata": {},
   "outputs": [],
   "source": [
    "grouped = trips_pedal.groupby([\"community_left\", \"community_right\"])\n",
    "# grouped.get_group(list(grouped.groups)[0])\n",
    "# .reset_index().drop_duplicates(subset=[\"start_ca_num\", \"end_ca_num\"])"
   ]
  },
  {
   "cell_type": "code",
   "execution_count": 32,
   "metadata": {},
   "outputs": [],
   "source": [
    "from collections import Counter\n",
    "def shortest_path(start_end_communities):\n",
    "    query = '''UNWIND $rows as row\n",
    "    MATCH p=shortestPath((start:Community {community: row.community_left})-[*]-(end:Community {community: row.community_right}))\n",
    "    WITH reduce(output= [], n IN nodes(p) | output + n) as nodecollection\n",
    "    UNWIND nodecollection as eachNode\n",
    "    return properties(eachNode)'''\n",
    "    return batch_query(query, start_end_communities)\n",
    "\n",
    "# path_and_communities = dict()\n",
    "path_communities = []\n",
    "for group_name, group in grouped:\n",
    "    for record in (shortest_path(group[[\"community_left\", \"community_right\"]].drop_duplicates())):\n",
    "        path_communities.extend([com[\"community\"] for com in record])\n",
    "\n",
    "pedal_community_count = Counter(path_communities)\n"
   ]
  },
  {
   "cell_type": "code",
   "execution_count": null,
   "metadata": {},
   "outputs": [],
   "source": []
  },
  {
   "cell_type": "code",
   "execution_count": 33,
   "metadata": {},
   "outputs": [],
   "source": [
    "grouped1 = trips_ebikes.groupby([\"community_left\", \"community_right\"])\n",
    "\n",
    "path_communities_ebikes = []\n",
    "for group_name, group in grouped1:\n",
    "    for record in (shortest_path(group[[\"community_left\", \"community_right\"]].drop_duplicates())):\n",
    "        path_communities_ebikes.extend([com[\"community\"] for com in record])\n",
    "\n",
    "ebike_community_count = Counter(path_communities_ebikes)"
   ]
  },
  {
   "cell_type": "code",
   "execution_count": 34,
   "metadata": {},
   "outputs": [
    {
     "data": {
      "text/plain": [
       "Counter({'ALBANY PARK': 59,\n",
       "         'PORTAGE PARK': 117,\n",
       "         'HERMOSA': 157,\n",
       "         'AUSTIN': 101,\n",
       "         'NORTH CENTER': 182,\n",
       "         'AVONDALE': 61,\n",
       "         'BELMONT CRAGIN': 81,\n",
       "         'DUNNING': 48,\n",
       "         'LINCOLN SQUARE': 220,\n",
       "         'EDGEWATER': 67,\n",
       "         'FOREST GLEN': 48,\n",
       "         'HUMBOLDT PARK': 113,\n",
       "         'IRVING PARK': 146,\n",
       "         'JEFFERSON PARK': 36,\n",
       "         'LAKE VIEW': 120,\n",
       "         'LINCOLN PARK': 172,\n",
       "         'LOGAN SQUARE': 238,\n",
       "         'NEAR NORTH SIDE': 122,\n",
       "         'LOOP': 99,\n",
       "         'WEST TOWN': 330,\n",
       "         'NEAR WEST SIDE': 440,\n",
       "         'NORTH LAWNDALE': 130,\n",
       "         'NORTH PARK': 46,\n",
       "         'WEST RIDGE': 80,\n",
       "         'ROGERS PARK': 48,\n",
       "         'UPTOWN': 64,\n",
       "         'ARCHER HEIGHTS': 27,\n",
       "         'BRIGHTON PARK': 97,\n",
       "         'GARFIELD RIDGE': 32,\n",
       "         'WEST LAWN': 38,\n",
       "         'CHICAGO LAWN': 46,\n",
       "         'GAGE PARK': 81,\n",
       "         'NEW CITY': 96,\n",
       "         'SOUTH LAWNDALE': 90,\n",
       "         'WEST ELSDON': 34,\n",
       "         'ARMOUR SQUARE': 267,\n",
       "         'LOWER WEST SIDE': 195,\n",
       "         'BRIDGEPORT': 99,\n",
       "         'FULLER PARK': 198,\n",
       "         'ENGLEWOOD': 101,\n",
       "         'AUBURN GRESHAM': 120,\n",
       "         'CHATHAM': 57,\n",
       "         'DOUGLAS': 103,\n",
       "         'GRAND BOULEVARD': 169,\n",
       "         'GREATER GRAND CROSSING': 124,\n",
       "         'HYDE PARK': 90,\n",
       "         'KENWOOD': 59,\n",
       "         'NEAR SOUTH SIDE': 129,\n",
       "         'MCKINLEY PARK': 56,\n",
       "         'OAKLAND': 53,\n",
       "         'WASHINGTON PARK': 178,\n",
       "         'WEST ENGLEWOOD': 70,\n",
       "         'WOODLAWN': 108,\n",
       "         'ASHBURN': 25,\n",
       "         'BEVERLY': 23,\n",
       "         'ROSELAND': 61,\n",
       "         'SOUTH SHORE': 86,\n",
       "         'WASHINGTON HEIGHTS': 29,\n",
       "         'CALUMET HEIGHTS': 36,\n",
       "         'MOUNT GREENWOOD': 10,\n",
       "         'PULLMAN': 24,\n",
       "         'RIVERDALE': 6,\n",
       "         'WEST GARFIELD PARK': 30,\n",
       "         'WEST PULLMAN': 18,\n",
       "         'EAST GARFIELD PARK': 54,\n",
       "         'MONTCLARE': 26,\n",
       "         'SOUTH CHICAGO': 58,\n",
       "         'AVALON PARK': 53,\n",
       "         'BURNSIDE': 17,\n",
       "         'EAST SIDE': 20,\n",
       "         'SOUTH DEERING': 26,\n",
       "         'MORGAN PARK': 18,\n",
       "         'CLEARING': 9,\n",
       "         'OHARE': 5,\n",
       "         'NORWOOD PARK': 7,\n",
       "         'HEGEWISCH': 6,\n",
       "         'EDISON PARK': 1})"
      ]
     },
     "execution_count": 34,
     "metadata": {},
     "output_type": "execute_result"
    }
   ],
   "source": [
    "ebike_community_count"
   ]
  },
  {
   "cell_type": "code",
   "execution_count": 35,
   "metadata": {},
   "outputs": [],
   "source": [
    "for_pedal_df = []\n",
    "for community, count in pedal_community_count.items():\n",
    "    for_pedal_df.append({'community_area': community, 'count': count})\n",
    "pedal_count_df = pd.DataFrame(for_pedal_df)\n",
    "\n",
    "for_ebike_df = []\n",
    "for community, count in ebike_community_count.items():\n",
    "    for_ebike_df.append({'community_area': community, 'count': count})\n",
    "ebike_count_df = pd.DataFrame(for_ebike_df)\n"
   ]
  },
  {
   "cell_type": "code",
   "execution_count": 54,
   "metadata": {},
   "outputs": [
    {
     "data": {
      "text/html": [
       "<div>\n",
       "<style scoped>\n",
       "    .dataframe tbody tr th:only-of-type {\n",
       "        vertical-align: middle;\n",
       "    }\n",
       "\n",
       "    .dataframe tbody tr th {\n",
       "        vertical-align: top;\n",
       "    }\n",
       "\n",
       "    .dataframe thead th {\n",
       "        text-align: right;\n",
       "    }\n",
       "</style>\n",
       "<table border=\"1\" class=\"dataframe\">\n",
       "  <thead>\n",
       "    <tr style=\"text-align: right;\">\n",
       "      <th></th>\n",
       "      <th>community_area</th>\n",
       "      <th>count</th>\n",
       "    </tr>\n",
       "  </thead>\n",
       "  <tbody>\n",
       "    <tr>\n",
       "      <th>0</th>\n",
       "      <td>ALBANY PARK</td>\n",
       "      <td>168.0</td>\n",
       "    </tr>\n",
       "    <tr>\n",
       "      <th>1</th>\n",
       "      <td>NORTH CENTER</td>\n",
       "      <td>748.0</td>\n",
       "    </tr>\n",
       "    <tr>\n",
       "      <th>2</th>\n",
       "      <td>AVONDALE</td>\n",
       "      <td>58.0</td>\n",
       "    </tr>\n",
       "    <tr>\n",
       "      <th>3</th>\n",
       "      <td>LINCOLN SQUARE</td>\n",
       "      <td>361.0</td>\n",
       "    </tr>\n",
       "    <tr>\n",
       "      <th>4</th>\n",
       "      <td>EDGEWATER</td>\n",
       "      <td>57.0</td>\n",
       "    </tr>\n",
       "    <tr>\n",
       "      <th>...</th>\n",
       "      <td>...</td>\n",
       "      <td>...</td>\n",
       "    </tr>\n",
       "    <tr>\n",
       "      <th>58</th>\n",
       "      <td>EAST SIDE</td>\n",
       "      <td>11014.0</td>\n",
       "    </tr>\n",
       "    <tr>\n",
       "      <th>59</th>\n",
       "      <td>HEGEWISCH</td>\n",
       "      <td>404.0</td>\n",
       "    </tr>\n",
       "    <tr>\n",
       "      <th>60</th>\n",
       "      <td>BRIGHTON PARK</td>\n",
       "      <td>NaN</td>\n",
       "    </tr>\n",
       "    <tr>\n",
       "      <th>61</th>\n",
       "      <td>GAGE PARK</td>\n",
       "      <td>NaN</td>\n",
       "    </tr>\n",
       "    <tr>\n",
       "      <th>62</th>\n",
       "      <td>RIVERDALE</td>\n",
       "      <td>NaN</td>\n",
       "    </tr>\n",
       "  </tbody>\n",
       "</table>\n",
       "<p>63 rows × 2 columns</p>\n",
       "</div>"
      ],
      "text/plain": [
       "    community_area    count\n",
       "0      ALBANY PARK    168.0\n",
       "1     NORTH CENTER    748.0\n",
       "2         AVONDALE     58.0\n",
       "3   LINCOLN SQUARE    361.0\n",
       "4        EDGEWATER     57.0\n",
       "..             ...      ...\n",
       "58       EAST SIDE  11014.0\n",
       "59       HEGEWISCH    404.0\n",
       "60   BRIGHTON PARK      NaN\n",
       "61       GAGE PARK      NaN\n",
       "62       RIVERDALE      NaN\n",
       "\n",
       "[63 rows x 2 columns]"
      ]
     },
     "execution_count": 54,
     "metadata": {},
     "output_type": "execute_result"
    }
   ],
   "source": [
    "pedal_count_df"
   ]
  },
  {
   "cell_type": "code",
   "execution_count": 36,
   "metadata": {},
   "outputs": [
    {
     "data": {
      "text/html": [
       "<div>\n",
       "<style scoped>\n",
       "    .dataframe tbody tr th:only-of-type {\n",
       "        vertical-align: middle;\n",
       "    }\n",
       "\n",
       "    .dataframe tbody tr th {\n",
       "        vertical-align: top;\n",
       "    }\n",
       "\n",
       "    .dataframe thead th {\n",
       "        text-align: right;\n",
       "    }\n",
       "</style>\n",
       "<table border=\"1\" class=\"dataframe\">\n",
       "  <thead>\n",
       "    <tr style=\"text-align: right;\">\n",
       "      <th></th>\n",
       "      <th>community_area</th>\n",
       "      <th>count</th>\n",
       "    </tr>\n",
       "  </thead>\n",
       "  <tbody>\n",
       "    <tr>\n",
       "      <th>0</th>\n",
       "      <td>ALBANY PARK</td>\n",
       "      <td>168.0</td>\n",
       "    </tr>\n",
       "    <tr>\n",
       "      <th>1</th>\n",
       "      <td>NORTH CENTER</td>\n",
       "      <td>748.0</td>\n",
       "    </tr>\n",
       "    <tr>\n",
       "      <th>2</th>\n",
       "      <td>AVONDALE</td>\n",
       "      <td>58.0</td>\n",
       "    </tr>\n",
       "    <tr>\n",
       "      <th>3</th>\n",
       "      <td>LINCOLN SQUARE</td>\n",
       "      <td>361.0</td>\n",
       "    </tr>\n",
       "    <tr>\n",
       "      <th>4</th>\n",
       "      <td>EDGEWATER</td>\n",
       "      <td>57.0</td>\n",
       "    </tr>\n",
       "    <tr>\n",
       "      <th>...</th>\n",
       "      <td>...</td>\n",
       "      <td>...</td>\n",
       "    </tr>\n",
       "    <tr>\n",
       "      <th>58</th>\n",
       "      <td>EAST SIDE</td>\n",
       "      <td>11014.0</td>\n",
       "    </tr>\n",
       "    <tr>\n",
       "      <th>59</th>\n",
       "      <td>HEGEWISCH</td>\n",
       "      <td>404.0</td>\n",
       "    </tr>\n",
       "    <tr>\n",
       "      <th>60</th>\n",
       "      <td>BRIGHTON PARK</td>\n",
       "      <td>NaN</td>\n",
       "    </tr>\n",
       "    <tr>\n",
       "      <th>61</th>\n",
       "      <td>GAGE PARK</td>\n",
       "      <td>NaN</td>\n",
       "    </tr>\n",
       "    <tr>\n",
       "      <th>62</th>\n",
       "      <td>RIVERDALE</td>\n",
       "      <td>NaN</td>\n",
       "    </tr>\n",
       "  </tbody>\n",
       "</table>\n",
       "<p>63 rows × 2 columns</p>\n",
       "</div>"
      ],
      "text/plain": [
       "    community_area    count\n",
       "0      ALBANY PARK    168.0\n",
       "1     NORTH CENTER    748.0\n",
       "2         AVONDALE     58.0\n",
       "3   LINCOLN SQUARE    361.0\n",
       "4        EDGEWATER     57.0\n",
       "..             ...      ...\n",
       "58       EAST SIDE  11014.0\n",
       "59       HEGEWISCH    404.0\n",
       "60   BRIGHTON PARK      NaN\n",
       "61       GAGE PARK      NaN\n",
       "62       RIVERDALE      NaN\n",
       "\n",
       "[63 rows x 2 columns]"
      ]
     },
     "execution_count": 36,
     "metadata": {},
     "output_type": "execute_result"
    }
   ],
   "source": [
    "same_community_trips_pedal = trips_b[(trips_b[\"rideable_type\"] != \"electric_bike\") & (trips_b[\"start_ca_num\"] == trips_b[\"end_ca_num\"])]\n",
    "same_community_trips_pedal_counts = same_community_trips_pedal.groupby(\"community_left\").size().reset_index(name='same_community_count')\n",
    "pedal_count_df[\"count\"] +=  same_community_trips_pedal_counts[\"same_community_count\"]\n",
    "pedal_count_df"
   ]
  },
  {
   "cell_type": "code",
   "execution_count": 37,
   "metadata": {},
   "outputs": [
    {
     "data": {
      "text/html": [
       "<div>\n",
       "<style scoped>\n",
       "    .dataframe tbody tr th:only-of-type {\n",
       "        vertical-align: middle;\n",
       "    }\n",
       "\n",
       "    .dataframe tbody tr th {\n",
       "        vertical-align: top;\n",
       "    }\n",
       "\n",
       "    .dataframe thead th {\n",
       "        text-align: right;\n",
       "    }\n",
       "</style>\n",
       "<table border=\"1\" class=\"dataframe\">\n",
       "  <thead>\n",
       "    <tr style=\"text-align: right;\">\n",
       "      <th></th>\n",
       "      <th>community_area</th>\n",
       "      <th>count</th>\n",
       "    </tr>\n",
       "  </thead>\n",
       "  <tbody>\n",
       "    <tr>\n",
       "      <th>0</th>\n",
       "      <td>ALBANY PARK</td>\n",
       "      <td>325.0</td>\n",
       "    </tr>\n",
       "    <tr>\n",
       "      <th>1</th>\n",
       "      <td>PORTAGE PARK</td>\n",
       "      <td>173.0</td>\n",
       "    </tr>\n",
       "    <tr>\n",
       "      <th>2</th>\n",
       "      <td>HERMOSA</td>\n",
       "      <td>641.0</td>\n",
       "    </tr>\n",
       "    <tr>\n",
       "      <th>3</th>\n",
       "      <td>AUSTIN</td>\n",
       "      <td>152.0</td>\n",
       "    </tr>\n",
       "    <tr>\n",
       "      <th>4</th>\n",
       "      <td>NORTH CENTER</td>\n",
       "      <td>251.0</td>\n",
       "    </tr>\n",
       "    <tr>\n",
       "      <th>...</th>\n",
       "      <td>...</td>\n",
       "      <td>...</td>\n",
       "    </tr>\n",
       "    <tr>\n",
       "      <th>72</th>\n",
       "      <td>CLEARING</td>\n",
       "      <td>342.0</td>\n",
       "    </tr>\n",
       "    <tr>\n",
       "      <th>73</th>\n",
       "      <td>OHARE</td>\n",
       "      <td>NaN</td>\n",
       "    </tr>\n",
       "    <tr>\n",
       "      <th>74</th>\n",
       "      <td>NORWOOD PARK</td>\n",
       "      <td>NaN</td>\n",
       "    </tr>\n",
       "    <tr>\n",
       "      <th>75</th>\n",
       "      <td>HEGEWISCH</td>\n",
       "      <td>NaN</td>\n",
       "    </tr>\n",
       "    <tr>\n",
       "      <th>76</th>\n",
       "      <td>EDISON PARK</td>\n",
       "      <td>NaN</td>\n",
       "    </tr>\n",
       "  </tbody>\n",
       "</table>\n",
       "<p>77 rows × 2 columns</p>\n",
       "</div>"
      ],
      "text/plain": [
       "   community_area  count\n",
       "0     ALBANY PARK  325.0\n",
       "1    PORTAGE PARK  173.0\n",
       "2         HERMOSA  641.0\n",
       "3          AUSTIN  152.0\n",
       "4    NORTH CENTER  251.0\n",
       "..            ...    ...\n",
       "72       CLEARING  342.0\n",
       "73          OHARE    NaN\n",
       "74   NORWOOD PARK    NaN\n",
       "75      HEGEWISCH    NaN\n",
       "76    EDISON PARK    NaN\n",
       "\n",
       "[77 rows x 2 columns]"
      ]
     },
     "execution_count": 37,
     "metadata": {},
     "output_type": "execute_result"
    }
   ],
   "source": [
    "same_community_trips_ebike = trips_b[(trips_b[\"rideable_type\"] == \"electric_bike\") & (trips_b[\"start_ca_num\"] == trips_b[\"end_ca_num\"])]\n",
    "same_community_trips_ebike_counts = same_community_trips_ebike.groupby(\"community_left\").size().reset_index(name = \"same_community_count\")\n",
    "ebike_count_df[\"count\"] += same_community_trips_ebike_counts[\"same_community_count\"]\n",
    "ebike_count_df"
   ]
  },
  {
   "cell_type": "markdown",
   "metadata": {},
   "source": [
    "### d. Visualization"
   ]
  },
  {
   "cell_type": "code",
   "execution_count": 38,
   "metadata": {},
   "outputs": [
    {
     "data": {
      "text/html": [
       "<div>\n",
       "<style scoped>\n",
       "    .dataframe tbody tr th:only-of-type {\n",
       "        vertical-align: middle;\n",
       "    }\n",
       "\n",
       "    .dataframe tbody tr th {\n",
       "        vertical-align: top;\n",
       "    }\n",
       "\n",
       "    .dataframe thead th {\n",
       "        text-align: right;\n",
       "    }\n",
       "</style>\n",
       "<table border=\"1\" class=\"dataframe\">\n",
       "  <thead>\n",
       "    <tr style=\"text-align: right;\">\n",
       "      <th></th>\n",
       "      <th>community</th>\n",
       "      <th>area</th>\n",
       "      <th>shape_area</th>\n",
       "      <th>perimeter</th>\n",
       "      <th>area_num_1</th>\n",
       "      <th>area_number</th>\n",
       "      <th>comarea_id</th>\n",
       "      <th>comarea</th>\n",
       "      <th>shape_len</th>\n",
       "      <th>geometry</th>\n",
       "      <th>community_area</th>\n",
       "      <th>ebike_counts</th>\n",
       "      <th>pedal_counts</th>\n",
       "      <th>diff</th>\n",
       "    </tr>\n",
       "  </thead>\n",
       "  <tbody>\n",
       "    <tr>\n",
       "      <th>0</th>\n",
       "      <td>DOUGLAS</td>\n",
       "      <td>0</td>\n",
       "      <td>46004621.1581</td>\n",
       "      <td>0</td>\n",
       "      <td>35</td>\n",
       "      <td>35</td>\n",
       "      <td>0</td>\n",
       "      <td>0</td>\n",
       "      <td>31027.0545098</td>\n",
       "      <td>MULTIPOLYGON (((-87.60914 41.84469, -87.60915 ...</td>\n",
       "      <td>DOUGLAS</td>\n",
       "      <td>130.0</td>\n",
       "      <td>539.0</td>\n",
       "      <td>3.146154</td>\n",
       "    </tr>\n",
       "    <tr>\n",
       "      <th>1</th>\n",
       "      <td>OAKLAND</td>\n",
       "      <td>0</td>\n",
       "      <td>16913961.0408</td>\n",
       "      <td>0</td>\n",
       "      <td>36</td>\n",
       "      <td>36</td>\n",
       "      <td>0</td>\n",
       "      <td>0</td>\n",
       "      <td>19565.5061533</td>\n",
       "      <td>MULTIPOLYGON (((-87.59215 41.81693, -87.59231 ...</td>\n",
       "      <td>OAKLAND</td>\n",
       "      <td>1369.0</td>\n",
       "      <td>184.0</td>\n",
       "      <td>-0.865595</td>\n",
       "    </tr>\n",
       "    <tr>\n",
       "      <th>2</th>\n",
       "      <td>FULLER PARK</td>\n",
       "      <td>0</td>\n",
       "      <td>19916704.8692</td>\n",
       "      <td>0</td>\n",
       "      <td>37</td>\n",
       "      <td>37</td>\n",
       "      <td>0</td>\n",
       "      <td>0</td>\n",
       "      <td>25339.0897503</td>\n",
       "      <td>MULTIPOLYGON (((-87.62880 41.80189, -87.62879 ...</td>\n",
       "      <td>FULLER PARK</td>\n",
       "      <td>8003.0</td>\n",
       "      <td>447.0</td>\n",
       "      <td>-0.944146</td>\n",
       "    </tr>\n",
       "    <tr>\n",
       "      <th>3</th>\n",
       "      <td>GRAND BOULEVARD</td>\n",
       "      <td>0</td>\n",
       "      <td>48492503.1554</td>\n",
       "      <td>0</td>\n",
       "      <td>38</td>\n",
       "      <td>38</td>\n",
       "      <td>0</td>\n",
       "      <td>0</td>\n",
       "      <td>28196.8371573</td>\n",
       "      <td>MULTIPOLYGON (((-87.60671 41.81681, -87.60670 ...</td>\n",
       "      <td>GRAND BOULEVARD</td>\n",
       "      <td>229.0</td>\n",
       "      <td>21485.0</td>\n",
       "      <td>92.820961</td>\n",
       "    </tr>\n",
       "    <tr>\n",
       "      <th>4</th>\n",
       "      <td>KENWOOD</td>\n",
       "      <td>0</td>\n",
       "      <td>29071741.9283</td>\n",
       "      <td>0</td>\n",
       "      <td>39</td>\n",
       "      <td>39</td>\n",
       "      <td>0</td>\n",
       "      <td>0</td>\n",
       "      <td>23325.1679062</td>\n",
       "      <td>MULTIPOLYGON (((-87.59215 41.81693, -87.59215 ...</td>\n",
       "      <td>KENWOOD</td>\n",
       "      <td>2580.0</td>\n",
       "      <td>1564.0</td>\n",
       "      <td>-0.393798</td>\n",
       "    </tr>\n",
       "  </tbody>\n",
       "</table>\n",
       "</div>"
      ],
      "text/plain": [
       "         community area     shape_area perimeter area_num_1  area_number   \n",
       "0          DOUGLAS    0  46004621.1581         0         35           35  \\\n",
       "1          OAKLAND    0  16913961.0408         0         36           36   \n",
       "2      FULLER PARK    0  19916704.8692         0         37           37   \n",
       "3  GRAND BOULEVARD    0  48492503.1554         0         38           38   \n",
       "4          KENWOOD    0  29071741.9283         0         39           39   \n",
       "\n",
       "  comarea_id comarea      shape_len   \n",
       "0          0       0  31027.0545098  \\\n",
       "1          0       0  19565.5061533   \n",
       "2          0       0  25339.0897503   \n",
       "3          0       0  28196.8371573   \n",
       "4          0       0  23325.1679062   \n",
       "\n",
       "                                            geometry   community_area   \n",
       "0  MULTIPOLYGON (((-87.60914 41.84469, -87.60915 ...          DOUGLAS  \\\n",
       "1  MULTIPOLYGON (((-87.59215 41.81693, -87.59231 ...          OAKLAND   \n",
       "2  MULTIPOLYGON (((-87.62880 41.80189, -87.62879 ...      FULLER PARK   \n",
       "3  MULTIPOLYGON (((-87.60671 41.81681, -87.60670 ...  GRAND BOULEVARD   \n",
       "4  MULTIPOLYGON (((-87.59215 41.81693, -87.59215 ...          KENWOOD   \n",
       "\n",
       "   ebike_counts  pedal_counts       diff  \n",
       "0         130.0         539.0   3.146154  \n",
       "1        1369.0         184.0  -0.865595  \n",
       "2        8003.0         447.0  -0.944146  \n",
       "3         229.0       21485.0  92.820961  \n",
       "4        2580.0        1564.0  -0.393798  "
      ]
     },
     "execution_count": 38,
     "metadata": {},
     "output_type": "execute_result"
    }
   ],
   "source": [
    "# ((start_pedal_counts + end_pedal_counts) - (start_electric_counts + end_electric_counts))/(start_electric_counts + end_electric_counts)\n",
    "\n",
    "merged = ebike_count_df.merge(pedal_count_df, on= \"community_area\", how = \"left\")\n",
    "merged = merged.rename(columns={\"count_x\" : \"ebike_counts\", \"count_y\" : \"pedal_counts\"})\n",
    "merged[\"diff\"] = ((merged[\"pedal_counts\"] - merged[\"ebike_counts\"]) / merged[\"ebike_counts\"])\n",
    "diff_join_4d = cas.merge(merged, left_on = \"community\", right_on = \"community_area\", how = \"left\")\n",
    "diff_join_4d.head()"
   ]
  },
  {
   "cell_type": "code",
   "execution_count": 53,
   "metadata": {},
   "outputs": [
    {
     "data": {
      "text/html": [
       "<div>\n",
       "<style scoped>\n",
       "    .dataframe tbody tr th:only-of-type {\n",
       "        vertical-align: middle;\n",
       "    }\n",
       "\n",
       "    .dataframe tbody tr th {\n",
       "        vertical-align: top;\n",
       "    }\n",
       "\n",
       "    .dataframe thead th {\n",
       "        text-align: right;\n",
       "    }\n",
       "</style>\n",
       "<table border=\"1\" class=\"dataframe\">\n",
       "  <thead>\n",
       "    <tr style=\"text-align: right;\">\n",
       "      <th></th>\n",
       "      <th>community_area</th>\n",
       "      <th>ebike_counts</th>\n",
       "      <th>pedal_counts</th>\n",
       "      <th>diff</th>\n",
       "    </tr>\n",
       "  </thead>\n",
       "  <tbody>\n",
       "    <tr>\n",
       "      <th>0</th>\n",
       "      <td>ALBANY PARK</td>\n",
       "      <td>325.0</td>\n",
       "      <td>168.0</td>\n",
       "      <td>-0.483077</td>\n",
       "    </tr>\n",
       "    <tr>\n",
       "      <th>1</th>\n",
       "      <td>PORTAGE PARK</td>\n",
       "      <td>173.0</td>\n",
       "      <td>219.0</td>\n",
       "      <td>0.265896</td>\n",
       "    </tr>\n",
       "    <tr>\n",
       "      <th>2</th>\n",
       "      <td>HERMOSA</td>\n",
       "      <td>641.0</td>\n",
       "      <td>100.0</td>\n",
       "      <td>-0.843994</td>\n",
       "    </tr>\n",
       "    <tr>\n",
       "      <th>3</th>\n",
       "      <td>AUSTIN</td>\n",
       "      <td>152.0</td>\n",
       "      <td>116.0</td>\n",
       "      <td>-0.236842</td>\n",
       "    </tr>\n",
       "    <tr>\n",
       "      <th>4</th>\n",
       "      <td>NORTH CENTER</td>\n",
       "      <td>251.0</td>\n",
       "      <td>748.0</td>\n",
       "      <td>1.980080</td>\n",
       "    </tr>\n",
       "    <tr>\n",
       "      <th>...</th>\n",
       "      <td>...</td>\n",
       "      <td>...</td>\n",
       "      <td>...</td>\n",
       "      <td>...</td>\n",
       "    </tr>\n",
       "    <tr>\n",
       "      <th>72</th>\n",
       "      <td>CLEARING</td>\n",
       "      <td>342.0</td>\n",
       "      <td>NaN</td>\n",
       "      <td>NaN</td>\n",
       "    </tr>\n",
       "    <tr>\n",
       "      <th>73</th>\n",
       "      <td>OHARE</td>\n",
       "      <td>NaN</td>\n",
       "      <td>NaN</td>\n",
       "      <td>NaN</td>\n",
       "    </tr>\n",
       "    <tr>\n",
       "      <th>74</th>\n",
       "      <td>NORWOOD PARK</td>\n",
       "      <td>NaN</td>\n",
       "      <td>NaN</td>\n",
       "      <td>NaN</td>\n",
       "    </tr>\n",
       "    <tr>\n",
       "      <th>75</th>\n",
       "      <td>HEGEWISCH</td>\n",
       "      <td>NaN</td>\n",
       "      <td>404.0</td>\n",
       "      <td>NaN</td>\n",
       "    </tr>\n",
       "    <tr>\n",
       "      <th>76</th>\n",
       "      <td>EDISON PARK</td>\n",
       "      <td>NaN</td>\n",
       "      <td>NaN</td>\n",
       "      <td>NaN</td>\n",
       "    </tr>\n",
       "  </tbody>\n",
       "</table>\n",
       "<p>77 rows × 4 columns</p>\n",
       "</div>"
      ],
      "text/plain": [
       "   community_area  ebike_counts  pedal_counts      diff\n",
       "0     ALBANY PARK         325.0         168.0 -0.483077\n",
       "1    PORTAGE PARK         173.0         219.0  0.265896\n",
       "2         HERMOSA         641.0         100.0 -0.843994\n",
       "3          AUSTIN         152.0         116.0 -0.236842\n",
       "4    NORTH CENTER         251.0         748.0  1.980080\n",
       "..            ...           ...           ...       ...\n",
       "72       CLEARING         342.0           NaN       NaN\n",
       "73          OHARE           NaN           NaN       NaN\n",
       "74   NORWOOD PARK           NaN           NaN       NaN\n",
       "75      HEGEWISCH           NaN         404.0       NaN\n",
       "76    EDISON PARK           NaN           NaN       NaN\n",
       "\n",
       "[77 rows x 4 columns]"
      ]
     },
     "execution_count": 53,
     "metadata": {},
     "output_type": "execute_result"
    }
   ],
   "source": [
    "merged"
   ]
  },
  {
   "cell_type": "code",
   "execution_count": 39,
   "metadata": {},
   "outputs": [
    {
     "data": {
      "text/html": [
       "<div>\n",
       "<style scoped>\n",
       "    .dataframe tbody tr th:only-of-type {\n",
       "        vertical-align: middle;\n",
       "    }\n",
       "\n",
       "    .dataframe tbody tr th {\n",
       "        vertical-align: top;\n",
       "    }\n",
       "\n",
       "    .dataframe thead th {\n",
       "        text-align: right;\n",
       "    }\n",
       "</style>\n",
       "<table border=\"1\" class=\"dataframe\">\n",
       "  <thead>\n",
       "    <tr style=\"text-align: right;\">\n",
       "      <th></th>\n",
       "      <th>community</th>\n",
       "      <th>area</th>\n",
       "      <th>shape_area</th>\n",
       "      <th>perimeter</th>\n",
       "      <th>area_num_1</th>\n",
       "      <th>area_number</th>\n",
       "      <th>comarea_id</th>\n",
       "      <th>comarea</th>\n",
       "      <th>shape_len</th>\n",
       "      <th>geometry</th>\n",
       "      <th>index</th>\n",
       "      <th>diff</th>\n",
       "    </tr>\n",
       "  </thead>\n",
       "  <tbody>\n",
       "    <tr>\n",
       "      <th>0</th>\n",
       "      <td>DOUGLAS</td>\n",
       "      <td>0</td>\n",
       "      <td>46004621.1581</td>\n",
       "      <td>0</td>\n",
       "      <td>35</td>\n",
       "      <td>35</td>\n",
       "      <td>0</td>\n",
       "      <td>0</td>\n",
       "      <td>31027.0545098</td>\n",
       "      <td>MULTIPOLYGON (((-87.60914 41.84469, -87.60915 ...</td>\n",
       "      <td>35.0</td>\n",
       "      <td>0.446029</td>\n",
       "    </tr>\n",
       "    <tr>\n",
       "      <th>1</th>\n",
       "      <td>OAKLAND</td>\n",
       "      <td>0</td>\n",
       "      <td>16913961.0408</td>\n",
       "      <td>0</td>\n",
       "      <td>36</td>\n",
       "      <td>36</td>\n",
       "      <td>0</td>\n",
       "      <td>0</td>\n",
       "      <td>19565.5061533</td>\n",
       "      <td>MULTIPOLYGON (((-87.59215 41.81693, -87.59231 ...</td>\n",
       "      <td>36.0</td>\n",
       "      <td>-0.980241</td>\n",
       "    </tr>\n",
       "    <tr>\n",
       "      <th>2</th>\n",
       "      <td>FULLER PARK</td>\n",
       "      <td>0</td>\n",
       "      <td>19916704.8692</td>\n",
       "      <td>0</td>\n",
       "      <td>37</td>\n",
       "      <td>37</td>\n",
       "      <td>0</td>\n",
       "      <td>0</td>\n",
       "      <td>25339.0897503</td>\n",
       "      <td>MULTIPOLYGON (((-87.62880 41.80189, -87.62879 ...</td>\n",
       "      <td>37.0</td>\n",
       "      <td>-0.310105</td>\n",
       "    </tr>\n",
       "    <tr>\n",
       "      <th>3</th>\n",
       "      <td>GRAND BOULEVARD</td>\n",
       "      <td>0</td>\n",
       "      <td>48492503.1554</td>\n",
       "      <td>0</td>\n",
       "      <td>38</td>\n",
       "      <td>38</td>\n",
       "      <td>0</td>\n",
       "      <td>0</td>\n",
       "      <td>28196.8371573</td>\n",
       "      <td>MULTIPOLYGON (((-87.60671 41.81681, -87.60670 ...</td>\n",
       "      <td>38.0</td>\n",
       "      <td>-0.152532</td>\n",
       "    </tr>\n",
       "    <tr>\n",
       "      <th>4</th>\n",
       "      <td>KENWOOD</td>\n",
       "      <td>0</td>\n",
       "      <td>29071741.9283</td>\n",
       "      <td>0</td>\n",
       "      <td>39</td>\n",
       "      <td>39</td>\n",
       "      <td>0</td>\n",
       "      <td>0</td>\n",
       "      <td>23325.1679062</td>\n",
       "      <td>MULTIPOLYGON (((-87.59215 41.81693, -87.59215 ...</td>\n",
       "      <td>39.0</td>\n",
       "      <td>0.120706</td>\n",
       "    </tr>\n",
       "  </tbody>\n",
       "</table>\n",
       "</div>"
      ],
      "text/plain": [
       "         community area     shape_area perimeter area_num_1  area_number   \n",
       "0          DOUGLAS    0  46004621.1581         0         35           35  \\\n",
       "1          OAKLAND    0  16913961.0408         0         36           36   \n",
       "2      FULLER PARK    0  19916704.8692         0         37           37   \n",
       "3  GRAND BOULEVARD    0  48492503.1554         0         38           38   \n",
       "4          KENWOOD    0  29071741.9283         0         39           39   \n",
       "\n",
       "  comarea_id comarea      shape_len   \n",
       "0          0       0  31027.0545098  \\\n",
       "1          0       0  19565.5061533   \n",
       "2          0       0  25339.0897503   \n",
       "3          0       0  28196.8371573   \n",
       "4          0       0  23325.1679062   \n",
       "\n",
       "                                            geometry  index      diff  \n",
       "0  MULTIPOLYGON (((-87.60914 41.84469, -87.60915 ...   35.0  0.446029  \n",
       "1  MULTIPOLYGON (((-87.59215 41.81693, -87.59231 ...   36.0 -0.980241  \n",
       "2  MULTIPOLYGON (((-87.62880 41.80189, -87.62879 ...   37.0 -0.310105  \n",
       "3  MULTIPOLYGON (((-87.60671 41.81681, -87.60670 ...   38.0 -0.152532  \n",
       "4  MULTIPOLYGON (((-87.59215 41.81693, -87.59215 ...   39.0  0.120706  "
      ]
     },
     "execution_count": 39,
     "metadata": {},
     "output_type": "execute_result"
    }
   ],
   "source": [
    "diff_join.head()"
   ]
  },
  {
   "cell_type": "code",
   "execution_count": 40,
   "metadata": {},
   "outputs": [],
   "source": [
    "diff_join_4d[\"diff\"].fillna(-1, inplace=True)"
   ]
  },
  {
   "cell_type": "code",
   "execution_count": 41,
   "metadata": {},
   "outputs": [
    {
     "data": {
      "text/plain": [
       "0      3.146154\n",
       "1     -0.865595\n",
       "2     -0.944146\n",
       "3     92.820961\n",
       "4     -0.393798\n",
       "        ...    \n",
       "72    -0.700000\n",
       "73    -0.999002\n",
       "74    -1.000000\n",
       "75    -0.803448\n",
       "76    -1.000000\n",
       "Name: diff, Length: 77, dtype: float64"
      ]
     },
     "execution_count": 41,
     "metadata": {},
     "output_type": "execute_result"
    }
   ],
   "source": [
    "diff_join_4d[\"diff\"]"
   ]
  },
  {
   "cell_type": "code",
   "execution_count": 42,
   "metadata": {},
   "outputs": [
    {
     "data": {
      "text/plain": [
       "<Axes: >"
      ]
     },
     "execution_count": 42,
     "metadata": {},
     "output_type": "execute_result"
    },
    {
     "data": {
      "image/png": "[encoded data removed]",
      "text/plain": [
       "<Figure size 640x480 with 1 Axes>"
      ]
     },
     "metadata": {},
     "output_type": "display_data"
    }
   ],
   "source": [
    "diff_join_4d[\"2d_3d_diff\"] = diff_join[\"diff\"] - diff_join_4d[\"diff\"]\n",
    "diff_join_4d.plot(column = \"2d_3d_diff\", cmap = \"YlGn_r\")"
   ]
  },
  {
   "cell_type": "code",
   "execution_count": 52,
   "metadata": {},
   "outputs": [
    {
     "data": {
      "text/plain": [
       "array([ 3.14615385e+00, -8.65595325e-01, -9.44145945e-01,  9.28209607e+01,\n",
       "       -3.93798450e-01, -7.89994183e-01,  3.76096033e+01, -1.08619258e-02,\n",
       "        3.69668246e-01, -8.89561271e-01, -1.00000000e+00, -9.70070423e-01,\n",
       "        4.29787234e+00, -4.83076923e-01,  2.65895954e-01, -5.56291391e-01,\n",
       "       -9.25925926e-03, -8.43993760e-01, -9.17261056e-01,  5.36301370e-01,\n",
       "        6.88144330e-01,  5.12403101e+00, -2.36842105e-01, -9.84489625e-01,\n",
       "        4.54545455e-01, -8.63937622e-01, -5.98265896e-01, -5.59210526e-01,\n",
       "       -2.00000000e-01, -7.63336135e-01, -9.93243670e-01, -9.88475959e-01,\n",
       "       -7.64705882e-01, -1.46341463e-01,  1.24790795e+00, -4.37500000e-01,\n",
       "        1.36054422e-02,  9.09090909e-03,  2.93170732e+01,  6.65596026e+01,\n",
       "       -7.00854701e-01, -9.79591837e-02, -4.11764706e-01,  1.98007968e+00,\n",
       "       -9.42906574e-01, -9.02439024e-01,  1.56342857e+02,  1.76162791e+01,\n",
       "        2.45994345e+00, -3.53706848e-01, -7.37113402e-01, -9.95371669e-01,\n",
       "        2.06971264e+02, -2.33429395e-01, -2.18808194e-01, -6.84615385e-01,\n",
       "       -9.19047619e-01, -7.00000000e-01, -9.99002352e-01, -8.03448276e-01])"
      ]
     },
     "execution_count": 52,
     "metadata": {},
     "output_type": "execute_result"
    }
   ],
   "source": [
    "diff_join_4d[\"diff\"].unique()"
   ]
  },
  {
   "cell_type": "markdown",
   "metadata": {},
   "source": [
    "## 4. Temporal Analysis"
   ]
  },
  {
   "cell_type": "markdown",
   "metadata": {},
   "source": [
    "### a. Hourly Intervals"
   ]
  },
  {
   "cell_type": "code",
   "execution_count": 43,
   "metadata": {},
   "outputs": [],
   "source": [
    "trips_b = trips_b[trips_b[\"started_at\"] <= trips_b[\"ended_at\"]]\n",
    "interval_array = pd.arrays.IntervalArray.from_arrays(trips_b[\"started_at\"], trips_b[\"ended_at\"])"
   ]
  },
  {
   "cell_type": "code",
   "execution_count": 44,
   "metadata": {},
   "outputs": [
    {
     "data": {
      "text/plain": [
       "IntervalIndex([(2022-07-01, 2022-07-01 01:00:00], (2022-07-01 01:00:00, 2022-07-01 02:00:00], (2022-07-01 02:00:00, 2022-07-01 03:00:00], (2022-07-01 03:00:00, 2022-07-01 04:00:00], (2022-07-01 04:00:00, 2022-07-01 05:00:00] ... (2022-07-31 19:00:00, 2022-07-31 20:00:00], (2022-07-31 20:00:00, 2022-07-31 21:00:00], (2022-07-31 21:00:00, 2022-07-31 22:00:00], (2022-07-31 22:00:00, 2022-07-31 23:00:00], (2022-07-31 23:00:00, 2022-08-01]], dtype='interval[datetime64[ns], right]', length=744)"
      ]
     },
     "execution_count": 44,
     "metadata": {},
     "output_type": "execute_result"
    }
   ],
   "source": [
    "hourly_intervals = pd.interval_range(start= pd.Timestamp(\"2022-07-01\"), end = pd.Timestamp(\"2022-08-01\"), freq=\"H\")\n",
    "# hourly_intervals = pd.DataFrame(hourly_intervals, columns=[\"start_hour\"])\n",
    "hourly_intervals"
   ]
  },
  {
   "cell_type": "code",
   "execution_count": 45,
   "metadata": {},
   "outputs": [],
   "source": [
    "rental_counts = []\n",
    "for interval in hourly_intervals:\n",
    "    rental_counts.append(interval_array.overlaps(interval).sum())"
   ]
  },
  {
   "cell_type": "code",
   "execution_count": 46,
   "metadata": {},
   "outputs": [
    {
     "data": {
      "text/html": [
       "<div>\n",
       "<style scoped>\n",
       "    .dataframe tbody tr th:only-of-type {\n",
       "        vertical-align: middle;\n",
       "    }\n",
       "\n",
       "    .dataframe tbody tr th {\n",
       "        vertical-align: top;\n",
       "    }\n",
       "\n",
       "    .dataframe thead th {\n",
       "        text-align: right;\n",
       "    }\n",
       "</style>\n",
       "<table border=\"1\" class=\"dataframe\">\n",
       "  <thead>\n",
       "    <tr style=\"text-align: right;\">\n",
       "      <th></th>\n",
       "      <th>num_rental_active</th>\n",
       "    </tr>\n",
       "  </thead>\n",
       "  <tbody>\n",
       "    <tr>\n",
       "      <th>2022-07-01 00:00:00</th>\n",
       "      <td>399</td>\n",
       "    </tr>\n",
       "    <tr>\n",
       "      <th>2022-07-01 01:00:00</th>\n",
       "      <td>328</td>\n",
       "    </tr>\n",
       "    <tr>\n",
       "      <th>2022-07-01 02:00:00</th>\n",
       "      <td>198</td>\n",
       "    </tr>\n",
       "    <tr>\n",
       "      <th>2022-07-01 03:00:00</th>\n",
       "      <td>140</td>\n",
       "    </tr>\n",
       "    <tr>\n",
       "      <th>2022-07-01 04:00:00</th>\n",
       "      <td>113</td>\n",
       "    </tr>\n",
       "    <tr>\n",
       "      <th>2022-07-01 05:00:00</th>\n",
       "      <td>237</td>\n",
       "    </tr>\n",
       "    <tr>\n",
       "      <th>2022-07-01 06:00:00</th>\n",
       "      <td>598</td>\n",
       "    </tr>\n",
       "    <tr>\n",
       "      <th>2022-07-01 07:00:00</th>\n",
       "      <td>978</td>\n",
       "    </tr>\n",
       "    <tr>\n",
       "      <th>2022-07-01 08:00:00</th>\n",
       "      <td>1173</td>\n",
       "    </tr>\n",
       "    <tr>\n",
       "      <th>2022-07-01 09:00:00</th>\n",
       "      <td>1119</td>\n",
       "    </tr>\n",
       "  </tbody>\n",
       "</table>\n",
       "</div>"
      ],
      "text/plain": [
       "                     num_rental_active\n",
       "2022-07-01 00:00:00                399\n",
       "2022-07-01 01:00:00                328\n",
       "2022-07-01 02:00:00                198\n",
       "2022-07-01 03:00:00                140\n",
       "2022-07-01 04:00:00                113\n",
       "2022-07-01 05:00:00                237\n",
       "2022-07-01 06:00:00                598\n",
       "2022-07-01 07:00:00                978\n",
       "2022-07-01 08:00:00               1173\n",
       "2022-07-01 09:00:00               1119"
      ]
     },
     "execution_count": 46,
     "metadata": {},
     "output_type": "execute_result"
    }
   ],
   "source": [
    "hourly_intervals = pd.DataFrame({'num_rental_active' : rental_counts}, index=hourly_intervals.left)\n",
    "hourly_intervals.head(10)"
   ]
  },
  {
   "cell_type": "code",
   "execution_count": 47,
   "metadata": {},
   "outputs": [
    {
     "data": {
      "text/plain": [
       "<Axes: >"
      ]
     },
     "execution_count": 47,
     "metadata": {},
     "output_type": "execute_result"
    },
    {
     "data": {
      "image/png": "[encoded data removed]",
      "text/plain": [
       "<Figure size 1200x1200 with 1 Axes>"
      ]
     },
     "metadata": {},
     "output_type": "display_data"
    }
   ],
   "source": [
    "hourly_intervals.plot(column = \"num_rental_active\", kind = \"line\", figsize=(12,12))"
   ]
  },
  {
   "cell_type": "markdown",
   "metadata": {},
   "source": [
    "## b. Resampled"
   ]
  },
  {
   "cell_type": "code",
   "execution_count": 48,
   "metadata": {},
   "outputs": [
    {
     "data": {
      "text/plain": [
       "<Axes: >"
      ]
     },
     "execution_count": 48,
     "metadata": {},
     "output_type": "execute_result"
    },
    {
     "data": {
      "image/png": "[encoded data removed]",
      "text/plain": [
       "<Figure size 640x480 with 1 Axes>"
      ]
     },
     "metadata": {},
     "output_type": "display_data"
    }
   ],
   "source": [
    "daily_intervals = pd.DataFrame(hourly_intervals[\"num_rental_active\"].resample(\"D\").sum())\n",
    "# hourly_intervals.plot(kind = \"line\", column = \"num_rental_active\")\n",
    "daily_intervals.plot(column = \"num_rental_active\", kind = \"line\")"
   ]
  },
  {
   "cell_type": "markdown",
   "metadata": {},
   "source": [
    "## c. Questions"
   ]
  },
  {
   "cell_type": "markdown",
   "metadata": {},
   "source": [
    "1) In the july month rentals are more on weekdays than weekends. Many number of people use divvy bikes to commute This explains the usage\n",
    "2) It is actually showing the rentals of each day\n",
    "3) on 15th July there are very less overlapping rentals. There maybe sevaral factors, the 15th falls on friday."
   ]
  },
  {
   "cell_type": "markdown",
   "metadata": {},
   "source": [
    "## Extra Credit"
   ]
  },
  {
   "cell_type": "code",
   "execution_count": 49,
   "metadata": {},
   "outputs": [
    {
     "name": "stdout",
     "output_type": "stream",
     "text": [
      "\u001b[33mWARNING: Ignoring invalid distribution ~andas (/opt/homebrew/lib/python3.11/site-packages)\u001b[0m\u001b[33m\n",
      "\u001b[0m\u001b[33mWARNING: Ignoring invalid distribution ~andas (/opt/homebrew/lib/python3.11/site-packages)\u001b[0m\u001b[33m\n",
      "\u001b[0mCollecting pandas==1.5.3\n",
      "  Using cached pandas-1.5.3-cp311-cp311-macosx_11_0_arm64.whl (10.8 MB)\n",
      "Requirement already satisfied: python-dateutil>=2.8.1 in /Users/bhanukedhar/Library/Python/3.11/lib/python/site-packages (from pandas==1.5.3) (2.8.2)\n",
      "Requirement already satisfied: pytz>=2020.1 in /opt/homebrew/lib/python3.11/site-packages (from pandas==1.5.3) (2023.3)\n",
      "Requirement already satisfied: numpy>=1.21.0 in /opt/homebrew/lib/python3.11/site-packages (from pandas==1.5.3) (1.24.2)\n",
      "Requirement already satisfied: six>=1.5 in /Users/bhanukedhar/Library/Python/3.11/lib/python/site-packages (from python-dateutil>=2.8.1->pandas==1.5.3) (1.16.0)\n",
      "\u001b[33mWARNING: Ignoring invalid distribution ~andas (/opt/homebrew/lib/python3.11/site-packages)\u001b[0m\u001b[33m\n",
      "\u001b[0mInstalling collected packages: pandas\n",
      "\u001b[33mWARNING: Ignoring invalid distribution ~andas (/opt/homebrew/lib/python3.11/site-packages)\u001b[0m\u001b[33m\n",
      "\u001b[0mSuccessfully installed pandas\n",
      "\u001b[33mWARNING: Ignoring invalid distribution ~andas (/opt/homebrew/lib/python3.11/site-packages)\u001b[0m\u001b[33m\n",
      "\u001b[0m\u001b[33mWARNING: Ignoring invalid distribution ~andas (/opt/homebrew/lib/python3.11/site-packages)\u001b[0m\u001b[33m\n",
      "\u001b[0m\u001b[33mWARNING: Ignoring invalid distribution ~andas (/opt/homebrew/lib/python3.11/site-packages)\u001b[0m\u001b[33m\n",
      "\u001b[0m"
     ]
    }
   ],
   "source": [
    "# !pip3 uninstall pandas\n",
    "!pip3 install pandas==1.5.3"
   ]
  },
  {
   "cell_type": "code",
   "execution_count": 50,
   "metadata": {},
   "outputs": [
    {
     "name": "stderr",
     "output_type": "stream",
     "text": [
      "UserWarning: The pandas version installed (2.0.1) does not match the supported pandas version in Modin (1.5.3). This may cause undesired side effects!\n"
     ]
    },
    {
     "ename": "ImportError",
     "evalue": "cannot import name 'Int64Index' from 'pandas' (/opt/homebrew/lib/python3.11/site-packages/pandas/__init__.py)",
     "output_type": "error",
     "traceback": [
      "\u001b[0;31m---------------------------------------------------------------------------\u001b[0m",
      "\u001b[0;31mImportError\u001b[0m                               Traceback (most recent call last)",
      "Cell \u001b[0;32mIn[50], line 3\u001b[0m\n\u001b[1;32m      1\u001b[0m \u001b[39mimport\u001b[39;00m \u001b[39mpkg_resources\u001b[39;00m\n\u001b[1;32m      2\u001b[0m pkg_resources\u001b[39m.\u001b[39mrequire(\u001b[39m\"\u001b[39m\u001b[39mpandas==1.5.3\u001b[39m\u001b[39m\"\u001b[39m)\n\u001b[0;32m----> 3\u001b[0m \u001b[39mimport\u001b[39;00m \u001b[39mmodin\u001b[39;00m\u001b[39m.\u001b[39;00m\u001b[39mpandas\u001b[39;00m \u001b[39mas\u001b[39;00m \u001b[39mpd\u001b[39;00m\n",
      "File \u001b[0;32m/opt/homebrew/lib/python3.11/site-packages/modin/pandas/__init__.py:27\u001b[0m\n\u001b[1;32m     25\u001b[0m \u001b[39mwith\u001b[39;00m warnings\u001b[39m.\u001b[39mcatch_warnings():\n\u001b[1;32m     26\u001b[0m     warnings\u001b[39m.\u001b[39msimplefilter(\u001b[39m\"\u001b[39m\u001b[39mignore\u001b[39m\u001b[39m\"\u001b[39m)\n\u001b[0;32m---> 27\u001b[0m     \u001b[39mfrom\u001b[39;00m \u001b[39mpandas\u001b[39;00m \u001b[39mimport\u001b[39;00m (\n\u001b[1;32m     28\u001b[0m         \u001b[39meval\u001b[39m,\n\u001b[1;32m     29\u001b[0m         cut,\n\u001b[1;32m     30\u001b[0m         factorize,\n\u001b[1;32m     31\u001b[0m         test,\n\u001b[1;32m     32\u001b[0m         date_range,\n\u001b[1;32m     33\u001b[0m         period_range,\n\u001b[1;32m     34\u001b[0m         Index,\n\u001b[1;32m     35\u001b[0m         MultiIndex,\n\u001b[1;32m     36\u001b[0m         CategoricalIndex,\n\u001b[1;32m     37\u001b[0m         bdate_range,\n\u001b[1;32m     38\u001b[0m         DatetimeIndex,\n\u001b[1;32m     39\u001b[0m         Timedelta,\n\u001b[1;32m     40\u001b[0m         Timestamp,\n\u001b[1;32m     41\u001b[0m         set_eng_float_format,\n\u001b[1;32m     42\u001b[0m         options,\n\u001b[1;32m     43\u001b[0m         describe_option,\n\u001b[1;32m     44\u001b[0m         set_option,\n\u001b[1;32m     45\u001b[0m         get_option,\n\u001b[1;32m     46\u001b[0m         reset_option,\n\u001b[1;32m     47\u001b[0m         option_context,\n\u001b[1;32m     48\u001b[0m         NaT,\n\u001b[1;32m     49\u001b[0m         PeriodIndex,\n\u001b[1;32m     50\u001b[0m         Categorical,\n\u001b[1;32m     51\u001b[0m         Interval,\n\u001b[1;32m     52\u001b[0m         UInt8Dtype,\n\u001b[1;32m     53\u001b[0m         UInt16Dtype,\n\u001b[1;32m     54\u001b[0m         UInt32Dtype,\n\u001b[1;32m     55\u001b[0m         UInt64Dtype,\n\u001b[1;32m     56\u001b[0m         SparseDtype,\n\u001b[1;32m     57\u001b[0m         Int8Dtype,\n\u001b[1;32m     58\u001b[0m         Int16Dtype,\n\u001b[1;32m     59\u001b[0m         Int32Dtype,\n\u001b[1;32m     60\u001b[0m         Int64Dtype,\n\u001b[1;32m     61\u001b[0m         StringDtype,\n\u001b[1;32m     62\u001b[0m         BooleanDtype,\n\u001b[1;32m     63\u001b[0m         CategoricalDtype,\n\u001b[1;32m     64\u001b[0m         DatetimeTZDtype,\n\u001b[1;32m     65\u001b[0m         IntervalDtype,\n\u001b[1;32m     66\u001b[0m         PeriodDtype,\n\u001b[1;32m     67\u001b[0m         RangeIndex,\n\u001b[1;32m     68\u001b[0m         Int64Index,\n\u001b[1;32m     69\u001b[0m         UInt64Index,\n\u001b[1;32m     70\u001b[0m         Float64Index,\n\u001b[1;32m     71\u001b[0m         TimedeltaIndex,\n\u001b[1;32m     72\u001b[0m         IntervalIndex,\n\u001b[1;32m     73\u001b[0m         IndexSlice,\n\u001b[1;32m     74\u001b[0m         Grouper,\n\u001b[1;32m     75\u001b[0m         array,\n\u001b[1;32m     76\u001b[0m         Period,\n\u001b[1;32m     77\u001b[0m         DateOffset,\n\u001b[1;32m     78\u001b[0m         timedelta_range,\n\u001b[1;32m     79\u001b[0m         infer_freq,\n\u001b[1;32m     80\u001b[0m         interval_range,\n\u001b[1;32m     81\u001b[0m         ExcelWriter,\n\u001b[1;32m     82\u001b[0m         datetime,\n\u001b[1;32m     83\u001b[0m         NamedAgg,\n\u001b[1;32m     84\u001b[0m         NA,\n\u001b[1;32m     85\u001b[0m         api,\n\u001b[1;32m     86\u001b[0m         ArrowDtype,\n\u001b[1;32m     87\u001b[0m         Flags,\n\u001b[1;32m     88\u001b[0m         Float32Dtype,\n\u001b[1;32m     89\u001b[0m         Float64Dtype,\n\u001b[1;32m     90\u001b[0m         from_dummies,\n\u001b[1;32m     91\u001b[0m     )\n\u001b[1;32m     92\u001b[0m \u001b[39mimport\u001b[39;00m \u001b[39mos\u001b[39;00m\n\u001b[1;32m     94\u001b[0m \u001b[39mfrom\u001b[39;00m \u001b[39mmodin\u001b[39;00m\u001b[39m.\u001b[39;00m\u001b[39mconfig\u001b[39;00m \u001b[39mimport\u001b[39;00m Parameter\n",
      "\u001b[0;31mImportError\u001b[0m: cannot import name 'Int64Index' from 'pandas' (/opt/homebrew/lib/python3.11/site-packages/pandas/__init__.py)"
     ]
    }
   ],
   "source": [
    "import pkg_resources\n",
    "pkg_resources.require(\"pandas==1.5.3\")\n",
    "import modin.pandas as pd"
   ]
  },
  {
   "cell_type": "code",
   "execution_count": null,
   "metadata": {},
   "outputs": [],
   "source": []
  },
  {
   "cell_type": "code",
   "execution_count": null,
   "metadata": {},
   "outputs": [],
   "source": []
  }
 ],
 "metadata": {
  "kernelspec": {
   "display_name": "Python 3 (ipykernel)",
   "language": "python",
   "name": "python3"
  },
  "language_info": {
   "codemirror_mode": {
    "name": "ipython",
    "version": 3
   },
   "file_extension": ".py",
   "mimetype": "text/x-python",
   "name": "python",
   "nbconvert_exporter": "python",
   "pygments_lexer": "ipython3",
   "version": "3.11.3"
  },
  "vscode": {
   "interpreter": {
    "hash": "b0fa6594d8f4cbf19f97940f81e996739fb7646882a419484c72d19e05852a7e"
   }
  }
 },
 "nbformat": 4,
 "nbformat_minor": 2
}
