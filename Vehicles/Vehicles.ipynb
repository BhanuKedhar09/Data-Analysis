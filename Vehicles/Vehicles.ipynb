{
 "cells": [
  {
   "cell_type": "markdown",
   "id": "54992f8c-c2b4-4a58-8c38-a271f0c4a07e",
   "metadata": {},
   "source": [
    "## Large Arrays"
   ]
  },
  {
   "cell_type": "code",
   "execution_count": 90,
   "id": "0feeacfb-4b64-416c-a232-3de290fac7e9",
   "metadata": {},
   "outputs": [
    {
     "data": {
      "text/plain": [
       "('weather-buoy-data.txt.gz', <http.client.HTTPMessage at 0x117339bd0>)"
      ]
     },
     "execution_count": 90,
     "metadata": {},
     "output_type": "execute_result"
    }
   ],
   "source": [
    "import urllib\n",
    "\n",
    "local_fname = 'weather-buoy-data.txt.gz'\n",
    "urllib.request.urlretrieve('https://www.ndbc.noaa.gov/data/historical/stdmet/42040h2021.txt.gz', local_fname)"
   ]
  },
  {
   "cell_type": "code",
   "execution_count": 91,
   "id": "aa19697d-850f-42ad-8d56-ab81d33281e1",
   "metadata": {},
   "outputs": [],
   "source": [
    "import gzip\n",
    "\n",
    "f = iter(gzip.open('weather-buoy-data.txt.gz'))\n",
    "next(f)\n",
    "next(f)\n",
    "vals = []\n",
    "for line in f:\n",
    "    vals.append(float(line.split()[5]))"
   ]
  },
  {
   "cell_type": "code",
   "execution_count": 92,
   "id": "ade59537-f921-4ecb-95f4-83360baa2119",
   "metadata": {},
   "outputs": [
    {
     "data": {
      "text/plain": [
       "array([[88.     , 88.09091, 88.18182, 88.27273, ..., 88.81818, 88.     ,\n",
       "        88.09091, 88.18182],\n",
       "       [88.27273, 88.36364, 88.45455, 88.54545, ..., 88.18182, 88.27273,\n",
       "        88.36364, 88.45455],\n",
       "       [88.54545, 88.63636, 88.72727, 88.81818, ..., 88.45455, 88.54545,\n",
       "        88.63636, 88.72727],\n",
       "       [88.81818, 88.     , 88.09091, 88.18182, ..., 88.72727, 88.81818,\n",
       "        88.     , 88.09091],\n",
       "       ...,\n",
       "       [88.54545, 88.63636, 88.72727, 88.81818, ..., 88.45455, 88.54545,\n",
       "        88.63636, 88.72727],\n",
       "       [88.81818, 88.     , 88.09091, 88.18182, ..., 88.72727, 88.81818,\n",
       "        88.     , 88.09091],\n",
       "       [88.18182, 88.27273, 88.36364, 88.45455, ..., 88.09091, 88.18182,\n",
       "        88.27273, 88.36364],\n",
       "       [88.45455, 88.54545, 88.63636, 88.72727, ..., 88.36364, 88.45455,\n",
       "        88.54545, 88.63636]])"
      ]
     },
     "execution_count": 92,
     "metadata": {},
     "output_type": "execute_result"
    }
   ],
   "source": [
    "import numpy as np\n",
    "\n",
    "orig = (vals[0] + (np.arange(len(vals)) % 10) / 11).reshape((16,2333))"
   ]
  },
  {
   "cell_type": "code",
   "execution_count": 93,
   "id": "02956456-f862-4ffc-80a5-f3c778f7d4ad",
   "metadata": {},
   "outputs": [
    {
     "data": {
      "text/plain": [
       "array([[88.  , 88.09, 88.18, 88.27, ..., 88.82, 88.  , 88.09, 88.18],\n",
       "       [88.27, 88.36, 88.45, 88.55, ..., 88.18, 88.27, 88.36, 88.45],\n",
       "       [88.55, 88.64, 88.73, 88.82, ..., 88.45, 88.55, 88.64, 88.73],\n",
       "       [88.82, 88.  , 88.09, 88.18, ..., 88.73, 88.82, 88.  , 88.09],\n",
       "       ...,\n",
       "       [88.55, 88.64, 88.73, 88.82, ..., 88.45, 88.55, 88.64, 88.73],\n",
       "       [88.82, 88.  , 88.09, 88.18, ..., 88.73, 88.82, 88.  , 88.09],\n",
       "       [88.18, 88.27, 88.36, 88.45, ..., 88.09, 88.18, 88.27, 88.36],\n",
       "       [88.45, 88.55, 88.64, 88.73, ..., 88.36, 88.45, 88.55, 88.64]])"
      ]
     },
     "execution_count": 93,
     "metadata": {},
     "output_type": "execute_result"
    }
   ],
   "source": [
    "import numpy as np\n",
    "a = np.round(orig, 2)"
   ]
  },
  {
   "cell_type": "code",
   "execution_count": 94,
   "id": "51bb045f-c544-4b61-b4dc-2efcdeb42961",
   "metadata": {},
   "outputs": [
    {
     "data": {
      "text/plain": [
       "array([[88.  , 88.09, 88.18, 88.27, ..., 88.81, 88.  , 88.09, 88.18],\n",
       "       [88.27, 88.36, 88.45, 88.54, ..., 88.18, 88.27, 88.36, 88.45],\n",
       "       [88.54, 88.63, 88.72, 88.81, ..., 88.45, 88.54, 88.63, 88.72],\n",
       "       [88.81, 88.  , 88.09, 88.18, ..., 88.72, 88.81, 88.  , 88.09],\n",
       "       ...,\n",
       "       [88.54, 88.63, 88.72, 88.81, ..., 88.45, 88.54, 88.63, 88.72],\n",
       "       [88.81, 88.  , 88.09, 88.18, ..., 88.72, 88.81, 88.  , 88.09],\n",
       "       [88.18, 88.27, 88.36, 88.45, ..., 88.09, 88.18, 88.27, 88.36],\n",
       "       [88.45, 88.54, 88.63, 88.72, ..., 88.36, 88.45, 88.54, 88.63]])"
      ]
     },
     "execution_count": 94,
     "metadata": {},
     "output_type": "execute_result"
    }
   ],
   "source": [
    "b = np.floor(orig*100)/100"
   ]
  },
  {
   "cell_type": "code",
   "execution_count": 95,
   "id": "5b1a8aec-1cbf-4ca3-bb52-2504b0b43e74",
   "metadata": {},
   "outputs": [
    {
     "data": {
      "text/plain": [
       "array([[88.  , 88.09, 88.18, 88.27, ..., 88.82, 88.  , 88.09, 88.18],\n",
       "       [88.27, 88.36, 88.45, 88.55, ..., 88.18, 88.27, 88.36, 88.45],\n",
       "       [88.55, 88.64, 88.73, 88.82, ..., 88.45, 88.55, 88.64, 88.73],\n",
       "       [88.82, 88.  , 88.09, 88.18, ..., 88.73, 88.82, 88.  , 88.09],\n",
       "       ...,\n",
       "       [88.55, 88.64, 88.73, 88.82, ..., 88.45, 88.55, 88.64, 88.73],\n",
       "       [88.82, 88.  , 88.09, 88.18, ..., 88.73, 88.82, 88.  , 88.09],\n",
       "       [88.18, 88.27, 88.36, 88.45, ..., 88.09, 88.18, 88.27, 88.36],\n",
       "       [88.45, 88.55, 88.64, 88.73, ..., 88.36, 88.45, 88.55, 88.64]])"
      ]
     },
     "execution_count": 95,
     "metadata": {},
     "output_type": "execute_result"
    }
   ],
   "source": [
    "c = np.delete(a, 5, 1)"
   ]
  },
  {
   "cell_type": "code",
   "execution_count": 96,
   "id": "b06e6f5e-c805-4435-85d3-430744ca15c8",
   "metadata": {},
   "outputs": [
    {
     "data": {
      "text/plain": [
       "False"
      ]
     },
     "execution_count": 96,
     "metadata": {},
     "output_type": "execute_result"
    }
   ],
   "source": [
    "np.array_equal(a,c)"
   ]
  },
  {
   "cell_type": "code",
   "execution_count": 97,
   "id": "a63120a7-7626-4692-938c-f90e01d93d9b",
   "metadata": {},
   "outputs": [
    {
     "data": {
      "text/plain": [
       "((16, 2333), (16, 2333), (16, 2332))"
      ]
     },
     "execution_count": 97,
     "metadata": {},
     "output_type": "execute_result"
    }
   ],
   "source": [
    "a.shape, b.shape, c.shape"
   ]
  },
  {
   "cell_type": "markdown",
   "id": "e1854ad0-0b11-4317-a025-84a31087f089",
   "metadata": {},
   "source": [
    "## Real-Time Data"
   ]
  },
  {
   "cell_type": "code",
   "execution_count": 43,
   "id": "ab24461a-a74b-4b24-a49b-c9682426906e",
   "metadata": {},
   "outputs": [
    {
     "data": {
      "text/plain": [
       "('fl-weather-alerts.json', <http.client.HTTPMessage at 0x11733b3a0>)"
      ]
     },
     "execution_count": 43,
     "metadata": {},
     "output_type": "execute_result"
    }
   ],
   "source": [
    "import urllib\n",
    "\n",
    "local_fname = 'fl-weather-alerts.json'\n",
    "urllib.request.urlretrieve('https://api.weather.gov/alerts/active?area=FL', local_fname)"
   ]
  },
  {
   "cell_type": "code",
   "execution_count": 44,
   "id": "2477e9a1-c60d-4619-97c1-c8aaa218509a",
   "metadata": {},
   "outputs": [],
   "source": [
    "import json\n",
    "d = json.load(open(local_fname));"
   ]
  },
  {
   "cell_type": "code",
   "execution_count": 46,
   "id": "ff516426-38e8-40e1-9728-ff85ee668631",
   "metadata": {},
   "outputs": [
    {
     "data": {
      "text/plain": [
       "181"
      ]
     },
     "execution_count": 46,
     "metadata": {},
     "output_type": "execute_result"
    }
   ],
   "source": [
    "len(d['features'])"
   ]
  },
  {
   "cell_type": "code",
   "execution_count": 49,
   "id": "3e99559e-ce3d-4b0c-96fb-4529a89bb7d8",
   "metadata": {},
   "outputs": [
    {
     "data": {
      "text/plain": [
       "['Tropical Storm Warning issued September 27 at 5:04PM EDT by NWS Tallahassee FL',\n",
       " 'Tropical Storm Warning issued September 27 at 5:04PM EDT by NWS Tallahassee FL',\n",
       " 'Tropical Storm Warning issued September 27 at 5:04PM EDT by NWS Tallahassee FL',\n",
       " 'Tropical Storm Warning issued September 27 at 5:04PM EDT by NWS Tallahassee FL',\n",
       " 'Tropical Storm Warning issued September 27 at 5:04PM EDT by NWS Tallahassee FL',\n",
       " 'Tropical Storm Warning issued September 27 at 5:04PM EDT by NWS Tallahassee FL',\n",
       " 'Tornado Warning issued September 27 at 5:03PM EDT until September 27 at 5:30PM EDT by NWS Miami FL',\n",
       " 'Coastal Flood Statement issued September 27 at 5:01PM EDT until September 29 at 8:00PM EDT by NWS Miami FL',\n",
       " 'Coastal Flood Statement issued September 27 at 5:01PM EDT until September 29 at 8:00PM EDT by NWS Miami FL',\n",
       " 'Tornado Watch issued September 27 at 4:59PM EDT until September 28 at 5:00AM EDT by NWS Miami FL',\n",
       " 'Tornado Watch issued September 27 at 4:59PM EDT until September 28 at 5:00AM EDT by NWS Miami FL',\n",
       " 'Tropical Storm Warning issued September 27 at 4:59PM EDT by NWS Miami FL',\n",
       " 'Tropical Storm Warning issued September 27 at 4:59PM EDT by NWS Miami FL',\n",
       " 'Tropical Storm Warning issued September 27 at 4:59PM EDT by NWS Miami FL',\n",
       " 'Tropical Storm Warning issued September 27 at 4:59PM EDT by NWS Miami FL',\n",
       " 'Tropical Storm Warning issued September 27 at 4:59PM EDT by NWS Miami FL',\n",
       " 'Storm Surge Warning issued September 27 at 4:59PM EDT by NWS Miami FL',\n",
       " 'Tropical Storm Warning issued September 27 at 4:59PM EDT by NWS Miami FL',\n",
       " 'Tropical Storm Warning issued September 27 at 4:59PM EDT by NWS Miami FL',\n",
       " 'Tropical Storm Warning issued September 27 at 4:59PM EDT by NWS Miami FL',\n",
       " 'Tropical Storm Warning issued September 27 at 4:59PM EDT by NWS Miami FL',\n",
       " 'Tropical Storm Warning issued September 27 at 4:59PM EDT by NWS Miami FL',\n",
       " 'Hurricane Watch issued September 27 at 4:59PM EDT by NWS Miami FL',\n",
       " 'Storm Surge Warning issued September 27 at 4:59PM EDT by NWS Miami FL',\n",
       " 'Hurricane Watch issued September 27 at 4:59PM EDT by NWS Miami FL',\n",
       " 'Tropical Storm Warning issued September 27 at 4:59PM EDT by NWS Miami FL',\n",
       " 'Storm Surge Watch issued September 27 at 4:59PM EDT by NWS Miami FL',\n",
       " 'Tropical Storm Warning issued September 27 at 4:59PM EDT by NWS Miami FL',\n",
       " 'Tropical Storm Warning issued September 27 at 4:59PM EDT by NWS Miami FL',\n",
       " 'Tropical Storm Warning issued September 27 at 4:59PM EDT by NWS Miami FL',\n",
       " 'Hurricane Watch issued September 27 at 4:59PM EDT by NWS Miami FL',\n",
       " 'Hurricane Warning issued September 27 at 4:59PM EDT by NWS Miami FL',\n",
       " 'Flood Advisory issued September 27 at 4:48PM EDT until September 27 at 7:45PM EDT by NWS Miami FL',\n",
       " 'Tornado Watch issued September 27 at 4:46PM EDT until September 28 at 5:00AM EDT by NWS Key West FL',\n",
       " 'Tornado Watch issued September 27 at 4:45PM EDT until September 28 at 5:00AM EDT by NWS Melbourne FL',\n",
       " 'Tornado Warning issued September 27 at 4:43PM EDT until September 27 at 5:15PM EDT by NWS Miami FL',\n",
       " 'Flood Watch issued September 27 at 4:34PM EDT until October 1 at 2:00AM EDT by NWS Jacksonville FL',\n",
       " 'Flood Advisory issued September 27 at 4:23PM EDT until September 27 at 6:45PM EDT by NWS Miami FL',\n",
       " 'Flood Advisory issued September 27 at 4:04PM EDT until September 27 at 7:00PM EDT by NWS Miami FL',\n",
       " 'Rip Current Statement issued September 27 at 3:02PM CDT until October 1 at 6:00AM CDT by NWS Mobile AL',\n",
       " 'Wind Advisory issued September 27 at 3:01PM CDT until September 28 at 10:00PM CDT by NWS Mobile AL',\n",
       " 'Red Flag Warning issued September 27 at 2:59PM CDT until September 28 at 7:00PM CDT by NWS Mobile AL',\n",
       " 'Red Flag Warning issued September 27 at 2:59PM CDT until September 27 at 7:00PM CDT by NWS Mobile AL',\n",
       " 'Flood Watch issued September 27 at 3:58PM EDT until September 29 at 8:00AM EDT by NWS Miami FL',\n",
       " 'Flood Advisory issued September 27 at 3:17PM EDT until September 27 at 6:15PM EDT by NWS Miami FL',\n",
       " 'Red Flag Warning issued September 27 at 3:05PM EDT until September 28 at 8:00PM EDT by NWS Tallahassee FL',\n",
       " 'Tropical Cyclone Statement issued September 27 at 2:25PM EDT by NWS Tampa Bay Ruskin FL',\n",
       " 'Tropical Storm Warning issued September 27 at 2:16PM EDT by NWS Tampa Bay Ruskin FL',\n",
       " 'Hurricane Watch issued September 27 at 2:16PM EDT by NWS Tampa Bay Ruskin FL',\n",
       " 'Storm Surge Warning issued September 27 at 2:16PM EDT by NWS Tampa Bay Ruskin FL',\n",
       " 'Storm Surge Warning issued September 27 at 2:16PM EDT by NWS Tampa Bay Ruskin FL',\n",
       " 'Hurricane Watch issued September 27 at 2:16PM EDT by NWS Tampa Bay Ruskin FL',\n",
       " 'Hurricane Warning issued September 27 at 2:16PM EDT by NWS Tampa Bay Ruskin FL',\n",
       " 'Hurricane Watch issued September 27 at 2:16PM EDT by NWS Tampa Bay Ruskin FL',\n",
       " 'Tropical Storm Warning issued September 27 at 2:16PM EDT by NWS Tampa Bay Ruskin FL',\n",
       " 'Hurricane Watch issued September 27 at 2:16PM EDT by NWS Tampa Bay Ruskin FL',\n",
       " 'Tropical Storm Warning issued September 27 at 2:16PM EDT by NWS Tampa Bay Ruskin FL',\n",
       " 'Hurricane Watch issued September 27 at 2:16PM EDT by NWS Tampa Bay Ruskin FL',\n",
       " 'Hurricane Watch issued September 27 at 2:16PM EDT by NWS Tampa Bay Ruskin FL',\n",
       " 'Tropical Storm Warning issued September 27 at 2:16PM EDT by NWS Tampa Bay Ruskin FL',\n",
       " 'Tropical Storm Warning issued September 27 at 2:16PM EDT by NWS Tampa Bay Ruskin FL',\n",
       " 'Tropical Storm Warning issued September 27 at 2:16PM EDT by NWS Tampa Bay Ruskin FL',\n",
       " 'Storm Surge Warning issued September 27 at 2:16PM EDT by NWS Tampa Bay Ruskin FL',\n",
       " 'Storm Surge Warning issued September 27 at 2:16PM EDT by NWS Tampa Bay Ruskin FL',\n",
       " 'Hurricane Warning issued September 27 at 2:16PM EDT by NWS Tampa Bay Ruskin FL',\n",
       " 'Hurricane Warning issued September 27 at 2:16PM EDT by NWS Tampa Bay Ruskin FL',\n",
       " 'Storm Surge Warning issued September 27 at 2:16PM EDT by NWS Tampa Bay Ruskin FL',\n",
       " 'Hurricane Warning issued September 27 at 2:16PM EDT by NWS Tampa Bay Ruskin FL',\n",
       " 'Hurricane Watch issued September 27 at 2:16PM EDT by NWS Tampa Bay Ruskin FL',\n",
       " 'Hurricane Warning issued September 27 at 2:16PM EDT by NWS Tampa Bay Ruskin FL',\n",
       " 'Hurricane Warning issued September 27 at 2:16PM EDT by NWS Tampa Bay Ruskin FL',\n",
       " 'Storm Surge Warning issued September 27 at 2:16PM EDT by NWS Tampa Bay Ruskin FL',\n",
       " 'Hurricane Watch issued September 27 at 2:16PM EDT by NWS Tampa Bay Ruskin FL',\n",
       " 'Hurricane Watch issued September 27 at 2:16PM EDT by NWS Tampa Bay Ruskin FL',\n",
       " 'Tropical Storm Warning issued September 27 at 2:16PM EDT by NWS Tampa Bay Ruskin FL',\n",
       " 'Hurricane Warning issued September 27 at 2:16PM EDT by NWS Tampa Bay Ruskin FL',\n",
       " 'Storm Surge Warning issued September 27 at 2:16PM EDT by NWS Tampa Bay Ruskin FL',\n",
       " 'Tropical Storm Warning issued September 27 at 2:16PM EDT by NWS Tampa Bay Ruskin FL',\n",
       " 'Hurricane Warning issued September 27 at 2:16PM EDT by NWS Tampa Bay Ruskin FL',\n",
       " 'Storm Surge Warning issued September 27 at 2:16PM EDT by NWS Tampa Bay Ruskin FL',\n",
       " 'Hurricane Warning issued September 27 at 2:16PM EDT by NWS Tampa Bay Ruskin FL',\n",
       " 'Hurricane Warning issued September 27 at 2:16PM EDT by NWS Tampa Bay Ruskin FL',\n",
       " 'Tropical Storm Warning issued September 27 at 2:16PM EDT by NWS Tampa Bay Ruskin FL',\n",
       " 'Hurricane Warning issued September 27 at 2:16PM EDT by NWS Tampa Bay Ruskin FL',\n",
       " 'Hurricane Watch issued September 27 at 2:16PM EDT by NWS Tampa Bay Ruskin FL',\n",
       " 'Hurricane Warning issued September 27 at 2:16PM EDT by NWS Tampa Bay Ruskin FL',\n",
       " 'Storm Surge Warning issued September 27 at 2:16PM EDT by NWS Tampa Bay Ruskin FL',\n",
       " 'Hurricane Warning issued September 27 at 2:16PM EDT by NWS Tampa Bay Ruskin FL',\n",
       " 'Hurricane Warning issued September 27 at 2:16PM EDT by NWS Tampa Bay Ruskin FL',\n",
       " 'Tropical Storm Warning issued September 27 at 2:16PM EDT by NWS Tampa Bay Ruskin FL',\n",
       " 'Storm Surge Warning issued September 27 at 2:16PM EDT by NWS Tampa Bay Ruskin FL',\n",
       " 'Storm Surge Warning issued September 27 at 2:16PM EDT by NWS Tampa Bay Ruskin FL',\n",
       " 'Tropical Cyclone Statement issued September 27 at 2:14PM EDT by NWS Miami FL',\n",
       " 'Tropical Cyclone Statement issued September 27 at 12:23PM EDT by NWS Key West FL',\n",
       " 'Tropical Cyclone Statement issued September 27 at 12:11PM EDT by NWS Melbourne FL',\n",
       " 'Tropical Cyclone Statement issued September 27 at 11:32AM EDT by NWS Jacksonville FL',\n",
       " 'Tropical Cyclone Statement issued September 27 at 11:27AM EDT by NWS Tampa Bay Ruskin FL',\n",
       " 'Flood Watch issued September 27 at 11:21AM EDT until October 1 at 2:00AM EDT by NWS Jacksonville FL',\n",
       " 'Tropical Storm Warning issued September 27 at 11:19AM EDT by NWS Melbourne FL',\n",
       " 'Tropical Storm Warning issued September 27 at 11:19AM EDT by NWS Melbourne FL',\n",
       " 'Tropical Storm Warning issued September 27 at 11:19AM EDT by NWS Melbourne FL',\n",
       " 'Tropical Storm Warning issued September 27 at 11:19AM EDT by NWS Melbourne FL',\n",
       " 'Tropical Storm Warning issued September 27 at 11:19AM EDT by NWS Melbourne FL',\n",
       " 'Tropical Storm Warning issued September 27 at 11:19AM EDT by NWS Melbourne FL',\n",
       " 'Tropical Storm Warning issued September 27 at 11:19AM EDT by NWS Melbourne FL',\n",
       " 'Tropical Storm Warning issued September 27 at 11:19AM EDT by NWS Melbourne FL',\n",
       " 'Tropical Storm Warning issued September 27 at 11:19AM EDT by NWS Melbourne FL',\n",
       " 'Tropical Storm Warning issued September 27 at 11:19AM EDT by NWS Melbourne FL',\n",
       " 'Tropical Storm Warning issued September 27 at 11:19AM EDT by NWS Melbourne FL',\n",
       " 'Tropical Storm Warning issued September 27 at 11:19AM EDT by NWS Melbourne FL',\n",
       " 'Hurricane Watch issued September 27 at 11:19AM EDT by NWS Melbourne FL',\n",
       " 'Tropical Storm Warning issued September 27 at 11:19AM EDT by NWS Melbourne FL',\n",
       " 'Tropical Storm Warning issued September 27 at 11:19AM EDT by NWS Melbourne FL',\n",
       " 'Tropical Storm Warning issued September 27 at 11:19AM EDT by NWS Melbourne FL',\n",
       " 'Tropical Storm Warning issued September 27 at 11:19AM EDT by NWS Melbourne FL',\n",
       " 'Tropical Storm Warning issued September 27 at 11:19AM EDT by NWS Melbourne FL',\n",
       " 'Tropical Storm Warning issued September 27 at 11:19AM EDT by NWS Melbourne FL',\n",
       " 'Hurricane Watch issued September 27 at 11:19AM EDT by NWS Melbourne FL',\n",
       " 'Tropical Storm Warning issued September 27 at 11:19AM EDT by NWS Melbourne FL',\n",
       " 'Hurricane Watch issued September 27 at 11:19AM EDT by NWS Melbourne FL',\n",
       " 'Tropical Storm Warning issued September 27 at 11:19AM EDT by NWS Melbourne FL',\n",
       " 'Hurricane Watch issued September 27 at 11:19AM EDT by NWS Melbourne FL',\n",
       " 'Hurricane Watch issued September 27 at 11:19AM EDT by NWS Melbourne FL',\n",
       " 'Hurricane Watch issued September 27 at 11:19AM EDT by NWS Melbourne FL',\n",
       " 'Tropical Cyclone Statement issued September 27 at 11:17AM EDT by NWS Miami FL',\n",
       " 'Storm Surge Watch issued September 27 at 11:15AM EDT by NWS Key West FL',\n",
       " 'Storm Surge Watch issued September 27 at 11:15AM EDT by NWS Key West FL',\n",
       " 'Tropical Storm Warning issued September 27 at 11:15AM EDT by NWS Key West FL',\n",
       " 'Storm Surge Watch issued September 27 at 11:15AM EDT by NWS Key West FL',\n",
       " 'Tropical Storm Warning issued September 27 at 11:15AM EDT by NWS Key West FL',\n",
       " 'Tropical Storm Watch issued September 27 at 11:15AM EDT by NWS Key West FL',\n",
       " 'Tropical Storm Warning issued September 27 at 11:13AM EDT by NWS Jacksonville FL',\n",
       " 'Storm Surge Warning issued September 27 at 11:13AM EDT by NWS Jacksonville FL',\n",
       " 'Tropical Storm Warning issued September 27 at 11:13AM EDT by NWS Jacksonville FL',\n",
       " 'Tropical Storm Warning issued September 27 at 11:13AM EDT by NWS Jacksonville FL',\n",
       " 'Storm Surge Warning issued September 27 at 11:13AM EDT by NWS Jacksonville FL',\n",
       " 'Tropical Storm Warning issued September 27 at 11:13AM EDT by NWS Jacksonville FL',\n",
       " 'Storm Surge Warning issued September 27 at 11:13AM EDT by NWS Jacksonville FL',\n",
       " 'Tropical Storm Warning issued September 27 at 11:13AM EDT by NWS Jacksonville FL',\n",
       " 'Storm Surge Warning issued September 27 at 11:13AM EDT by NWS Jacksonville FL',\n",
       " 'Storm Surge Warning issued September 27 at 11:13AM EDT by NWS Jacksonville FL',\n",
       " 'Tropical Storm Warning issued September 27 at 11:13AM EDT by NWS Jacksonville FL',\n",
       " 'Tropical Storm Warning issued September 27 at 11:13AM EDT by NWS Jacksonville FL',\n",
       " 'Storm Surge Watch issued September 27 at 11:13AM EDT by NWS Jacksonville FL',\n",
       " 'Tropical Storm Warning issued September 27 at 11:13AM EDT by NWS Jacksonville FL',\n",
       " 'Tropical Storm Warning issued September 27 at 11:13AM EDT by NWS Jacksonville FL',\n",
       " 'Tropical Storm Warning issued September 27 at 11:13AM EDT by NWS Jacksonville FL',\n",
       " 'Tropical Storm Warning issued September 27 at 11:13AM EDT by NWS Jacksonville FL',\n",
       " 'Tropical Storm Warning issued September 27 at 11:13AM EDT by NWS Jacksonville FL',\n",
       " 'Storm Surge Warning issued September 27 at 11:13AM EDT by NWS Jacksonville FL',\n",
       " 'Tropical Storm Warning issued September 27 at 11:13AM EDT by NWS Jacksonville FL',\n",
       " 'Tropical Storm Watch issued September 27 at 11:13AM EDT by NWS Jacksonville FL',\n",
       " 'Tropical Storm Watch issued September 27 at 11:13AM EDT by NWS Jacksonville FL',\n",
       " 'Tropical Storm Watch issued September 27 at 11:13AM EDT by NWS Jacksonville FL',\n",
       " 'Tropical Storm Warning issued September 27 at 11:13AM EDT by NWS Jacksonville FL',\n",
       " 'Storm Surge Warning issued September 27 at 11:13AM EDT by NWS Jacksonville FL',\n",
       " 'Tropical Storm Watch issued September 27 at 11:13AM EDT by NWS Jacksonville FL',\n",
       " 'Tropical Storm Warning issued September 27 at 11:13AM EDT by NWS Jacksonville FL',\n",
       " 'Tropical Storm Watch issued September 27 at 11:13AM EDT by NWS Jacksonville FL',\n",
       " 'Tropical Storm Watch issued September 27 at 11:13AM EDT by NWS Jacksonville FL',\n",
       " 'Tropical Storm Watch issued September 27 at 11:13AM EDT by NWS Jacksonville FL',\n",
       " 'Tropical Storm Warning issued September 27 at 11:13AM EDT by NWS Jacksonville FL',\n",
       " 'Flood Watch issued September 27 at 11:04AM EDT until September 28 at 6:00AM EDT by NWS Key West FL',\n",
       " 'Flood Warning issued September 27 at 10:33AM EDT by NWS Tampa Bay Ruskin FL',\n",
       " 'Flood Warning issued September 27 at 10:29AM EDT by NWS Tampa Bay Ruskin FL',\n",
       " 'Flood Warning issued September 27 at 10:29AM EDT by NWS Tampa Bay Ruskin FL',\n",
       " 'Flood Warning issued September 27 at 10:29AM EDT by NWS Tampa Bay Ruskin FL',\n",
       " 'Flood Warning issued September 27 at 10:29AM EDT by NWS Tampa Bay Ruskin FL',\n",
       " 'Flood Warning issued September 27 at 10:29AM EDT by NWS Tampa Bay Ruskin FL',\n",
       " 'Flood Warning issued September 27 at 10:29AM EDT by NWS Tampa Bay Ruskin FL',\n",
       " 'Flood Warning issued September 27 at 10:29AM EDT by NWS Tampa Bay Ruskin FL',\n",
       " 'Flood Warning issued September 27 at 10:29AM EDT by NWS Tampa Bay Ruskin FL',\n",
       " 'Flood Warning issued September 27 at 10:29AM EDT by NWS Melbourne FL',\n",
       " 'Rip Current Statement issued September 27 at 4:33AM CDT until October 1 at 6:00AM CDT by NWS Mobile AL',\n",
       " 'Flood Watch issued September 26 at 4:59PM EDT until September 30 at 2:00AM EDT by NWS Tampa Bay Ruskin FL',\n",
       " 'Rip Current Statement issued September 26 at 4:43PM EDT until September 29 at 8:00PM EDT by NWS Miami FL',\n",
       " 'Rip Current Statement issued September 26 at 4:43PM EDT until September 29 at 8:00PM EDT by NWS Miami FL',\n",
       " 'Coastal Flood Statement issued September 26 at 4:43PM EDT until September 29 at 8:00PM EDT by NWS Miami FL',\n",
       " 'Coastal Flood Statement issued September 26 at 4:43PM EDT until September 29 at 8:00PM EDT by NWS Miami FL',\n",
       " 'Flood Watch issued September 26 at 2:29PM EDT until September 30 at 2:00AM EDT by NWS Melbourne FL',\n",
       " 'Flood Warning issued September 26 at 9:41AM EDT until September 28 at 8:00AM EDT by NWS Tampa Bay Ruskin FL']"
      ]
     },
     "execution_count": 49,
     "metadata": {},
     "output_type": "execute_result"
    }
   ],
   "source": [
    "[feat['properties']['headline'] for feat in d['features']]"
   ]
  },
  {
   "cell_type": "code",
   "execution_count": null,
   "id": "c1394719-1453-4afb-98f3-7bb60e76637c",
   "metadata": {},
   "outputs": [],
   "source": []
  }
 ],
 "metadata": {
  "kernelspec": {
   "display_name": "Python 3 (ipykernel)",
   "language": "python",
   "name": "python3"
  },
  "language_info": {
   "codemirror_mode": {
    "name": "ipython",
    "version": 3
   },
   "file_extension": ".py",
   "mimetype": "text/x-python",
   "name": "python",
   "nbconvert_exporter": "python",
   "pygments_lexer": "ipython3",
   "version": "3.10.6"
  }
 },
 "nbformat": 4,
 "nbformat_minor": 5
}
