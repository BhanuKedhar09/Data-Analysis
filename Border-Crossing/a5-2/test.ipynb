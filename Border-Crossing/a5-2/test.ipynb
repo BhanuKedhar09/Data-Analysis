{
 "cells": [
  {
   "cell_type": "code",
   "execution_count": 18,
   "id": "31bfc090-e0f9-4b2d-b21d-56ef2c00e090",
   "metadata": {},
   "outputs": [],
   "source": [
    "import port_entries.util as util\n",
    "util.download_data()\n",
    "data = util.get_data()"
   ]
  },
  {
   "cell_type": "code",
   "execution_count": null,
   "id": "a0b68404-6502-4830-94c2-a77527d31dcf",
   "metadata": {
    "scrolled": true,
    "tags": []
   },
   "outputs": [],
   "source": [
    "d = util.parse_data()\n",
    "d"
   ]
  },
  {
   "cell_type": "code",
   "execution_count": 20,
   "id": "68df788e-d28f-4283-a2e3-015bdeb00f6e",
   "metadata": {},
   "outputs": [
    {
     "name": "stdout",
     "output_type": "stream",
     "text": [
      "Usage: python -m port_entries.find [-n <port-name>] [-s <state>]\n"
     ]
    },
    {
     "data": {
      "text/plain": [
       "<module 'port_entries.find' from '/home/z1974769/a5/port_entries/find.py'>"
      ]
     },
     "execution_count": 20,
     "metadata": {},
     "output_type": "execute_result"
    }
   ],
   "source": [
    "import port_entries.find as find\n",
    "import importlib\n",
    "importlib.reload(find)\n"
   ]
  },
  {
   "cell_type": "code",
   "execution_count": 21,
   "id": "2b602450-1418-473e-998e-1884e4db77b7",
   "metadata": {},
   "outputs": [
    {
     "data": {
      "text/plain": [
       "[(3302, 'Eastport', 'Idaho')]"
      ]
     },
     "execution_count": 21,
     "metadata": {},
     "output_type": "execute_result"
    }
   ],
   "source": [
    "find.ports_by_name('Eastport', state='Idaho')"
   ]
  },
  {
   "cell_type": "code",
   "execution_count": 22,
   "id": "640e149c-e6c4-41b5-87d8-6a8a09337ab4",
   "metadata": {},
   "outputs": [
    {
     "name": "stdout",
     "output_type": "stream",
     "text": [
      "3302 :  Eastport , Idaho\n",
      "3308 :  Porthill , Idaho\n"
     ]
    }
   ],
   "source": [
    "%run -m port_entries.find -s Idaho"
   ]
  },
  {
   "cell_type": "code",
   "execution_count": 23,
   "id": "50af557f-b61d-40d5-b744-755d34a697dc",
   "metadata": {},
   "outputs": [
    {
     "name": "stdout",
     "output_type": "stream",
     "text": [
      "3302 :  Eastport , Idaho\n",
      "103 :  Eastport , Maine\n"
     ]
    }
   ],
   "source": [
    "%run -m port_entries.find -n \"Eastport\""
   ]
  },
  {
   "cell_type": "code",
   "execution_count": 24,
   "id": "b69bf3a2-21ea-4c25-9567-f5072de7c851",
   "metadata": {},
   "outputs": [
    {
     "name": "stdout",
     "output_type": "stream",
     "text": [
      "3302 :  Eastport , Idaho\n"
     ]
    }
   ],
   "source": [
    "%run -m port_entries.find -n \"Eastport\" -s Idaho"
   ]
  },
  {
   "cell_type": "code",
   "execution_count": 25,
   "id": "07f74aab-ab20-4e98-8661-bc511de691f3",
   "metadata": {},
   "outputs": [
    {
     "name": "stdout",
     "output_type": "stream",
     "text": [
      "Usage: python -m port_entries.compare [-d <port-code>, <date1>, <date1>] [-p <port-code1>, <port-code2>, <date>]\n"
     ]
    },
    {
     "data": {
      "text/plain": [
       "{'Trains': 4,\n",
       " 'Train Passengers': -10,\n",
       " 'Personal Vehicles': -1018,\n",
       " 'Truck Containers Empty': 186,\n",
       " 'Truck Containers Loaded': -335,\n",
       " 'Personal Vehicle Passengers': -2043,\n",
       " 'Rail Containers Loaded': 723,\n",
       " 'Rail Containers Empty': -101,\n",
       " 'Trucks': -129}"
      ]
     },
     "execution_count": 25,
     "metadata": {},
     "output_type": "execute_result"
    }
   ],
   "source": [
    "import port_entries.util as util\n",
    "import importlib\n",
    "importlib.reload(util)\n",
    "import port_entries.compare as compare\n",
    "importlib.reload(compare)\n",
    "compare.diff_dates(3302 , \"Jul 2021\", \"Aug 2021\")"
   ]
  },
  {
   "cell_type": "code",
   "execution_count": 26,
   "id": "bf59624e-7e12-449d-8aac-6d7ccd3ca2d9",
   "metadata": {},
   "outputs": [
    {
     "name": "stdout",
     "output_type": "stream",
     "text": [
      "Usage: python -m port_entries.compare [-d <port-code>, <date1>, <date1>] [-p <port-code1>, <port-code2>, <date>]\n"
     ]
    },
    {
     "data": {
      "text/plain": [
       "{'Pedestrians': 2971,\n",
       " 'Train Passengers': 416,\n",
       " 'Personal Vehicle Passengers': 3663,\n",
       " 'Buses': 455,\n",
       " 'Trucks': 17073,\n",
       " 'Bus Passengers': 21793,\n",
       " 'Personal Vehicles': -25822,\n",
       " 'Rail Containers Empty': 2567,\n",
       " 'Truck Containers Empty': 6064,\n",
       " 'Trains': 49,\n",
       " 'Rail Containers Loaded': 2427,\n",
       " 'Truck Containers Loaded': 11083}"
      ]
     },
     "execution_count": 26,
     "metadata": {},
     "output_type": "execute_result"
    }
   ],
   "source": [
    "import port_entries.util as util\n",
    "import importlib\n",
    "importlib.reload(util)\n",
    "import port_entries.compare as compare\n",
    "importlib.reload(compare)\n",
    "compare.diff_dates(3302 , \"Jul 2021\", \"Aug 2021\")\n",
    "compare.diff_ports(2604, 2608, \"Jul 2021\")"
   ]
  },
  {
   "cell_type": "code",
   "execution_count": 27,
   "id": "5dc6d098-8198-4c4c-861d-86bed4782cdf",
   "metadata": {},
   "outputs": [],
   "source": [
    "#'Trains': 49\n",
    "#'Rail Containers Empty': 2567\n",
    "#'Train Passengers': 416\n",
    "#'Rail Containers Loaded': 2427,"
   ]
  },
  {
   "cell_type": "code",
   "execution_count": 42,
   "id": "69816593-6aae-4ec3-9f24-5988c563f629",
   "metadata": {},
   "outputs": [
    {
     "name": "stdout",
     "output_type": "stream",
     "text": [
      "Usage: python -m port_entries.compare [-d <port-code>, <date1>, <date1>] [-p <port-code1>, <port-code2>, <date>]\n",
      "                Pedestrians :         -8\n",
      "Personal Vehicle Passengers :       -984\n",
      "                     Trucks :         +4\n",
      "          Personal Vehicles :       -509\n",
      "     Truck Containers Empty :         +5\n",
      "    Truck Containers Loaded :         +0\n"
     ]
    }
   ],
   "source": [
    "import port_entries.compare as compare\n",
    "import importlib\n",
    "importlib.reload(compare)\n",
    "%run -m port_entries.compare -d 103 \"Jul 2021\" \"Aug 2021\"\n"
   ]
  },
  {
   "cell_type": "code",
   "execution_count": 43,
   "id": "168b51b0-5240-43d0-9a77-369d49871bfe",
   "metadata": {},
   "outputs": [
    {
     "name": "stdout",
     "output_type": "stream",
     "text": [
      "                Pedestrians :      +2971\n",
      "           Train Passengers :       +416\n",
      "Personal Vehicle Passengers :      +3663\n",
      "                      Buses :       +455\n",
      "                     Trucks :     +17073\n",
      "             Bus Passengers :     +21793\n",
      "          Personal Vehicles :     -25822\n",
      "      Rail Containers Empty :      +2567\n",
      "     Truck Containers Empty :      +6064\n",
      "                     Trains :        +49\n",
      "     Rail Containers Loaded :      +2427\n",
      "    Truck Containers Loaded :     +11083\n"
     ]
    }
   ],
   "source": [
    "%run -m port_entries.compare -p 2604 2608 \"Jul 2021\""
   ]
  },
  {
   "cell_type": "code",
   "execution_count": 44,
   "id": "5312068e-2a2d-4b7c-8dbd-d1ddc1a9eeac",
   "metadata": {},
   "outputs": [
    {
     "name": "stdout",
     "output_type": "stream",
     "text": [
      "     Truck Containers Empty :        +21\n",
      "    Truck Containers Loaded :        +19\n"
     ]
    }
   ],
   "source": [
    "%run -m port_entries.compare -d 103 \"Jan 2021\" \"Feb 2021\" -m \"*Containers*\" "
   ]
  },
  {
   "cell_type": "code",
   "execution_count": 45,
   "id": "a70ed7ed-ed13-46aa-a683-f9bde4519091",
   "metadata": {},
   "outputs": [
    {
     "name": "stdout",
     "output_type": "stream",
     "text": [
      "Usage: python -m port_entries.compare [-d <port-code>, <date1>, <date1>] [-p <port-code1>, <port-code2>, <date>]\n"
     ]
    },
    {
     "data": {
      "text/plain": [
       "<module 'port_entries.compare' from '/home/z1974769/a5/port_entries/compare.py'>"
      ]
     },
     "execution_count": 45,
     "metadata": {},
     "output_type": "execute_result"
    }
   ],
   "source": [
    "import port_entries.compare as compare\n",
    "import importlib\n",
    "importlib.reload(compare)\n",
    "\n"
   ]
  },
  {
   "cell_type": "code",
   "execution_count": 46,
   "id": "d93a0805-6458-41e8-ad5e-24d6b7a2b0f5",
   "metadata": {},
   "outputs": [
    {
     "data": {
      "text/plain": [
       "{'Truck Containers Empty': 21, 'Truck Containers Loaded': 19}"
      ]
     },
     "execution_count": 46,
     "metadata": {},
     "output_type": "execute_result"
    }
   ],
   "source": [
    "res = compare.diff_dates(103, \"Jan 2021\", \"Feb 2021\")\n",
    "filter_by_measure(res, \"*Containers*\")"
   ]
  },
  {
   "cell_type": "code",
   "execution_count": 47,
   "id": "7114dc1d-18b6-470e-af98-62cb044a5b98",
   "metadata": {},
   "outputs": [
    {
     "name": "stdout",
     "output_type": "stream",
     "text": [
      "     Truck Containers Empty :        +21\n",
      "    Truck Containers Loaded :        +19\n"
     ]
    }
   ],
   "source": [
    "%run -m port_entries.compare -m \"*Containers*\" -d 103 \"Jan 2021\" \"Feb 2021\""
   ]
  },
  {
   "cell_type": "code",
   "execution_count": 54,
   "id": "6f5c0d0b-a61a-47e8-a78b-dc1d64c7c331",
   "metadata": {},
   "outputs": [
    {
     "name": "stdout",
     "output_type": "stream",
     "text": [
      "2010\n"
     ]
    },
    {
     "name": "stderr",
     "output_type": "stream",
     "text": [
      "/opt/conda/envs/py3.10/lib/python3.10/runpy.py:126: RuntimeWarning: 'port_entries.extra_credit' found in sys.modules after import of package 'port_entries', but prior to execution of 'port_entries.extra_credit'; this may result in unpredictable behaviour\n",
      "  warn(RuntimeWarning(msg))\n"
     ]
    },
    {
     "name": "stdout",
     "output_type": "stream",
     "text": [
      "2010\n"
     ]
    }
   ],
   "source": [
    "import port_entries.extra_credit as extra_credit\n",
    "import importlib\n",
    "importlib.reload(extra_credit)\n",
    "%run -m port_entries.extra_credit"
   ]
  },
  {
   "cell_type": "code",
   "execution_count": null,
   "id": "bfc3bf3e-1488-4fa8-aceb-865044b5c517",
   "metadata": {},
   "outputs": [],
   "source": []
  }
 ],
 "metadata": {
  "kernelspec": {
   "display_name": "Python 3.10",
   "language": "python",
   "name": "python3"
  },
  "language_info": {
   "codemirror_mode": {
    "name": "ipython",
    "version": 3
   },
   "file_extension": ".py",
   "mimetype": "text/x-python",
   "name": "python",
   "nbconvert_exporter": "python",
   "pygments_lexer": "ipython3",
   "version": "3.10.5"
  }
 },
 "nbformat": 4,
 "nbformat_minor": 5
}
