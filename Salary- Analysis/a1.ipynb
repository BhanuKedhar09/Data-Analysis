{
 "cells": [
  {
   "cell_type": "code",
   "execution_count": 2,
   "metadata": {},
   "outputs": [],
   "source": [
    "# Download the data locally\n",
    "\n",
    "import os\n",
    "from urllib.request import urlretrieve\n",
    "import gzip\n",
    "\n",
    "# download the data if we don't have it locally\n",
    "url = \"http://faculty.cs.niu.edu/~dakoop/cs640-2023sp/a1/aam-salary-survey.csv.gz\"\n",
    "local_fname = \"aam-salary-survey.csv.gz\"\n",
    "if not os.path.exists(local_fname):\n",
    "    urlretrieve(url, local_fname)\n",
    "\n",
    "# very primtive way of reading the data\n",
    "# can be improved using csv library\n",
    "with gzip.open(local_fname,'rt') as f:\n",
    "    records = f.readlines()\n",
    "field_names = records[0]\n",
    "records = records[1:]; # semi-colon supresses output"
   ]
  },
  {
   "cell_type": "code",
   "execution_count": 3,
   "metadata": {},
   "outputs": [
    {
     "data": {
      "text/plain": [
       "'Timestamp,Age,Industry,JobTitle,JobDetails,Salary,ExtraComp,Currency,CurrencyOther,IncomeDetails,Country,State,City,ExpOverall,ExpInField,Education,Gender,Race\\n'"
      ]
     },
     "execution_count": 3,
     "metadata": {},
     "output_type": "execute_result"
    }
   ],
   "source": [
    "# the names of the attributes\n",
    "field_names"
   ]
  },
  {
   "cell_type": "code",
   "execution_count": 4,
   "metadata": {},
   "outputs": [
    {
     "data": {
      "text/plain": [
       "'4/27/2021 11:02:10,25-34,Education (Higher Education),Research and Instruction Librarian,,\"55,000\",0,USD,,,United States,Massachusetts,Boston,5-7 years,5-7 years,Master\\'s degree,Woman,White\\n'"
      ]
     },
     "execution_count": 4,
     "metadata": {},
     "output_type": "execute_result"
    }
   ],
   "source": [
    "# the first record\n",
    "records[0]"
   ]
  },
  {
   "cell_type": "code",
   "execution_count": 5,
   "metadata": {},
   "outputs": [
    {
     "data": {
      "text/plain": [
       "'Research and Instruction Librarian'"
      ]
     },
     "execution_count": 5,
     "metadata": {},
     "output_type": "execute_result"
    }
   ],
   "source": [
    "# records[0]'s job title\n",
    "records[0].split(',')[3]"
   ]
  },
  {
   "attachments": {},
   "cell_type": "markdown",
   "metadata": {},
   "source": [
    "## 1. Number of Participants Working in Illinois (10 pts)"
   ]
  },
  {
   "cell_type": "code",
   "execution_count": 6,
   "metadata": {},
   "outputs": [],
   "source": [
    "# do your work for Problem 1 here\n",
    "import csv\n",
    "data = []\n",
    "with gzip.open(local_fname,'rt') as f:\n",
    "    records = csv.DictReader(f)\n",
    "    for roe in records:\n",
    "        data.append(roe)"
   ]
  },
  {
   "cell_type": "code",
   "execution_count": 7,
   "metadata": {},
   "outputs": [
    {
     "data": {
      "text/plain": [
       "27925"
      ]
     },
     "execution_count": 7,
     "metadata": {},
     "output_type": "execute_result"
    }
   ],
   "source": [
    "len(data)\n"
   ]
  },
  {
   "cell_type": "code",
   "execution_count": 8,
   "metadata": {},
   "outputs": [
    {
     "data": {
      "text/plain": [
       "{'Timestamp': '4/27/2021 11:02:10',\n",
       " 'Age': '25-34',\n",
       " 'Industry': 'Education (Higher Education)',\n",
       " 'JobTitle': 'Research and Instruction Librarian',\n",
       " 'JobDetails': '',\n",
       " 'Salary': '55,000',\n",
       " 'ExtraComp': '0',\n",
       " 'Currency': 'USD',\n",
       " 'CurrencyOther': '',\n",
       " 'IncomeDetails': '',\n",
       " 'Country': 'United States',\n",
       " 'State': 'Massachusetts',\n",
       " 'City': 'Boston',\n",
       " 'ExpOverall': '5-7 years',\n",
       " 'ExpInField': '5-7 years',\n",
       " 'Education': \"Master's degree\",\n",
       " 'Gender': 'Woman',\n",
       " 'Race': 'White'}"
      ]
     },
     "execution_count": 8,
     "metadata": {},
     "output_type": "execute_result"
    }
   ],
   "source": [
    "data[0]"
   ]
  },
  {
   "cell_type": "code",
   "execution_count": 9,
   "metadata": {},
   "outputs": [
    {
     "data": {
      "text/plain": [
       "1216"
      ]
     },
     "execution_count": 9,
     "metadata": {},
     "output_type": "execute_result"
    }
   ],
   "source": [
    "states= []\n",
    "count = 0\n",
    "# cou = 0\n",
    "for d in data:\n",
    "    # cou = cou+1\n",
    "    states = list(d[\"State\"].split(\",\"))\n",
    "    if \"Illinois\" in d[\"State\"]:\n",
    "            count = count+1\n",
    "count\n",
    "# data[cou]"
   ]
  },
  {
   "cell_type": "markdown",
   "metadata": {},
   "source": [
    "## 2. Maximum Number of State Selected (10 pts)"
   ]
  },
  {
   "cell_type": "code",
   "execution_count": 10,
   "metadata": {},
   "outputs": [
    {
     "name": "stdout",
     "output_type": "stream",
     "text": [
      "4/27/2021 11:02:10 Massachusetts\n",
      "4/27/2021 11:41:31 Kentucky, Ohio\n",
      "4/27/2021 11:58:57 District of Columbia, Maryland, Pennsylvania, Virginia\n",
      "4/27/2021 18:40:55 Alaska, Idaho, Oregon, Utah, Washington\n",
      "4/28/2021 18:42:25 Arkansas, Idaho, Kansas, Louisiana, Michigan, Mississippi, Nevada, New York, South Carolina, Tennessee, Washington\n"
     ]
    },
    {
     "data": {
      "text/plain": [
       "{'Timestamp': '4/28/2021 18:42:25',\n",
       " 'Age': '45-54',\n",
       " 'Industry': 'Utilities & Telecommunications',\n",
       " 'JobTitle': 'Project Controls Consultant',\n",
       " 'JobDetails': 'Database tools for project cost analysis and reporting',\n",
       " 'Salary': '125,000',\n",
       " 'ExtraComp': '1000',\n",
       " 'Currency': 'USD',\n",
       " 'CurrencyOther': '',\n",
       " 'IncomeDetails': '',\n",
       " 'Country': 'United States of America',\n",
       " 'State': 'Arkansas, Idaho, Kansas, Louisiana, Michigan, Mississippi, Nevada, New York, South Carolina, Tennessee, Washington',\n",
       " 'City': 'Various',\n",
       " 'ExpOverall': '21 - 30 years',\n",
       " 'ExpInField': '11 - 20 years',\n",
       " 'Education': 'College degree',\n",
       " 'Gender': 'Man',\n",
       " 'Race': 'White'}"
      ]
     },
     "execution_count": 10,
     "metadata": {},
     "output_type": "execute_result"
    }
   ],
   "source": [
    "res_dic = dict()\n",
    "con = 0\n",
    "for d in data:\n",
    "    states = list(d[\"State\"].split(\",\"))\n",
    "    if len(states) > con:\n",
    "        con = len(states)\n",
    "        res_dic = d\n",
    "        print(d[\"Timestamp\"], d[\"State\"])\n",
    "res_dic[\"JobTitle\"], res_dic[\"Salary\"]\n",
    "res_dic"
   ]
  },
  {
   "cell_type": "markdown",
   "metadata": {},
   "source": [
    "## 3. Highest US Salary (10 pts)"
   ]
  },
  {
   "cell_type": "code",
   "execution_count": 50,
   "metadata": {},
   "outputs": [
    {
     "data": {
      "text/plain": [
       "102000000"
      ]
     },
     "execution_count": 50,
     "metadata": {},
     "output_type": "execute_result"
    }
   ],
   "source": [
    "highest_salary = float(\"-inf\")\n",
    "r = dict()\n",
    "for d in data:\n",
    "    # print(d[\"Salary\"])\n",
    "    # if d[\"CurrencyOther\"] == \"USD\"\n",
    "    if d[\"Currency\"] == \"USD\" and int(d[\"Salary\"].replace(\",\", \"\")) > highest_salary:\n",
    "        highest_salary = int(d[\"Salary\"].replace(\",\", \"\"))\n",
    "        r = d\n",
    "\n",
    "highest_salary    "
   ]
  },
  {
   "cell_type": "code",
   "execution_count": 51,
   "metadata": {},
   "outputs": [],
   "source": [
    "# s = set()\n",
    "# for d in data:\n",
    "#     s.add(d[\"CurrencyOther\"])\n",
    "# list(s)[1:10]"
   ]
  },
  {
   "cell_type": "markdown",
   "metadata": {},
   "source": [
    "## 4. Latest Entry in 2021 (15 pts)"
   ]
  },
  {
   "cell_type": "code",
   "execution_count": 12,
   "metadata": {},
   "outputs": [
    {
     "data": {
      "text/plain": [
       "(85000,\n",
       " {'Timestamp': '12/31/2021 20:57:28',\n",
       "  'Age': '35-44',\n",
       "  'Industry': 'Social Work',\n",
       "  'JobTitle': 'Licensed social worker ',\n",
       "  'JobDetails': '',\n",
       "  'Salary': '85000',\n",
       "  'ExtraComp': '0',\n",
       "  'Currency': 'USD',\n",
       "  'CurrencyOther': '',\n",
       "  'IncomeDetails': '',\n",
       "  'Country': 'USA ',\n",
       "  'State': 'New York',\n",
       "  'City': 'New York ',\n",
       "  'ExpOverall': '8 - 10 years',\n",
       "  'ExpInField': '2 - 4 years',\n",
       "  'Education': 'College degree',\n",
       "  'Gender': 'Woman',\n",
       "  'Race': 'Hispanic, Latino, or Spanish origin'})"
      ]
     },
     "execution_count": 12,
     "metadata": {},
     "output_type": "execute_result"
    }
   ],
   "source": [
    "from datetime import datetime\n",
    "count =0\n",
    "da = dict()\n",
    "temp = datetime.strptime(data[0][\"Timestamp\"], '%m/%d/%Y %H:%M:%S')\n",
    "salary = 0\n",
    "for d in data:\n",
    "    time_and_date_obj = datetime.strptime(d[\"Timestamp\"], '%m/%d/%Y %H:%M:%S')\n",
    "    # if time_and_date_obj.year == 2021:\n",
    "    if time_and_date_obj > temp and time_and_date_obj.year == 2021:\n",
    "        temp = time_and_date_obj\n",
    "        salary = d[\"Salary\"]\n",
    "        da = d\n",
    "# salary = 0\n",
    "# for d in data :\n",
    "#     if str(temp).replace(\"-\",\"/\") == d[\"Timestamp\"]:\n",
    "#         salary = d[\"Salary\"]\n",
    "\n",
    "# salary\n",
    "# str(temp)\n",
    "# str(temp).replace(\"-\",\"/\")\n",
    "int(salary), da\n",
    "# da\n",
    "\n",
    "        \n"
   ]
  },
  {
   "cell_type": "markdown",
   "metadata": {},
   "source": [
    "## 5. Top 10 Ways to Identify the U.S."
   ]
  },
  {
   "cell_type": "code",
   "execution_count": 22,
   "metadata": {},
   "outputs": [
    {
     "data": {
      "text/plain": [
       "[(8885, 'United States'),\n",
       " (7851, 'USA'),\n",
       " (2585, 'US'),\n",
       " (657, 'United States '),\n",
       " (571, 'U.S.'),\n",
       " (464, 'USA '),\n",
       " (443, 'Usa'),\n",
       " (424, 'United States of America'),\n",
       " (205, 'United states'),\n",
       " (182, 'usa')]"
      ]
     },
     "execution_count": 22,
     "metadata": {},
     "output_type": "execute_result"
    }
   ],
   "source": [
    "import collections\n",
    "state_names=[\"Alabama\", \"Alaska\", \"Arizona\", \"Arkansas\", \"California\", \"Colorado\", \"Connecticut\", \"Delaware\", \"Florida\", \"Georgia\", \"Hawaii\", \"Idaho\", \"Illinois\", \"Indiana\", \"Iowa\", \"Kansas\", \"Kentucky\", \"Louisiana\", \"Maine\", \"Maryland\", \"Massachusetts\", \"Michigan\", \"Minnesota\", \"Mississippi\", \"Missouri\", \"Montana\", \"Nebraska\", \"Nevada\", \"New Hampshire\", \"New Jersey\", \"New Mexico\", \"New York\", \"North Carolina\", \"North Dakota\", \"Ohio\", \"Oklahoma\", \"Oregon\", \"Pennsylvania\", \"Rhode Island\", \"South Carolina\", \"South Dakota\", \"Tennessee\", \"Texas\", \"Utah\", \"Vermont\", \"Virginia\", \"Washington\", \"West Virginia\", \"Wisconsin\", \"Wyoming\"]\n",
    "ways = []\n",
    "# li = []\n",
    "for d in data:\n",
    "    key_list = list(d.keys())\n",
    "    # print(key_list.index(\"State\"), key_list.index(\"Country\"))\n",
    "    # li.append([key_list.index(\"State\"), key_list.index(\"Country\")])\n",
    "    # if key_list.index(\"State\") < key_list.index(\"Country\"):\n",
    "    # x = set([n.strip() for n in d[\"State\"].split(\",\")])\n",
    "    # set(d[\"State\"].split(\",\"))\n",
    "    # if len(set(state_names) - set(d[\"State\"].split(\",\"))) < len(state_names):\n",
    "    # if len(d[\"State\"].split(\",\")) >= 1:\n",
    "    if d[\"State\"] !=\"\":\n",
    "        # print(d[\"Country\"], d[\"State\"])\n",
    "        # print(d)\n",
    "        ways.append(d[\"Country\"])\n",
    "res_dic = collections.OrderedDict(list(collections.Counter(ways).items()))\n",
    "# res_dic = sorted(res_dic.items(), key= res_dic.get())\n",
    "# res_dic\n",
    "# # li\n",
    "\n",
    "res_dic1 = [(value, key) for (key,value) in res_dic.items()]\n",
    "# res_dic1 = [res_dic.keys()][:10]\n",
    "# res_dic1\n",
    "sorted(res_dic1, reverse=True)[:10]\n",
    "# len(ways), len(data)\n"
   ]
  },
  {
   "cell_type": "code",
   "execution_count": 60,
   "metadata": {},
   "outputs": [],
   "source": [
    "# count =10\n",
    "\n",
    "# for d in data:\n",
    "#     if d[\"Country\"] == \"Canada\" and d[\"State\"] != \"\":\n",
    "#         print(d[\"State\"])\n",
    "#         # break\n"
   ]
  },
  {
   "cell_type": "code",
   "execution_count": 55,
   "metadata": {},
   "outputs": [],
   "source": [
    "# state_names=[\"Alabama\", \"Alaska\", \"Arizona\", \"Arkansas\", \"California\", \"Colorado\", \"Connecticut\", \"Delaware\", \"Florida\", \"Georgia\", \"Hawaii\", \"Idaho\", \"Illinois\", \"Indiana\", \"Iowa\", \"Kansas\", \"Kentucky\", \"Louisiana\", \"Maine\", \"Maryland\", \"Massachusetts\", \"Michigan\", \"Minnesota\", \"Mississippi\", \"Missouri\", \"Montana\", \"Nebraska\", \"Nevada\", \"New Hampshire\", \"New Jersey\", \"New Mexico\", \"New York\", \"North Carolina\", \"North Dakota\", \"Ohio\", \"Oklahoma\", \"Oregon\", \"Pennsylvania\", \"Rhode Island\", \"South Carolina\", \"South Dakota\", \"Tennessee\", \"Texas\", \"Utah\", \"Vermont\", \"Virginia\", \"Washington\", \"West Virginia\", \"Wisconsin\", \"Wyoming\"]\n",
    "# stra = data[160][\"State\"].split(\",\")\n",
    "# len(set(state_names) - set(stra))\n",
    "# # len(state_names)"
   ]
  },
  {
   "cell_type": "code",
   "execution_count": 56,
   "metadata": {},
   "outputs": [],
   "source": [
    "# count = 0\n",
    "# for d in data:\n",
    "#     # count = count+1\n",
    "#     if \"Argentina\" in d[\"Country\"] and len(set(state_names) - set(d[\"State\"].split(\",\"))) < len(state_names):\n",
    "#         print(d)\n",
    "#         # break\n",
    "# count"
   ]
  },
  {
   "cell_type": "code",
   "execution_count": 57,
   "metadata": {},
   "outputs": [],
   "source": [
    "# [1,2] in [1,2,3,4]"
   ]
  },
  {
   "cell_type": "code",
   "execution_count": 58,
   "metadata": {},
   "outputs": [],
   "source": [
    "# list(data[0].keys())"
   ]
  },
  {
   "cell_type": "code",
   "execution_count": 59,
   "metadata": {},
   "outputs": [],
   "source": [
    "# data[13221]"
   ]
  },
  {
   "cell_type": "code",
   "execution_count": null,
   "metadata": {},
   "outputs": [],
   "source": []
  }
 ],
 "metadata": {
  "kernelspec": {
   "display_name": "Python 3.10.0 64-bit",
   "language": "python",
   "name": "python3"
  },
  "language_info": {
   "codemirror_mode": {
    "name": "ipython",
    "version": 3
   },
   "file_extension": ".py",
   "mimetype": "text/x-python",
   "name": "python",
   "nbconvert_exporter": "python",
   "pygments_lexer": "ipython3",
   "version": "3.10.0"
  },
  "vscode": {
   "interpreter": {
    "hash": "aee8b7b246df8f9039afb4144a1f6fd8d2ca17a180786b69acc140d282b71a49"
   }
  }
 },
 "nbformat": 4,
 "nbformat_minor": 4
}
