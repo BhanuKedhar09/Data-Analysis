{
 "cells": [
  {
   "cell_type": "markdown",
   "metadata": {},
   "source": [
    "## Sunku Bhanu Kedhaar Nath - Z1974769"
   ]
  },
  {
   "cell_type": "code",
   "execution_count": 1,
   "metadata": {},
   "outputs": [
    {
     "name": "stdout",
     "output_type": "stream",
     "text": [
      "a1.ipynb                 aam-salary-survey.csv.gz practice.ipynb\n",
      "a2.ipynb                 duckdb.ipynb             \u001b[34mpython_files\u001b[m\u001b[m\n"
     ]
    }
   ],
   "source": [
    "!ls"
   ]
  },
  {
   "cell_type": "code",
   "execution_count": 2,
   "metadata": {},
   "outputs": [],
   "source": [
    "import pandas as pd"
   ]
  },
  {
   "cell_type": "code",
   "execution_count": 3,
   "metadata": {},
   "outputs": [],
   "source": [
    "df = pd.read_csv(\"aam-salary-survey.csv.gz\")"
   ]
  },
  {
   "cell_type": "code",
   "execution_count": 4,
   "metadata": {},
   "outputs": [
    {
     "data": {
      "text/html": [
       "<div>\n",
       "<style scoped>\n",
       "    .dataframe tbody tr th:only-of-type {\n",
       "        vertical-align: middle;\n",
       "    }\n",
       "\n",
       "    .dataframe tbody tr th {\n",
       "        vertical-align: top;\n",
       "    }\n",
       "\n",
       "    .dataframe thead th {\n",
       "        text-align: right;\n",
       "    }\n",
       "</style>\n",
       "<table border=\"1\" class=\"dataframe\">\n",
       "  <thead>\n",
       "    <tr style=\"text-align: right;\">\n",
       "      <th></th>\n",
       "      <th>Timestamp</th>\n",
       "      <th>Age</th>\n",
       "      <th>Industry</th>\n",
       "      <th>JobTitle</th>\n",
       "      <th>JobDetails</th>\n",
       "      <th>Salary</th>\n",
       "      <th>ExtraComp</th>\n",
       "      <th>Currency</th>\n",
       "      <th>CurrencyOther</th>\n",
       "      <th>IncomeDetails</th>\n",
       "      <th>Country</th>\n",
       "      <th>State</th>\n",
       "      <th>City</th>\n",
       "      <th>ExpOverall</th>\n",
       "      <th>ExpInField</th>\n",
       "      <th>Education</th>\n",
       "      <th>Gender</th>\n",
       "      <th>Race</th>\n",
       "    </tr>\n",
       "  </thead>\n",
       "  <tbody>\n",
       "    <tr>\n",
       "      <th>0</th>\n",
       "      <td>4/27/2021 11:02:10</td>\n",
       "      <td>25-34</td>\n",
       "      <td>Education (Higher Education)</td>\n",
       "      <td>Research and Instruction Librarian</td>\n",
       "      <td>NaN</td>\n",
       "      <td>55,000</td>\n",
       "      <td>0.0</td>\n",
       "      <td>USD</td>\n",
       "      <td>NaN</td>\n",
       "      <td>NaN</td>\n",
       "      <td>United States</td>\n",
       "      <td>Massachusetts</td>\n",
       "      <td>Boston</td>\n",
       "      <td>5-7 years</td>\n",
       "      <td>5-7 years</td>\n",
       "      <td>Master's degree</td>\n",
       "      <td>Woman</td>\n",
       "      <td>White</td>\n",
       "    </tr>\n",
       "    <tr>\n",
       "      <th>1</th>\n",
       "      <td>4/27/2021 11:02:22</td>\n",
       "      <td>25-34</td>\n",
       "      <td>Computing or Tech</td>\n",
       "      <td>Change &amp; Internal Communications Manager</td>\n",
       "      <td>NaN</td>\n",
       "      <td>54,600</td>\n",
       "      <td>4000.0</td>\n",
       "      <td>GBP</td>\n",
       "      <td>NaN</td>\n",
       "      <td>NaN</td>\n",
       "      <td>United Kingdom</td>\n",
       "      <td>NaN</td>\n",
       "      <td>Cambridge</td>\n",
       "      <td>8 - 10 years</td>\n",
       "      <td>5-7 years</td>\n",
       "      <td>College degree</td>\n",
       "      <td>Non-binary</td>\n",
       "      <td>White</td>\n",
       "    </tr>\n",
       "    <tr>\n",
       "      <th>2</th>\n",
       "      <td>4/27/2021 11:02:38</td>\n",
       "      <td>25-34</td>\n",
       "      <td>Accounting, Banking &amp; Finance</td>\n",
       "      <td>Marketing Specialist</td>\n",
       "      <td>NaN</td>\n",
       "      <td>34,000</td>\n",
       "      <td>NaN</td>\n",
       "      <td>USD</td>\n",
       "      <td>NaN</td>\n",
       "      <td>NaN</td>\n",
       "      <td>US</td>\n",
       "      <td>Tennessee</td>\n",
       "      <td>Chattanooga</td>\n",
       "      <td>2 - 4 years</td>\n",
       "      <td>2 - 4 years</td>\n",
       "      <td>College degree</td>\n",
       "      <td>Woman</td>\n",
       "      <td>White</td>\n",
       "    </tr>\n",
       "    <tr>\n",
       "      <th>3</th>\n",
       "      <td>4/27/2021 11:02:41</td>\n",
       "      <td>25-34</td>\n",
       "      <td>Nonprofits</td>\n",
       "      <td>Program Manager</td>\n",
       "      <td>NaN</td>\n",
       "      <td>62,000</td>\n",
       "      <td>3000.0</td>\n",
       "      <td>USD</td>\n",
       "      <td>NaN</td>\n",
       "      <td>NaN</td>\n",
       "      <td>USA</td>\n",
       "      <td>Wisconsin</td>\n",
       "      <td>Milwaukee</td>\n",
       "      <td>8 - 10 years</td>\n",
       "      <td>5-7 years</td>\n",
       "      <td>College degree</td>\n",
       "      <td>Woman</td>\n",
       "      <td>White</td>\n",
       "    </tr>\n",
       "    <tr>\n",
       "      <th>4</th>\n",
       "      <td>4/27/2021 11:02:42</td>\n",
       "      <td>25-34</td>\n",
       "      <td>Accounting, Banking &amp; Finance</td>\n",
       "      <td>Accounting Manager</td>\n",
       "      <td>NaN</td>\n",
       "      <td>60,000</td>\n",
       "      <td>7000.0</td>\n",
       "      <td>USD</td>\n",
       "      <td>NaN</td>\n",
       "      <td>NaN</td>\n",
       "      <td>US</td>\n",
       "      <td>South Carolina</td>\n",
       "      <td>Greenville</td>\n",
       "      <td>8 - 10 years</td>\n",
       "      <td>5-7 years</td>\n",
       "      <td>College degree</td>\n",
       "      <td>Woman</td>\n",
       "      <td>White</td>\n",
       "    </tr>\n",
       "  </tbody>\n",
       "</table>\n",
       "</div>"
      ],
      "text/plain": [
       "            Timestamp    Age                       Industry  \\\n",
       "0  4/27/2021 11:02:10  25-34   Education (Higher Education)   \n",
       "1  4/27/2021 11:02:22  25-34              Computing or Tech   \n",
       "2  4/27/2021 11:02:38  25-34  Accounting, Banking & Finance   \n",
       "3  4/27/2021 11:02:41  25-34                     Nonprofits   \n",
       "4  4/27/2021 11:02:42  25-34  Accounting, Banking & Finance   \n",
       "\n",
       "                                   JobTitle JobDetails  Salary  ExtraComp  \\\n",
       "0        Research and Instruction Librarian        NaN  55,000        0.0   \n",
       "1  Change & Internal Communications Manager        NaN  54,600     4000.0   \n",
       "2                      Marketing Specialist        NaN  34,000        NaN   \n",
       "3                           Program Manager        NaN  62,000     3000.0   \n",
       "4                        Accounting Manager        NaN  60,000     7000.0   \n",
       "\n",
       "  Currency CurrencyOther IncomeDetails         Country           State  \\\n",
       "0      USD           NaN           NaN   United States   Massachusetts   \n",
       "1      GBP           NaN           NaN  United Kingdom             NaN   \n",
       "2      USD           NaN           NaN              US       Tennessee   \n",
       "3      USD           NaN           NaN             USA       Wisconsin   \n",
       "4      USD           NaN           NaN              US  South Carolina   \n",
       "\n",
       "          City    ExpOverall   ExpInField        Education      Gender   Race  \n",
       "0       Boston     5-7 years    5-7 years  Master's degree       Woman  White  \n",
       "1    Cambridge  8 - 10 years    5-7 years   College degree  Non-binary  White  \n",
       "2  Chattanooga   2 - 4 years  2 - 4 years   College degree       Woman  White  \n",
       "3    Milwaukee  8 - 10 years    5-7 years   College degree       Woman  White  \n",
       "4   Greenville  8 - 10 years    5-7 years   College degree       Woman  White  "
      ]
     },
     "execution_count": 4,
     "metadata": {},
     "output_type": "execute_result"
    }
   ],
   "source": [
    "df.head()\n"
   ]
  },
  {
   "cell_type": "code",
   "execution_count": 5,
   "metadata": {},
   "outputs": [
    {
     "name": "stdout",
     "output_type": "stream",
     "text": [
      "<class 'pandas.core.frame.DataFrame'>\n",
      "RangeIndex: 27925 entries, 0 to 27924\n",
      "Data columns (total 18 columns):\n",
      " #   Column         Non-Null Count  Dtype  \n",
      "---  ------         --------------  -----  \n",
      " 0   Timestamp      27925 non-null  object \n",
      " 1   Age            27925 non-null  object \n",
      " 2   Industry       27853 non-null  object \n",
      " 3   JobTitle       27925 non-null  object \n",
      " 4   JobDetails     7226 non-null   object \n",
      " 5   Salary         27925 non-null  object \n",
      " 6   ExtraComp      20678 non-null  float64\n",
      " 7   Currency       27925 non-null  object \n",
      " 8   CurrencyOther  197 non-null    object \n",
      " 9   IncomeDetails  3034 non-null   object \n",
      " 10  Country        27925 non-null  object \n",
      " 11  State          22947 non-null  object \n",
      " 12  City           27850 non-null  object \n",
      " 13  ExpOverall     27925 non-null  object \n",
      " 14  ExpInField     27925 non-null  object \n",
      " 15  Education      27713 non-null  object \n",
      " 16  Gender         27760 non-null  object \n",
      " 17  Race           27757 non-null  object \n",
      "dtypes: float64(1), object(17)\n",
      "memory usage: 3.8+ MB\n"
     ]
    }
   ],
   "source": [
    "df.info()"
   ]
  },
  {
   "cell_type": "markdown",
   "metadata": {},
   "source": [
    "# 1 Pandas"
   ]
  },
  {
   "cell_type": "markdown",
   "metadata": {},
   "source": [
    "## a. Maximum Number of States Selected (10 pts)"
   ]
  },
  {
   "cell_type": "code",
   "execution_count": 6,
   "metadata": {},
   "outputs": [],
   "source": [
    "# li = df[df[\"Timestamp\"] == \"4/28/2021 18:42:25\"][\"State\"].str.split(\", \")\n",
    "# li"
   ]
  },
  {
   "cell_type": "code",
   "execution_count": 7,
   "metadata": {},
   "outputs": [],
   "source": [
    "#Approch-1\n",
    "df[\"State_list\"] = df[\"State\"].str.split(\", \")"
   ]
  },
  {
   "cell_type": "code",
   "execution_count": 8,
   "metadata": {},
   "outputs": [
    {
     "data": {
      "text/plain": [
       "27925"
      ]
     },
     "execution_count": 8,
     "metadata": {},
     "output_type": "execute_result"
    }
   ],
   "source": [
    "len(df[\"State_list\"])"
   ]
  },
  {
   "cell_type": "code",
   "execution_count": 9,
   "metadata": {},
   "outputs": [
    {
     "data": {
      "text/html": [
       "<div>\n",
       "<style scoped>\n",
       "    .dataframe tbody tr th:only-of-type {\n",
       "        vertical-align: middle;\n",
       "    }\n",
       "\n",
       "    .dataframe tbody tr th {\n",
       "        vertical-align: top;\n",
       "    }\n",
       "\n",
       "    .dataframe thead th {\n",
       "        text-align: right;\n",
       "    }\n",
       "</style>\n",
       "<table border=\"1\" class=\"dataframe\">\n",
       "  <thead>\n",
       "    <tr style=\"text-align: right;\">\n",
       "      <th></th>\n",
       "      <th>JobTitle</th>\n",
       "      <th>Salary</th>\n",
       "    </tr>\n",
       "  </thead>\n",
       "  <tbody>\n",
       "    <tr>\n",
       "      <th>16861</th>\n",
       "      <td>Project Controls Consultant</td>\n",
       "      <td>125,000</td>\n",
       "    </tr>\n",
       "    <tr>\n",
       "      <th>16873</th>\n",
       "      <td>Project Controls Consultant</td>\n",
       "      <td>125,000</td>\n",
       "    </tr>\n",
       "  </tbody>\n",
       "</table>\n",
       "</div>"
      ],
      "text/plain": [
       "                          JobTitle   Salary\n",
       "16861  Project Controls Consultant  125,000\n",
       "16873  Project Controls Consultant  125,000"
      ]
     },
     "execution_count": 9,
     "metadata": {},
     "output_type": "execute_result"
    }
   ],
   "source": [
    "df[(df[\"State_list\"].str.len() == max(df[\"State_list\"].str.len()))][[\"JobTitle\",\"Salary\"]]"
   ]
  },
  {
   "cell_type": "code",
   "execution_count": 10,
   "metadata": {},
   "outputs": [],
   "source": [
    "#Approch-2\n",
    "df[\"State_list_len\"] = df[\"State\"].str.split(\", \").str.len()"
   ]
  },
  {
   "cell_type": "code",
   "execution_count": 11,
   "metadata": {},
   "outputs": [
    {
     "data": {
      "text/plain": [
       "Timestamp                                        4/28/2021 18:42:25\n",
       "Age                                                           45-54\n",
       "Industry                             Utilities & Telecommunications\n",
       "JobTitle                                Project Controls Consultant\n",
       "JobDetails        Database tools for project cost analysis and r...\n",
       "Salary                                                      125,000\n",
       "ExtraComp                                                    1000.0\n",
       "Currency                                                        USD\n",
       "CurrencyOther                                                   NaN\n",
       "IncomeDetails                                                   NaN\n",
       "Country                                    United States of America\n",
       "State             Arkansas, Idaho, Kansas, Louisiana, Michigan, ...\n",
       "City                                                        Various\n",
       "ExpOverall                                            21 - 30 years\n",
       "ExpInField                                            11 - 20 years\n",
       "Education                                            College degree\n",
       "Gender                                                          Man\n",
       "Race                                                          White\n",
       "State_list        [Arkansas, Idaho, Kansas, Louisiana, Michigan,...\n",
       "State_list_len                                                 11.0\n",
       "Name: 16861, dtype: object"
      ]
     },
     "execution_count": 11,
     "metadata": {},
     "output_type": "execute_result"
    }
   ],
   "source": [
    "df.iloc[(df[\"State_list_len\"].idxmax())]"
   ]
  },
  {
   "cell_type": "code",
   "execution_count": 12,
   "metadata": {},
   "outputs": [
    {
     "data": {
      "text/plain": [
       "JobTitle    Project Controls Consultant\n",
       "Salary                          125,000\n",
       "Name: 16861, dtype: object"
      ]
     },
     "execution_count": 12,
     "metadata": {},
     "output_type": "execute_result"
    }
   ],
   "source": [
    "#Approch-3\n",
    "df.iloc[(df[\"State\"].str.split(\", \").str.len().idxmax())][[\"JobTitle\", \"Salary\"]]"
   ]
  },
  {
   "cell_type": "markdown",
   "metadata": {},
   "source": [
    "## b. Number of Participants Working in Illinois (10 pts)"
   ]
  },
  {
   "cell_type": "code",
   "execution_count": 13,
   "metadata": {},
   "outputs": [],
   "source": [
    "df_b = df.explode(\"State_list\")"
   ]
  },
  {
   "cell_type": "code",
   "execution_count": 14,
   "metadata": {},
   "outputs": [
    {
     "data": {
      "text/plain": [
       "1216"
      ]
     },
     "execution_count": 14,
     "metadata": {},
     "output_type": "execute_result"
    }
   ],
   "source": [
    "len(df_b[df_b[\"State_list\"] == \"Illinois\"])"
   ]
  },
  {
   "cell_type": "markdown",
   "metadata": {},
   "source": [
    "## c. Highest US Salary (10 pts)"
   ]
  },
  {
   "cell_type": "code",
   "execution_count": 15,
   "metadata": {},
   "outputs": [],
   "source": [
    "df_c = df[(df[\"Currency\"] == \"USD\")]"
   ]
  },
  {
   "cell_type": "code",
   "execution_count": 16,
   "metadata": {},
   "outputs": [
    {
     "data": {
      "text/plain": [
       "102000000"
      ]
     },
     "execution_count": 16,
     "metadata": {},
     "output_type": "execute_result"
    }
   ],
   "source": [
    "(df_c[\"Salary\"].str.replace(\",\",\"\").astype(\"int64\")).max()"
   ]
  },
  {
   "cell_type": "markdown",
   "metadata": {},
   "source": [
    "## d. Latest Entry in 2021 (10 pts)"
   ]
  },
  {
   "cell_type": "code",
   "execution_count": 17,
   "metadata": {},
   "outputs": [],
   "source": [
    "df = df.astype({\"Timestamp\" : \"datetime64[ns]\"})"
   ]
  },
  {
   "cell_type": "code",
   "execution_count": 18,
   "metadata": {},
   "outputs": [],
   "source": [
    "df_d = df[df[\"Timestamp\"].dt.year == 2021 ]\n"
   ]
  },
  {
   "cell_type": "code",
   "execution_count": 19,
   "metadata": {},
   "outputs": [
    {
     "data": {
      "text/html": [
       "<div>\n",
       "<style scoped>\n",
       "    .dataframe tbody tr th:only-of-type {\n",
       "        vertical-align: middle;\n",
       "    }\n",
       "\n",
       "    .dataframe tbody tr th {\n",
       "        vertical-align: top;\n",
       "    }\n",
       "\n",
       "    .dataframe thead th {\n",
       "        text-align: right;\n",
       "    }\n",
       "</style>\n",
       "<table border=\"1\" class=\"dataframe\">\n",
       "  <thead>\n",
       "    <tr style=\"text-align: right;\">\n",
       "      <th></th>\n",
       "      <th>Timestamp</th>\n",
       "      <th>Age</th>\n",
       "      <th>Industry</th>\n",
       "      <th>JobTitle</th>\n",
       "      <th>JobDetails</th>\n",
       "      <th>Salary</th>\n",
       "      <th>ExtraComp</th>\n",
       "      <th>Currency</th>\n",
       "      <th>CurrencyOther</th>\n",
       "      <th>IncomeDetails</th>\n",
       "      <th>Country</th>\n",
       "      <th>State</th>\n",
       "      <th>City</th>\n",
       "      <th>ExpOverall</th>\n",
       "      <th>ExpInField</th>\n",
       "      <th>Education</th>\n",
       "      <th>Gender</th>\n",
       "      <th>Race</th>\n",
       "      <th>State_list</th>\n",
       "      <th>State_list_len</th>\n",
       "    </tr>\n",
       "  </thead>\n",
       "  <tbody>\n",
       "    <tr>\n",
       "      <th>27596</th>\n",
       "      <td>2021-12-31 20:57:28</td>\n",
       "      <td>35-44</td>\n",
       "      <td>Social Work</td>\n",
       "      <td>Licensed social worker</td>\n",
       "      <td>NaN</td>\n",
       "      <td>85000</td>\n",
       "      <td>0.0</td>\n",
       "      <td>USD</td>\n",
       "      <td>NaN</td>\n",
       "      <td>NaN</td>\n",
       "      <td>USA</td>\n",
       "      <td>New York</td>\n",
       "      <td>New York</td>\n",
       "      <td>8 - 10 years</td>\n",
       "      <td>2 - 4 years</td>\n",
       "      <td>College degree</td>\n",
       "      <td>Woman</td>\n",
       "      <td>Hispanic, Latino, or Spanish origin</td>\n",
       "      <td>[New York]</td>\n",
       "      <td>1.0</td>\n",
       "    </tr>\n",
       "  </tbody>\n",
       "</table>\n",
       "</div>"
      ],
      "text/plain": [
       "                Timestamp    Age     Industry                 JobTitle  \\\n",
       "27596 2021-12-31 20:57:28  35-44  Social Work  Licensed social worker    \n",
       "\n",
       "      JobDetails Salary  ExtraComp Currency CurrencyOther IncomeDetails  \\\n",
       "27596        NaN  85000        0.0      USD           NaN           NaN   \n",
       "\n",
       "      Country     State       City    ExpOverall   ExpInField       Education  \\\n",
       "27596    USA   New York  New York   8 - 10 years  2 - 4 years  College degree   \n",
       "\n",
       "      Gender                                 Race  State_list  State_list_len  \n",
       "27596  Woman  Hispanic, Latino, or Spanish origin  [New York]             1.0  "
      ]
     },
     "execution_count": 19,
     "metadata": {},
     "output_type": "execute_result"
    }
   ],
   "source": [
    "df_d[(df_d[\"Timestamp\"] == max(df_d[\"Timestamp\"]))]"
   ]
  },
  {
   "cell_type": "markdown",
   "metadata": {},
   "source": [
    "## e. Top 10 Ways to Identify the U.S. (10 pts)"
   ]
  },
  {
   "cell_type": "code",
   "execution_count": 20,
   "metadata": {},
   "outputs": [],
   "source": [
    "df = pd.read_csv(\"aam-salary-survey.csv.gz\")\n",
    "df_e = df[pd.notnull(df[\"State\"])]"
   ]
  },
  {
   "cell_type": "code",
   "execution_count": 21,
   "metadata": {},
   "outputs": [
    {
     "data": {
      "text/plain": [
       "(22947, 27925)"
      ]
     },
     "execution_count": 21,
     "metadata": {},
     "output_type": "execute_result"
    }
   ],
   "source": [
    "len(df_e), len(df)"
   ]
  },
  {
   "cell_type": "code",
   "execution_count": 22,
   "metadata": {},
   "outputs": [],
   "source": [
    "df_2e = df_e.groupby(\"Country\")[\"Country\"].count()"
   ]
  },
  {
   "cell_type": "code",
   "execution_count": 23,
   "metadata": {},
   "outputs": [
    {
     "data": {
      "text/plain": [
       "Country\n",
       "United States               8885\n",
       "USA                         7851\n",
       "US                          2585\n",
       "United States                657\n",
       "U.S.                         571\n",
       "USA                          464\n",
       "Usa                          443\n",
       "United States of America     424\n",
       "United states                205\n",
       "usa                          182\n",
       "Name: Country, dtype: int64"
      ]
     },
     "execution_count": 23,
     "metadata": {},
     "output_type": "execute_result"
    }
   ],
   "source": [
    "df_2e.sort_values(ascending= False).head(10)"
   ]
  },
  {
   "cell_type": "markdown",
   "metadata": {},
   "source": [
    "# DuckDB"
   ]
  },
  {
   "cell_type": "markdown",
   "metadata": {},
   "source": [
    "## a. Maximum Number of States Selected (10 pts)"
   ]
  },
  {
   "cell_type": "code",
   "execution_count": 24,
   "metadata": {},
   "outputs": [],
   "source": [
    "import duckdb"
   ]
  },
  {
   "cell_type": "code",
   "execution_count": 25,
   "metadata": {},
   "outputs": [],
   "source": [
    "con = duckdb.connect()"
   ]
  },
  {
   "cell_type": "code",
   "execution_count": 26,
   "metadata": {},
   "outputs": [
    {
     "data": {
      "text/plain": [
       "<duckdb.DuckDBPyConnection at 0x12d7536f0>"
      ]
     },
     "execution_count": 26,
     "metadata": {},
     "output_type": "execute_result"
    }
   ],
   "source": [
    "con.execute('CREATE TABLE survey AS SELECT * from read_csv_auto(\"aam-salary-survey.csv.gz\")')"
   ]
  },
  {
   "cell_type": "code",
   "execution_count": 27,
   "metadata": {},
   "outputs": [
    {
     "data": {
      "text/plain": [
       "[('4/27/2021 11:02:10',\n",
       "  '25-34',\n",
       "  'Education (Higher Education)',\n",
       "  'Research and Instruction Librarian',\n",
       "  None,\n",
       "  '55,000',\n",
       "  0,\n",
       "  'USD',\n",
       "  None,\n",
       "  None,\n",
       "  'United States',\n",
       "  'Massachusetts',\n",
       "  'Boston',\n",
       "  '5-7 years',\n",
       "  '5-7 years',\n",
       "  \"Master's degree\",\n",
       "  'Woman',\n",
       "  'White')]"
      ]
     },
     "execution_count": 27,
     "metadata": {},
     "output_type": "execute_result"
    }
   ],
   "source": [
    "con.execute(\"SELECT * from survey LIMIT 1\").fetchall()"
   ]
  },
  {
   "cell_type": "code",
   "execution_count": 28,
   "metadata": {},
   "outputs": [
    {
     "data": {
      "text/plain": [
       "<duckdb.DuckDBPyConnection at 0x12d7536f0>"
      ]
     },
     "execution_count": 28,
     "metadata": {},
     "output_type": "execute_result"
    }
   ],
   "source": [
    "con.execute(\"\"\"create table states_list_table AS (select \"JobTitle\", \"Timestamp\", \"Salary\", str_split(state,', ') AS states from survey)\"\"\")"
   ]
  },
  {
   "cell_type": "code",
   "execution_count": 29,
   "metadata": {},
   "outputs": [
    {
     "data": {
      "text/plain": [
       "[(0, 'JobTitle', 'VARCHAR', False, None, False),\n",
       " (1, 'Timestamp', 'VARCHAR', False, None, False),\n",
       " (2, 'Salary', 'VARCHAR', False, None, False),\n",
       " (3, 'states', 'VARCHAR[]', False, None, False)]"
      ]
     },
     "execution_count": 29,
     "metadata": {},
     "output_type": "execute_result"
    }
   ],
   "source": [
    "con.execute(\"\"\"PRAGMA table_info(\"states_list_table\")\"\"\").fetchall()"
   ]
  },
  {
   "cell_type": "code",
   "execution_count": 30,
   "metadata": {},
   "outputs": [
    {
     "data": {
      "text/plain": [
       "[('Research and Instruction Librarian',\n",
       "  '4/27/2021 11:02:10',\n",
       "  '55,000',\n",
       "  ['Massachusetts']),\n",
       " ('Change & Internal Communications Manager',\n",
       "  '4/27/2021 11:02:22',\n",
       "  '54,600',\n",
       "  None),\n",
       " ('Marketing Specialist', '4/27/2021 11:02:38', '34,000', ['Tennessee']),\n",
       " ('Program Manager', '4/27/2021 11:02:41', '62,000', ['Wisconsin']),\n",
       " ('Accounting Manager', '4/27/2021 11:02:42', '60,000', ['South Carolina'])]"
      ]
     },
     "execution_count": 30,
     "metadata": {},
     "output_type": "execute_result"
    }
   ],
   "source": [
    "con.execute(\"\"\"select * from states_list_table LIMIT 5\"\"\").fetchall()"
   ]
  },
  {
   "cell_type": "code",
   "execution_count": 31,
   "metadata": {},
   "outputs": [],
   "source": [
    "# con.execute(\"\"\"select arg_max(array_length(states), states) from states_list_table\"\"\").fetchall()"
   ]
  },
  {
   "cell_type": "code",
   "execution_count": 32,
   "metadata": {},
   "outputs": [
    {
     "data": {
      "text/html": [
       "<div>\n",
       "<style scoped>\n",
       "    .dataframe tbody tr th:only-of-type {\n",
       "        vertical-align: middle;\n",
       "    }\n",
       "\n",
       "    .dataframe tbody tr th {\n",
       "        vertical-align: top;\n",
       "    }\n",
       "\n",
       "    .dataframe thead th {\n",
       "        text-align: right;\n",
       "    }\n",
       "</style>\n",
       "<table border=\"1\" class=\"dataframe\">\n",
       "  <thead>\n",
       "    <tr style=\"text-align: right;\">\n",
       "      <th></th>\n",
       "      <th>JobTitle</th>\n",
       "      <th>Timestamp</th>\n",
       "      <th>Salary</th>\n",
       "      <th>states</th>\n",
       "    </tr>\n",
       "  </thead>\n",
       "  <tbody>\n",
       "    <tr>\n",
       "      <th>0</th>\n",
       "      <td>Project Controls Consultant</td>\n",
       "      <td>4/28/2021 18:42:25</td>\n",
       "      <td>125,000</td>\n",
       "      <td>[Arkansas, Idaho, Kansas, Louisiana, Michigan,...</td>\n",
       "    </tr>\n",
       "  </tbody>\n",
       "</table>\n",
       "</div>"
      ],
      "text/plain": [
       "                      JobTitle           Timestamp   Salary  \\\n",
       "0  Project Controls Consultant  4/28/2021 18:42:25  125,000   \n",
       "\n",
       "                                              states  \n",
       "0  [Arkansas, Idaho, Kansas, Louisiana, Michigan,...  "
      ]
     },
     "execution_count": 32,
     "metadata": {},
     "output_type": "execute_result"
    }
   ],
   "source": [
    "con.execute(\"\"\"select * from states_list_table WHERE states IS NOT NULL order by array_length(states) DESC LIMIT 1\"\"\").df()"
   ]
  },
  {
   "cell_type": "markdown",
   "metadata": {},
   "source": [
    "## b. Number of Participants Working in Illinois (10 pts)"
   ]
  },
  {
   "cell_type": "code",
   "execution_count": 33,
   "metadata": {},
   "outputs": [
    {
     "name": "stdout",
     "output_type": "stream",
     "text": [
      "Number of Participants Working in Illinois is 1216\n"
     ]
    }
   ],
   "source": [
    "x = con.execute(\"\"\"select count(t) from (select * from states_list_table WHERE 'Illinois' in (select unnest(states))) tbl(t)\"\"\").fetchall()\n",
    "print(\"Number of Participants Working in Illinois is\",x[0][0])"
   ]
  },
  {
   "cell_type": "markdown",
   "metadata": {},
   "source": [
    "## c. Highest US Salary (10 pts)"
   ]
  },
  {
   "cell_type": "code",
   "execution_count": 34,
   "metadata": {},
   "outputs": [
    {
     "data": {
      "text/plain": [
       "<duckdb.DuckDBPyConnection at 0x12d7536f0>"
      ]
     },
     "execution_count": 34,
     "metadata": {},
     "output_type": "execute_result"
    }
   ],
   "source": [
    "con.execute(\"\"\"update survey set Salary = replace(Salary, ',', '')\"\"\")"
   ]
  },
  {
   "cell_type": "code",
   "execution_count": 35,
   "metadata": {},
   "outputs": [
    {
     "data": {
      "text/html": [
       "<div>\n",
       "<style scoped>\n",
       "    .dataframe tbody tr th:only-of-type {\n",
       "        vertical-align: middle;\n",
       "    }\n",
       "\n",
       "    .dataframe tbody tr th {\n",
       "        vertical-align: top;\n",
       "    }\n",
       "\n",
       "    .dataframe thead th {\n",
       "        text-align: right;\n",
       "    }\n",
       "</style>\n",
       "<table border=\"1\" class=\"dataframe\">\n",
       "  <thead>\n",
       "    <tr style=\"text-align: right;\">\n",
       "      <th></th>\n",
       "      <th>Timestamp</th>\n",
       "      <th>Age</th>\n",
       "      <th>Industry</th>\n",
       "      <th>JobTitle</th>\n",
       "      <th>JobDetails</th>\n",
       "      <th>Salary</th>\n",
       "      <th>ExtraComp</th>\n",
       "      <th>Currency</th>\n",
       "      <th>CurrencyOther</th>\n",
       "      <th>IncomeDetails</th>\n",
       "      <th>Country</th>\n",
       "      <th>State</th>\n",
       "      <th>City</th>\n",
       "      <th>ExpOverall</th>\n",
       "      <th>ExpInField</th>\n",
       "      <th>Education</th>\n",
       "      <th>Gender</th>\n",
       "      <th>Race</th>\n",
       "    </tr>\n",
       "  </thead>\n",
       "  <tbody>\n",
       "    <tr>\n",
       "      <th>0</th>\n",
       "      <td>4/27/2021 11:02:10</td>\n",
       "      <td>25-34</td>\n",
       "      <td>Education (Higher Education)</td>\n",
       "      <td>Research and Instruction Librarian</td>\n",
       "      <td>NaN</td>\n",
       "      <td>55000</td>\n",
       "      <td>0.0</td>\n",
       "      <td>USD</td>\n",
       "      <td>NaN</td>\n",
       "      <td>NaN</td>\n",
       "      <td>United States</td>\n",
       "      <td>Massachusetts</td>\n",
       "      <td>Boston</td>\n",
       "      <td>5-7 years</td>\n",
       "      <td>5-7 years</td>\n",
       "      <td>Master's degree</td>\n",
       "      <td>Woman</td>\n",
       "      <td>White</td>\n",
       "    </tr>\n",
       "    <tr>\n",
       "      <th>1</th>\n",
       "      <td>4/27/2021 11:02:22</td>\n",
       "      <td>25-34</td>\n",
       "      <td>Computing or Tech</td>\n",
       "      <td>Change &amp; Internal Communications Manager</td>\n",
       "      <td>NaN</td>\n",
       "      <td>54600</td>\n",
       "      <td>4000.0</td>\n",
       "      <td>GBP</td>\n",
       "      <td>NaN</td>\n",
       "      <td>NaN</td>\n",
       "      <td>United Kingdom</td>\n",
       "      <td>NaN</td>\n",
       "      <td>Cambridge</td>\n",
       "      <td>8 - 10 years</td>\n",
       "      <td>5-7 years</td>\n",
       "      <td>College degree</td>\n",
       "      <td>Non-binary</td>\n",
       "      <td>White</td>\n",
       "    </tr>\n",
       "    <tr>\n",
       "      <th>2</th>\n",
       "      <td>4/27/2021 11:02:38</td>\n",
       "      <td>25-34</td>\n",
       "      <td>Accounting, Banking &amp; Finance</td>\n",
       "      <td>Marketing Specialist</td>\n",
       "      <td>NaN</td>\n",
       "      <td>34000</td>\n",
       "      <td>NaN</td>\n",
       "      <td>USD</td>\n",
       "      <td>NaN</td>\n",
       "      <td>NaN</td>\n",
       "      <td>US</td>\n",
       "      <td>Tennessee</td>\n",
       "      <td>Chattanooga</td>\n",
       "      <td>2 - 4 years</td>\n",
       "      <td>2 - 4 years</td>\n",
       "      <td>College degree</td>\n",
       "      <td>Woman</td>\n",
       "      <td>White</td>\n",
       "    </tr>\n",
       "    <tr>\n",
       "      <th>3</th>\n",
       "      <td>4/27/2021 11:02:41</td>\n",
       "      <td>25-34</td>\n",
       "      <td>Nonprofits</td>\n",
       "      <td>Program Manager</td>\n",
       "      <td>NaN</td>\n",
       "      <td>62000</td>\n",
       "      <td>3000.0</td>\n",
       "      <td>USD</td>\n",
       "      <td>NaN</td>\n",
       "      <td>NaN</td>\n",
       "      <td>USA</td>\n",
       "      <td>Wisconsin</td>\n",
       "      <td>Milwaukee</td>\n",
       "      <td>8 - 10 years</td>\n",
       "      <td>5-7 years</td>\n",
       "      <td>College degree</td>\n",
       "      <td>Woman</td>\n",
       "      <td>White</td>\n",
       "    </tr>\n",
       "    <tr>\n",
       "      <th>4</th>\n",
       "      <td>4/27/2021 11:02:42</td>\n",
       "      <td>25-34</td>\n",
       "      <td>Accounting, Banking &amp; Finance</td>\n",
       "      <td>Accounting Manager</td>\n",
       "      <td>NaN</td>\n",
       "      <td>60000</td>\n",
       "      <td>7000.0</td>\n",
       "      <td>USD</td>\n",
       "      <td>NaN</td>\n",
       "      <td>NaN</td>\n",
       "      <td>US</td>\n",
       "      <td>South Carolina</td>\n",
       "      <td>Greenville</td>\n",
       "      <td>8 - 10 years</td>\n",
       "      <td>5-7 years</td>\n",
       "      <td>College degree</td>\n",
       "      <td>Woman</td>\n",
       "      <td>White</td>\n",
       "    </tr>\n",
       "  </tbody>\n",
       "</table>\n",
       "</div>"
      ],
      "text/plain": [
       "            Timestamp    Age                       Industry  \\\n",
       "0  4/27/2021 11:02:10  25-34   Education (Higher Education)   \n",
       "1  4/27/2021 11:02:22  25-34              Computing or Tech   \n",
       "2  4/27/2021 11:02:38  25-34  Accounting, Banking & Finance   \n",
       "3  4/27/2021 11:02:41  25-34                     Nonprofits   \n",
       "4  4/27/2021 11:02:42  25-34  Accounting, Banking & Finance   \n",
       "\n",
       "                                   JobTitle JobDetails Salary  ExtraComp  \\\n",
       "0        Research and Instruction Librarian        NaN  55000        0.0   \n",
       "1  Change & Internal Communications Manager        NaN  54600     4000.0   \n",
       "2                      Marketing Specialist        NaN  34000        NaN   \n",
       "3                           Program Manager        NaN  62000     3000.0   \n",
       "4                        Accounting Manager        NaN  60000     7000.0   \n",
       "\n",
       "  Currency CurrencyOther IncomeDetails         Country           State  \\\n",
       "0      USD           NaN           NaN   United States   Massachusetts   \n",
       "1      GBP           NaN           NaN  United Kingdom             NaN   \n",
       "2      USD           NaN           NaN              US       Tennessee   \n",
       "3      USD           NaN           NaN             USA       Wisconsin   \n",
       "4      USD           NaN           NaN              US  South Carolina   \n",
       "\n",
       "          City    ExpOverall   ExpInField        Education      Gender   Race  \n",
       "0       Boston     5-7 years    5-7 years  Master's degree       Woman  White  \n",
       "1    Cambridge  8 - 10 years    5-7 years   College degree  Non-binary  White  \n",
       "2  Chattanooga   2 - 4 years  2 - 4 years   College degree       Woman  White  \n",
       "3    Milwaukee  8 - 10 years    5-7 years   College degree       Woman  White  \n",
       "4   Greenville  8 - 10 years    5-7 years   College degree       Woman  White  "
      ]
     },
     "execution_count": 35,
     "metadata": {},
     "output_type": "execute_result"
    }
   ],
   "source": [
    "# con.execute(\"\"\"alter table survey alter column Salary type INTEGER\"\"\").fetchall()\n",
    "# con.execute(\"\"\"PRAGMA table_info('survey')\"\"\").fetchall()\n",
    "con.execute(\"\"\"select * from survey limit 5\"\"\").df()\n"
   ]
  },
  {
   "cell_type": "code",
   "execution_count": 36,
   "metadata": {},
   "outputs": [
    {
     "data": {
      "text/html": [
       "<div>\n",
       "<style scoped>\n",
       "    .dataframe tbody tr th:only-of-type {\n",
       "        vertical-align: middle;\n",
       "    }\n",
       "\n",
       "    .dataframe tbody tr th {\n",
       "        vertical-align: top;\n",
       "    }\n",
       "\n",
       "    .dataframe thead th {\n",
       "        text-align: right;\n",
       "    }\n",
       "</style>\n",
       "<table border=\"1\" class=\"dataframe\">\n",
       "  <thead>\n",
       "    <tr style=\"text-align: right;\">\n",
       "      <th></th>\n",
       "      <th>Salary</th>\n",
       "    </tr>\n",
       "  </thead>\n",
       "  <tbody>\n",
       "    <tr>\n",
       "      <th>0</th>\n",
       "      <td>102000000</td>\n",
       "    </tr>\n",
       "  </tbody>\n",
       "</table>\n",
       "</div>"
      ],
      "text/plain": [
       "      Salary\n",
       "0  102000000"
      ]
     },
     "execution_count": 36,
     "metadata": {},
     "output_type": "execute_result"
    }
   ],
   "source": [
    "con.execute(\"\"\"select Salary from survey where Currency = 'USD' order by try_cast(Salary as INTEGER) DESC limit 1\"\"\").df()"
   ]
  },
  {
   "cell_type": "markdown",
   "metadata": {},
   "source": [
    "## d. Latest Entry in 2021 (10 pts)"
   ]
  },
  {
   "cell_type": "code",
   "execution_count": 37,
   "metadata": {},
   "outputs": [
    {
     "data": {
      "text/plain": [
       "[(27925,)]"
      ]
     },
     "execution_count": 37,
     "metadata": {},
     "output_type": "execute_result"
    }
   ],
   "source": [
    "# con.execute(\"\"\"Drop table for_last_entry\"\"\")\n",
    "con.execute(\"\"\"create table for_last_entry as (select strptime(Timestamp, '%m/%d/%Y %H:%M:%S') as Timestamp, Salary from survey)\"\"\").fetchall()"
   ]
  },
  {
   "cell_type": "code",
   "execution_count": 38,
   "metadata": {},
   "outputs": [
    {
     "data": {
      "text/plain": [
       "[(0, 'timestamp', 'TIMESTAMP', False, None, False),\n",
       " (1, 'Salary', 'VARCHAR', False, None, False)]"
      ]
     },
     "execution_count": 38,
     "metadata": {},
     "output_type": "execute_result"
    }
   ],
   "source": [
    "con.execute(\"\"\"PRAGMA table_info(\"for_last_entry\")\"\"\").fetchall()"
   ]
  },
  {
   "cell_type": "code",
   "execution_count": 39,
   "metadata": {},
   "outputs": [
    {
     "data": {
      "text/html": [
       "<div>\n",
       "<style scoped>\n",
       "    .dataframe tbody tr th:only-of-type {\n",
       "        vertical-align: middle;\n",
       "    }\n",
       "\n",
       "    .dataframe tbody tr th {\n",
       "        vertical-align: top;\n",
       "    }\n",
       "\n",
       "    .dataframe thead th {\n",
       "        text-align: right;\n",
       "    }\n",
       "</style>\n",
       "<table border=\"1\" class=\"dataframe\">\n",
       "  <thead>\n",
       "    <tr style=\"text-align: right;\">\n",
       "      <th></th>\n",
       "      <th>timestamp</th>\n",
       "      <th>Salary</th>\n",
       "    </tr>\n",
       "  </thead>\n",
       "  <tbody>\n",
       "    <tr>\n",
       "      <th>0</th>\n",
       "      <td>2021-12-31 20:57:28</td>\n",
       "      <td>85000</td>\n",
       "    </tr>\n",
       "  </tbody>\n",
       "</table>\n",
       "</div>"
      ],
      "text/plain": [
       "            timestamp Salary\n",
       "0 2021-12-31 20:57:28  85000"
      ]
     },
     "execution_count": 39,
     "metadata": {},
     "output_type": "execute_result"
    }
   ],
   "source": [
    "con.execute(\"\"\"select * from for_last_entry where YEAR(timestamp) == 2021 and timestamp<'2022-01-01 00:00:00' order by timestamp DESC limit 1\"\"\").df()"
   ]
  },
  {
   "cell_type": "markdown",
   "metadata": {},
   "source": [
    "## e. Top 10 Ways to Identify the U.S. (10 pts)"
   ]
  },
  {
   "cell_type": "code",
   "execution_count": 40,
   "metadata": {},
   "outputs": [
    {
     "data": {
      "text/plain": [
       "[('United States', 8885),\n",
       " ('USA', 7851),\n",
       " ('US', 2585),\n",
       " ('United States ', 657),\n",
       " ('U.S.', 571),\n",
       " ('USA ', 464),\n",
       " ('Usa', 443),\n",
       " ('United States of America', 424),\n",
       " ('United states', 205),\n",
       " ('usa', 182)]"
      ]
     },
     "execution_count": 40,
     "metadata": {},
     "output_type": "execute_result"
    }
   ],
   "source": [
    "con.execute(\"\"\"select Country, count(Timestamp) from survey where state is NOT NULL group by country order by count(Timestamp) DESC limit 10\"\"\").fetchall()"
   ]
  },
  {
   "cell_type": "markdown",
   "metadata": {},
   "source": [
    "## Ibis"
   ]
  },
  {
   "cell_type": "markdown",
   "metadata": {},
   "source": [
    "## a. Maximum Number of States Selected (10 pts)"
   ]
  },
  {
   "cell_type": "code",
   "execution_count": 41,
   "metadata": {},
   "outputs": [],
   "source": [
    "import ibis"
   ]
  },
  {
   "cell_type": "code",
   "execution_count": 42,
   "metadata": {},
   "outputs": [],
   "source": [
    "t = ibis.read_csv(\"aam-salary-survey.csv.gz\")"
   ]
  },
  {
   "cell_type": "code",
   "execution_count": 43,
   "metadata": {},
   "outputs": [
    {
     "data": {
      "text/plain": [
       "ibis.expr.types.relations.Table"
      ]
     },
     "execution_count": 43,
     "metadata": {},
     "output_type": "execute_result"
    }
   ],
   "source": [
    "type(t)"
   ]
  },
  {
   "cell_type": "code",
   "execution_count": 44,
   "metadata": {},
   "outputs": [
    {
     "data": {
      "text/html": [
       "<div>\n",
       "<style scoped>\n",
       "    .dataframe tbody tr th:only-of-type {\n",
       "        vertical-align: middle;\n",
       "    }\n",
       "\n",
       "    .dataframe tbody tr th {\n",
       "        vertical-align: top;\n",
       "    }\n",
       "\n",
       "    .dataframe thead th {\n",
       "        text-align: right;\n",
       "    }\n",
       "</style>\n",
       "<table border=\"1\" class=\"dataframe\">\n",
       "  <thead>\n",
       "    <tr style=\"text-align: right;\">\n",
       "      <th></th>\n",
       "      <th>Timestamp</th>\n",
       "      <th>Age</th>\n",
       "      <th>Industry</th>\n",
       "      <th>JobTitle</th>\n",
       "      <th>JobDetails</th>\n",
       "      <th>Salary</th>\n",
       "      <th>ExtraComp</th>\n",
       "      <th>Currency</th>\n",
       "      <th>CurrencyOther</th>\n",
       "      <th>IncomeDetails</th>\n",
       "      <th>Country</th>\n",
       "      <th>State</th>\n",
       "      <th>City</th>\n",
       "      <th>ExpOverall</th>\n",
       "      <th>ExpInField</th>\n",
       "      <th>Education</th>\n",
       "      <th>Gender</th>\n",
       "      <th>Race</th>\n",
       "    </tr>\n",
       "  </thead>\n",
       "  <tbody>\n",
       "    <tr>\n",
       "      <th>0</th>\n",
       "      <td>4/27/2021 11:02:10</td>\n",
       "      <td>25-34</td>\n",
       "      <td>Education (Higher Education)</td>\n",
       "      <td>Research and Instruction Librarian</td>\n",
       "      <td>None</td>\n",
       "      <td>55,000</td>\n",
       "      <td>0.0</td>\n",
       "      <td>USD</td>\n",
       "      <td>None</td>\n",
       "      <td>None</td>\n",
       "      <td>United States</td>\n",
       "      <td>Massachusetts</td>\n",
       "      <td>Boston</td>\n",
       "      <td>5-7 years</td>\n",
       "      <td>5-7 years</td>\n",
       "      <td>Master's degree</td>\n",
       "      <td>Woman</td>\n",
       "      <td>White</td>\n",
       "    </tr>\n",
       "    <tr>\n",
       "      <th>1</th>\n",
       "      <td>4/27/2021 11:02:22</td>\n",
       "      <td>25-34</td>\n",
       "      <td>Computing or Tech</td>\n",
       "      <td>Change &amp; Internal Communications Manager</td>\n",
       "      <td>None</td>\n",
       "      <td>54,600</td>\n",
       "      <td>4000.0</td>\n",
       "      <td>GBP</td>\n",
       "      <td>None</td>\n",
       "      <td>None</td>\n",
       "      <td>United Kingdom</td>\n",
       "      <td>None</td>\n",
       "      <td>Cambridge</td>\n",
       "      <td>8 - 10 years</td>\n",
       "      <td>5-7 years</td>\n",
       "      <td>College degree</td>\n",
       "      <td>Non-binary</td>\n",
       "      <td>White</td>\n",
       "    </tr>\n",
       "    <tr>\n",
       "      <th>2</th>\n",
       "      <td>4/27/2021 11:02:38</td>\n",
       "      <td>25-34</td>\n",
       "      <td>Accounting, Banking &amp; Finance</td>\n",
       "      <td>Marketing Specialist</td>\n",
       "      <td>None</td>\n",
       "      <td>34,000</td>\n",
       "      <td>NaN</td>\n",
       "      <td>USD</td>\n",
       "      <td>None</td>\n",
       "      <td>None</td>\n",
       "      <td>US</td>\n",
       "      <td>Tennessee</td>\n",
       "      <td>Chattanooga</td>\n",
       "      <td>2 - 4 years</td>\n",
       "      <td>2 - 4 years</td>\n",
       "      <td>College degree</td>\n",
       "      <td>Woman</td>\n",
       "      <td>White</td>\n",
       "    </tr>\n",
       "    <tr>\n",
       "      <th>3</th>\n",
       "      <td>4/27/2021 11:02:41</td>\n",
       "      <td>25-34</td>\n",
       "      <td>Nonprofits</td>\n",
       "      <td>Program Manager</td>\n",
       "      <td>None</td>\n",
       "      <td>62,000</td>\n",
       "      <td>3000.0</td>\n",
       "      <td>USD</td>\n",
       "      <td>None</td>\n",
       "      <td>None</td>\n",
       "      <td>USA</td>\n",
       "      <td>Wisconsin</td>\n",
       "      <td>Milwaukee</td>\n",
       "      <td>8 - 10 years</td>\n",
       "      <td>5-7 years</td>\n",
       "      <td>College degree</td>\n",
       "      <td>Woman</td>\n",
       "      <td>White</td>\n",
       "    </tr>\n",
       "    <tr>\n",
       "      <th>4</th>\n",
       "      <td>4/27/2021 11:02:42</td>\n",
       "      <td>25-34</td>\n",
       "      <td>Accounting, Banking &amp; Finance</td>\n",
       "      <td>Accounting Manager</td>\n",
       "      <td>None</td>\n",
       "      <td>60,000</td>\n",
       "      <td>7000.0</td>\n",
       "      <td>USD</td>\n",
       "      <td>None</td>\n",
       "      <td>None</td>\n",
       "      <td>US</td>\n",
       "      <td>South Carolina</td>\n",
       "      <td>Greenville</td>\n",
       "      <td>8 - 10 years</td>\n",
       "      <td>5-7 years</td>\n",
       "      <td>College degree</td>\n",
       "      <td>Woman</td>\n",
       "      <td>White</td>\n",
       "    </tr>\n",
       "  </tbody>\n",
       "</table>\n",
       "</div>"
      ],
      "text/plain": [
       "            Timestamp    Age                       Industry  \\\n",
       "0  4/27/2021 11:02:10  25-34   Education (Higher Education)   \n",
       "1  4/27/2021 11:02:22  25-34              Computing or Tech   \n",
       "2  4/27/2021 11:02:38  25-34  Accounting, Banking & Finance   \n",
       "3  4/27/2021 11:02:41  25-34                     Nonprofits   \n",
       "4  4/27/2021 11:02:42  25-34  Accounting, Banking & Finance   \n",
       "\n",
       "                                   JobTitle JobDetails  Salary  ExtraComp  \\\n",
       "0        Research and Instruction Librarian       None  55,000        0.0   \n",
       "1  Change & Internal Communications Manager       None  54,600     4000.0   \n",
       "2                      Marketing Specialist       None  34,000        NaN   \n",
       "3                           Program Manager       None  62,000     3000.0   \n",
       "4                        Accounting Manager       None  60,000     7000.0   \n",
       "\n",
       "  Currency CurrencyOther IncomeDetails         Country           State  \\\n",
       "0      USD          None          None   United States   Massachusetts   \n",
       "1      GBP          None          None  United Kingdom            None   \n",
       "2      USD          None          None              US       Tennessee   \n",
       "3      USD          None          None             USA       Wisconsin   \n",
       "4      USD          None          None              US  South Carolina   \n",
       "\n",
       "          City    ExpOverall   ExpInField        Education      Gender   Race  \n",
       "0       Boston     5-7 years    5-7 years  Master's degree       Woman  White  \n",
       "1    Cambridge  8 - 10 years    5-7 years   College degree  Non-binary  White  \n",
       "2  Chattanooga   2 - 4 years  2 - 4 years   College degree       Woman  White  \n",
       "3    Milwaukee  8 - 10 years    5-7 years   College degree       Woman  White  \n",
       "4   Greenville  8 - 10 years    5-7 years   College degree       Woman  White  "
      ]
     },
     "execution_count": 44,
     "metadata": {},
     "output_type": "execute_result"
    }
   ],
   "source": [
    "t.head(5).execute()"
   ]
  },
  {
   "cell_type": "code",
   "execution_count": 45,
   "metadata": {},
   "outputs": [],
   "source": [
    "t = t.mutate(states_list = t.State.split(\", \"))"
   ]
  },
  {
   "cell_type": "code",
   "execution_count": 46,
   "metadata": {},
   "outputs": [
    {
     "data": {
      "text/html": [
       "<pre style=\"white-space:pre;overflow-x:auto;line-height:normal;font-family:Menlo,'DejaVu Sans Mono',consolas,'Courier New',monospace\">r0 := AlchemyTable: ibis_read_csv_0\n",
       "  Timestamp     string\n",
       "  Age           string\n",
       "  Industry      string\n",
       "  JobTitle      string\n",
       "  JobDetails    string\n",
       "  Salary        string\n",
       "  ExtraComp     int32\n",
       "  Currency      string\n",
       "  CurrencyOther string\n",
       "  IncomeDetails string\n",
       "  Country       string\n",
       "  State         string\n",
       "  City          string\n",
       "  ExpOverall    string\n",
       "  ExpInField    string\n",
       "  Education     string\n",
       "  Gender        string\n",
       "  Race          string\n",
       "\n",
       "r1 := Selection[r0]\n",
       "  selections:\n",
       "    r0\n",
       "    states_list:     StringSplit(r0.State, delimiter=', ')\n",
       "\n",
       "Selection[r1]\n",
       "  selections:\n",
       "    states_list: r1.states_list\n",
       "</pre>\n"
      ],
      "text/plain": [
       "r0 := AlchemyTable: ibis_read_csv_0\n",
       "  Timestamp     string\n",
       "  Age           string\n",
       "  Industry      string\n",
       "  JobTitle      string\n",
       "  JobDetails    string\n",
       "  Salary        string\n",
       "  ExtraComp     int32\n",
       "  Currency      string\n",
       "  CurrencyOther string\n",
       "  IncomeDetails string\n",
       "  Country       string\n",
       "  State         string\n",
       "  City          string\n",
       "  ExpOverall    string\n",
       "  ExpInField    string\n",
       "  Education     string\n",
       "  Gender        string\n",
       "  Race          string\n",
       "\n",
       "r1 := Selection[r0]\n",
       "  selections:\n",
       "    r0\n",
       "    states_list:     StringSplit(r0.State, delimiter=', ')\n",
       "\n",
       "Selection[r1]\n",
       "  selections:\n",
       "    states_list: r1.states_list"
      ]
     },
     "execution_count": 46,
     "metadata": {},
     "output_type": "execute_result"
    }
   ],
   "source": [
    "t.states_list"
   ]
  },
  {
   "cell_type": "code",
   "execution_count": 47,
   "metadata": {},
   "outputs": [],
   "source": [
    "t = t.mutate(states_list_len = t.states_list.length())"
   ]
  },
  {
   "cell_type": "code",
   "execution_count": 48,
   "metadata": {},
   "outputs": [],
   "source": [
    "ibis.options.interactive = True"
   ]
  },
  {
   "cell_type": "code",
   "execution_count": 49,
   "metadata": {},
   "outputs": [],
   "source": [
    "t1 = t.filter(t.states_list_len == t.states_list_len.max())"
   ]
  },
  {
   "cell_type": "code",
   "execution_count": 50,
   "metadata": {},
   "outputs": [
    {
     "data": {
      "text/html": [
       "<pre style=\"white-space:pre;overflow-x:auto;line-height:normal;font-family:Menlo,'DejaVu Sans Mono',consolas,'Courier New',monospace\">┏━━━━━━━━━┳━━━━━━━━━━━━━━━━━━━━━━━━━━━━━┓\n",
       "┃<span style=\"font-weight: bold\"> Salary  </span>┃<span style=\"font-weight: bold\"> JobTitle                    </span>┃\n",
       "┡━━━━━━━━━╇━━━━━━━━━━━━━━━━━━━━━━━━━━━━━┩\n",
       "│ <span style=\"color: #000080; text-decoration-color: #000080; font-weight: bold\">string</span>  │ <span style=\"color: #000080; text-decoration-color: #000080; font-weight: bold\">string</span>                      │\n",
       "├─────────┼─────────────────────────────┤\n",
       "│ 125,000 │ Project Controls Consultant │\n",
       "└─────────┴─────────────────────────────┘\n",
       "</pre>\n"
      ],
      "text/plain": [
       "┏━━━━━━━━━┳━━━━━━━━━━━━━━━━━━━━━━━━━━━━━┓\n",
       "┃\u001b[1m \u001b[0m\u001b[1mSalary\u001b[0m\u001b[1m \u001b[0m\u001b[1m \u001b[0m┃\u001b[1m \u001b[0m\u001b[1mJobTitle\u001b[0m\u001b[1m                   \u001b[0m\u001b[1m \u001b[0m┃\n",
       "┡━━━━━━━━━╇━━━━━━━━━━━━━━━━━━━━━━━━━━━━━┩\n",
       "│ \u001b[1;34mstring\u001b[0m  │ \u001b[1;34mstring\u001b[0m                      │\n",
       "├─────────┼─────────────────────────────┤\n",
       "│ 125,000 │ Project Controls Consultant │\n",
       "└─────────┴─────────────────────────────┘"
      ]
     },
     "execution_count": 50,
     "metadata": {},
     "output_type": "execute_result"
    }
   ],
   "source": [
    "t1.select([\"Salary\", \"JobTitle\"]).limit(1)"
   ]
  },
  {
   "cell_type": "markdown",
   "metadata": {},
   "source": [
    "## b. Number of Participants Working in Illinois (10 pts)"
   ]
  },
  {
   "cell_type": "code",
   "execution_count": 51,
   "metadata": {},
   "outputs": [],
   "source": [
    "# t_b = t.states_list.unnest().name(\"states\")\n",
    "t_b = t\n",
    "# len(t_b[t_b[\"states\"] == \"Illinois\"])\n",
    "t_b = t_b.mutate(states = t_b.states_list.unnest())"
   ]
  },
  {
   "cell_type": "code",
   "execution_count": 52,
   "metadata": {},
   "outputs": [
    {
     "data": {
      "text/html": [
       "<pre style=\"white-space:pre;overflow-x:auto;line-height:normal;font-family:Menlo,'DejaVu Sans Mono',consolas,'Courier New',monospace\"></pre>\n"
      ],
      "text/plain": []
     },
     "metadata": {},
     "output_type": "display_data"
    },
    {
     "data": {
      "text/plain": [
       "\u001b[1;36m1216\u001b[0m"
      ]
     },
     "execution_count": 52,
     "metadata": {},
     "output_type": "execute_result"
    }
   ],
   "source": [
    "(t_b.filter(t_b.states == \"Illinois\")).count()"
   ]
  },
  {
   "cell_type": "markdown",
   "metadata": {},
   "source": [
    "## c. Highest US Salary (10 pts)"
   ]
  },
  {
   "cell_type": "code",
   "execution_count": 53,
   "metadata": {},
   "outputs": [],
   "source": [
    "t = t.mutate(Salary = t.Salary.replace(\",\",\"\"))"
   ]
  },
  {
   "cell_type": "code",
   "execution_count": 54,
   "metadata": {},
   "outputs": [],
   "source": [
    "t = t.mutate(Salary = t.Salary.cast(\"float\"))"
   ]
  },
  {
   "cell_type": "code",
   "execution_count": 55,
   "metadata": {},
   "outputs": [
    {
     "data": {
      "text/html": [
       "<pre style=\"white-space:pre;overflow-x:auto;line-height:normal;font-family:Menlo,'DejaVu Sans Mono',consolas,'Courier New',monospace\"></pre>\n"
      ],
      "text/plain": []
     },
     "metadata": {},
     "output_type": "display_data"
    },
    {
     "data": {
      "text/plain": [
       "\u001b[1;36m102000000.0\u001b[0m"
      ]
     },
     "execution_count": 55,
     "metadata": {},
     "output_type": "execute_result"
    }
   ],
   "source": [
    "t_c = t.filter(t.Currency == \"USD\")\n",
    "t_c.Salary.max()"
   ]
  },
  {
   "cell_type": "markdown",
   "metadata": {},
   "source": [
    "## d. Latest Entry in 2021 (10 pts)"
   ]
  },
  {
   "cell_type": "code",
   "execution_count": 56,
   "metadata": {},
   "outputs": [],
   "source": [
    "t = t.mutate(Timestamp = t.Timestamp.to_timestamp(\"%m/%d/%Y %H:%M:%S\"))\n",
    "# 4/27/2021 11:02:42"
   ]
  },
  {
   "cell_type": "code",
   "execution_count": 57,
   "metadata": {},
   "outputs": [],
   "source": [
    "t_d = t.filter(t.Timestamp.year() == 2021)"
   ]
  },
  {
   "cell_type": "code",
   "execution_count": 58,
   "metadata": {},
   "outputs": [
    {
     "data": {
      "text/html": [
       "<pre style=\"white-space:pre;overflow-x:auto;line-height:normal;font-family:Menlo,'DejaVu Sans Mono',consolas,'Courier New',monospace\"></pre>\n"
      ],
      "text/plain": []
     },
     "metadata": {},
     "output_type": "display_data"
    },
    {
     "data": {
      "text/plain": [
       "\u001b[1;36m85000.0\u001b[0m"
      ]
     },
     "execution_count": 58,
     "metadata": {},
     "output_type": "execute_result"
    }
   ],
   "source": [
    "# t_d.filter([t.Timestamp.argmax()])\n",
    "t_d.Salary.argmax(t_d.Timestamp)"
   ]
  },
  {
   "cell_type": "markdown",
   "metadata": {},
   "source": [
    "## e. Top 10 Ways to Identify the U.S. (10 pts)"
   ]
  },
  {
   "cell_type": "code",
   "execution_count": 59,
   "metadata": {},
   "outputs": [],
   "source": [
    "# t_e = t.select([\"Country\", \"State\", \"Timestamp\"]).notnull(\"State\")\n",
    "t_e = t.filter(t.State.notnull())"
   ]
  },
  {
   "cell_type": "code",
   "execution_count": 60,
   "metadata": {},
   "outputs": [
    {
     "data": {
      "text/html": [
       "<pre style=\"white-space:pre;overflow-x:auto;line-height:normal;font-family:Menlo,'DejaVu Sans Mono',consolas,'Courier New',monospace\"></pre>\n"
      ],
      "text/plain": []
     },
     "metadata": {},
     "output_type": "display_data"
    },
    {
     "data": {
      "text/plain": [
       "\u001b[1;36m22947\u001b[0m"
      ]
     },
     "execution_count": 60,
     "metadata": {},
     "output_type": "execute_result"
    }
   ],
   "source": [
    "t_e.count()"
   ]
  },
  {
   "cell_type": "code",
   "execution_count": 61,
   "metadata": {},
   "outputs": [],
   "source": [
    "group = t_e.group_by(\"Country\").aggregate(count=t_e.Country.count())"
   ]
  },
  {
   "cell_type": "code",
   "execution_count": 62,
   "metadata": {},
   "outputs": [],
   "source": [
    "g = group.order_by([ibis.desc(\"count\")])"
   ]
  },
  {
   "cell_type": "code",
   "execution_count": 63,
   "metadata": {},
   "outputs": [
    {
     "data": {
      "text/html": [
       "<pre style=\"white-space:pre;overflow-x:auto;line-height:normal;font-family:Menlo,'DejaVu Sans Mono',consolas,'Courier New',monospace\">┏━━━━━━━━━━━━━━━━━━━━━━━━━━┳━━━━━━━┓\n",
       "┃<span style=\"font-weight: bold\"> Country                  </span>┃<span style=\"font-weight: bold\"> count </span>┃\n",
       "┡━━━━━━━━━━━━━━━━━━━━━━━━━━╇━━━━━━━┩\n",
       "│ <span style=\"color: #000080; text-decoration-color: #000080; font-weight: bold\">string</span>                   │ <span style=\"color: #000080; text-decoration-color: #000080; font-weight: bold\">int64</span> │\n",
       "├──────────────────────────┼───────┤\n",
       "│ United States            │  <span style=\"color: #008080; text-decoration-color: #008080; font-weight: bold\">8885</span> │\n",
       "│ USA                      │  <span style=\"color: #008080; text-decoration-color: #008080; font-weight: bold\">7851</span> │\n",
       "│ US                       │  <span style=\"color: #008080; text-decoration-color: #008080; font-weight: bold\">2585</span> │\n",
       "│ United States            │   <span style=\"color: #008080; text-decoration-color: #008080; font-weight: bold\">657</span> │\n",
       "│ U.S.                     │   <span style=\"color: #008080; text-decoration-color: #008080; font-weight: bold\">571</span> │\n",
       "│ USA                      │   <span style=\"color: #008080; text-decoration-color: #008080; font-weight: bold\">464</span> │\n",
       "│ Usa                      │   <span style=\"color: #008080; text-decoration-color: #008080; font-weight: bold\">443</span> │\n",
       "│ United States of America │   <span style=\"color: #008080; text-decoration-color: #008080; font-weight: bold\">424</span> │\n",
       "│ United states            │   <span style=\"color: #008080; text-decoration-color: #008080; font-weight: bold\">205</span> │\n",
       "│ usa                      │   <span style=\"color: #008080; text-decoration-color: #008080; font-weight: bold\">182</span> │\n",
       "└──────────────────────────┴───────┘\n",
       "</pre>\n"
      ],
      "text/plain": [
       "┏━━━━━━━━━━━━━━━━━━━━━━━━━━┳━━━━━━━┓\n",
       "┃\u001b[1m \u001b[0m\u001b[1mCountry\u001b[0m\u001b[1m                 \u001b[0m\u001b[1m \u001b[0m┃\u001b[1m \u001b[0m\u001b[1mcount\u001b[0m\u001b[1m \u001b[0m┃\n",
       "┡━━━━━━━━━━━━━━━━━━━━━━━━━━╇━━━━━━━┩\n",
       "│ \u001b[1;34mstring\u001b[0m                   │ \u001b[1;34mint64\u001b[0m │\n",
       "├──────────────────────────┼───────┤\n",
       "│ United States            │  \u001b[1;36m8885\u001b[0m │\n",
       "│ USA                      │  \u001b[1;36m7851\u001b[0m │\n",
       "│ US                       │  \u001b[1;36m2585\u001b[0m │\n",
       "│ United States            │   \u001b[1;36m657\u001b[0m │\n",
       "│ U.S.                     │   \u001b[1;36m571\u001b[0m │\n",
       "│ USA                      │   \u001b[1;36m464\u001b[0m │\n",
       "│ Usa                      │   \u001b[1;36m443\u001b[0m │\n",
       "│ United States of America │   \u001b[1;36m424\u001b[0m │\n",
       "│ United states            │   \u001b[1;36m205\u001b[0m │\n",
       "│ usa                      │   \u001b[1;36m182\u001b[0m │\n",
       "└──────────────────────────┴───────┘"
      ]
     },
     "execution_count": 63,
     "metadata": {},
     "output_type": "execute_result"
    }
   ],
   "source": [
    "g.limit(10)"
   ]
  },
  {
   "cell_type": "code",
   "execution_count": null,
   "metadata": {},
   "outputs": [],
   "source": []
  }
 ],
 "metadata": {
  "kernelspec": {
   "display_name": "Python 3.10.0 64-bit",
   "language": "python",
   "name": "python3"
  },
  "language_info": {
   "codemirror_mode": {
    "name": "ipython",
    "version": 3
   },
   "file_extension": ".py",
   "mimetype": "text/x-python",
   "name": "python",
   "nbconvert_exporter": "python",
   "pygments_lexer": "ipython3",
   "version": "3.10.0"
  },
  "orig_nbformat": 4,
  "vscode": {
   "interpreter": {
    "hash": "aee8b7b246df8f9039afb4144a1f6fd8d2ca17a180786b69acc140d282b71a49"
   }
  }
 },
 "nbformat": 4,
 "nbformat_minor": 2
}
